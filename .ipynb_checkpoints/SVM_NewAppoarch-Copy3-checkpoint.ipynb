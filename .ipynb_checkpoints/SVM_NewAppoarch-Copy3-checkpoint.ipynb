{
 "cells": [
  {
   "cell_type": "code",
   "execution_count": 1,
   "metadata": {},
   "outputs": [
    {
     "name": "stderr",
     "output_type": "stream",
     "text": [
      "/Users/davidleonardi/anaconda3/lib/python3.6/site-packages/ggplot/utils.py:81: FutureWarning: pandas.tslib is deprecated and will be removed in a future version.\n",
      "You can access Timestamp as pandas.Timestamp\n",
      "  pd.tslib.Timestamp,\n",
      "/Users/davidleonardi/anaconda3/lib/python3.6/site-packages/ggplot/stats/smoothers.py:4: FutureWarning: The pandas.lib module is deprecated and will be removed in a future version. These are private functions and can be accessed from pandas._libs.lib instead\n",
      "  from pandas.lib import Timestamp\n",
      "/Users/davidleonardi/anaconda3/lib/python3.6/site-packages/statsmodels/compat/pandas.py:56: FutureWarning: The pandas.core.datetools module is deprecated and will be removed in a future version. Please use the pandas.tseries module instead.\n",
      "  from pandas.core import datetools\n",
      "/Users/davidleonardi/anaconda3/lib/python3.6/site-packages/sklearn/cross_validation.py:41: DeprecationWarning: This module was deprecated in version 0.18 in favor of the model_selection module into which all the refactored classes and functions are moved. Also note that the interface of the new CV iterators are different from that of this module. This module will be removed in 0.20.\n",
      "  \"This module will be removed in 0.20.\", DeprecationWarning)\n"
     ]
    }
   ],
   "source": [
    "%matplotlib inline\n",
    "\n",
    "import pandas as pd\n",
    "import numpy as np\n",
    "import seaborn as sns\n",
    "\n",
    "from imblearn.over_sampling import SMOTE #for SMOTE -> install package using: conda install -c conda-forge imbalanced-learn\n",
    "from imblearn.over_sampling import RandomOverSampler \n",
    "from scipy import stats, integrate\n",
    "import matplotlib.pyplot as plt\n",
    "import ggplot\n",
    "import scipy\n",
    "from sklearn.linear_model import LogisticRegression \n",
    "from sklearn.model_selection import train_test_split \n",
    "from sklearn import metrics\n",
    "from sklearn.svm import LinearSVC\n",
    "from sklearn.svm import NuSVC\n",
    "#from sklearn.svm import SVR #just Testing for regression on other continous data of dataset\n",
    "from sklearn.decomposition import PCA, NMF\n",
    "from sklearn.preprocessing import OneHotEncoder\n",
    "from sklearn.datasets import load_digits\n",
    "from sklearn.feature_selection import SelectKBest, chi2\n",
    "\n",
    "\n",
    "import pylab as pl\n",
    "from itertools import cycle\n",
    "from sklearn import cross_validation\n",
    "from sklearn.svm import SVC\n",
    "\n",
    "features_list = ['age','sex','cp','trestbps','chol','fbs','restecg','thalach','exang','oldpeak','slope','ca','thal','class']\n",
    "dataset1=pd.read_csv(\"data/Heart_Disease_Data.csv\")\n"
   ]
  },
  {
   "cell_type": "code",
   "execution_count": 2,
   "metadata": {},
   "outputs": [
    {
     "name": "stderr",
     "output_type": "stream",
     "text": [
      "/Users/davidleonardi/anaconda3/lib/python3.6/site-packages/ipykernel_launcher.py:4: FutureWarning: convert_objects is deprecated.  Use the data-type specific converters pd.to_datetime, pd.to_timedelta and pd.to_numeric.\n",
      "  after removing the cwd from sys.path.\n"
     ]
    }
   ],
   "source": [
    "# SVM requires that each data instance is represented as a vector of real numbers\n",
    "# If you already have numeric dtypes (int8|16|32|64,float64,boolean) you can convert it to another \"numeric\" dtype using Pandas .astype() method. Demo: In [90]: df = pd.DataFrame(np.random.randint(10**5,10**7,(5,3)),columns=list('abc'), dtype=np.int64) In [91]: df Out[91]: a b c 0 9059440 9590567 2076918 1 5861102 4566089 1947323 2 6636568 162770 2487991 3 6794572 5236903 5628779 4 470121 4044395 4546794 In [92]: df.dtypes Out[92]: a int64 b int64 c int64 dtype: object In [93]: df['a'] = df['a'].astype(float) In [94]: df.dtypes Out[94]: a float64 b int64 c int64 dtype: object It won't work for object (string) dtypes, that can't be converted to numbers: In [95]: df.loc[1, 'b'] = 'XXXXXX' In [96]: df Out[96]:...\n",
    "# Just make everything numeric for ease, later we will convert to ordinal/one-hot encoding.\n",
    "dataset1 = dataset1.convert_objects(convert_numeric=True)\n",
    "dataset1 = dataset1.astype('float')"
   ]
  },
  {
   "cell_type": "markdown",
   "metadata": {},
   "source": [
    "#### count missing value in terms of colunms #######"
   ]
  },
  {
   "cell_type": "code",
   "execution_count": 3,
   "metadata": {},
   "outputs": [
    {
     "name": "stdout",
     "output_type": "stream",
     "text": [
      "age               False\n",
      "sex               False\n",
      "cp                False\n",
      "trestbps          False\n",
      "chol              False\n",
      "fbs               False\n",
      "restecg           False\n",
      "thalach           False\n",
      "exang             False\n",
      "oldpeak           False\n",
      "slop              False\n",
      "ca                 True\n",
      "thal               True\n",
      "pred_attribute    False\n",
      "dtype: bool\n"
     ]
    }
   ],
   "source": [
    "#dataset.shape[0] - dataset.count()\n",
    "print(dataset1.isnull().any())\n",
    "dataset1 = dataset1.replace('?', np.nan)"
   ]
  },
  {
   "cell_type": "markdown",
   "metadata": {},
   "source": [
    "#### check for duplications"
   ]
  },
  {
   "cell_type": "code",
   "execution_count": 4,
   "metadata": {},
   "outputs": [
    {
     "data": {
      "text/plain": [
       "False"
      ]
     },
     "execution_count": 4,
     "metadata": {},
     "output_type": "execute_result"
    }
   ],
   "source": [
    "dataset1.duplicated().any()"
   ]
  },
  {
   "cell_type": "code",
   "execution_count": 5,
   "metadata": {},
   "outputs": [],
   "source": [
    "# based on https://pdfs.semanticscholar.org/daa0/f01f96a89fcfc5f41a2da67fb2a8966900ab.pdf \n",
    "# we should pick these features:\n",
    "Genetic_Based_Decision = dataset1[['cp','trestbps', 'restecg', 'thalach', 'ca', 'thal']]"
   ]
  },
  {
   "cell_type": "code",
   "execution_count": 6,
   "metadata": {},
   "outputs": [
    {
     "name": "stdout",
     "output_type": "stream",
     "text": [
      "outlier:  34.0 age\n",
      "outlier:  29.0 age\n",
      "outlier:  77.0 age\n",
      "outlier:  34.0 age\n",
      "outlier:  76.0 age\n",
      "outlier:  354.0 chol\n",
      "outlier:  340.0 chol\n",
      "outlier:  353.0 chol\n",
      "outlier:  417.0 chol\n",
      "outlier:  360.0 chol\n",
      "outlier:  141.0 chol\n",
      "outlier:  341.0 chol\n",
      "outlier:  407.0 chol\n",
      "outlier:  564.0 chol\n",
      "outlier:  394.0 chol\n",
      "outlier:  409.0 chol\n",
      "outlier:  126.0 chol\n",
      "outlier:  342.0 chol\n",
      "outlier:  131.0 chol\n",
      "outlier:  99.0 thalach\n",
      "outlier:  97.0 thalach\n",
      "outlier:  202.0 thalach\n",
      "outlier:  96.0 thalach\n",
      "outlier:  88.0 thalach\n",
      "outlier:  95.0 thalach\n",
      "outlier:  96.0 thalach\n",
      "outlier:  71.0 thalach\n",
      "outlier:  90.0 thalach\n",
      "outlier:  3.5 oldpeak\n",
      "outlier:  3.6 oldpeak\n",
      "outlier:  3.4 oldpeak\n",
      "outlier:  3.6 oldpeak\n",
      "outlier:  6.2 oldpeak\n",
      "outlier:  3.6 oldpeak\n",
      "outlier:  4.0 oldpeak\n",
      "outlier:  5.6 oldpeak\n",
      "outlier:  4.0 oldpeak\n",
      "outlier:  4.2 oldpeak\n",
      "outlier:  4.2 oldpeak\n",
      "outlier:  3.8 oldpeak\n",
      "outlier:  3.4 oldpeak\n",
      "outlier:  3.6 oldpeak\n",
      "outlier:  4.4 oldpeak\n",
      "outlier:  4.0 oldpeak\n",
      "outlier:  3.4 oldpeak\n",
      "(45, 'outliers. That is', 15.0, 'percent of the total list')\n"
     ]
    }
   ],
   "source": [
    "continuous_vars = dataset1[['age', 'restecg', 'chol', 'thalach', 'oldpeak']] \n",
    "\n",
    "def checkforoutlier(df):\n",
    "    outliersnumbers = 0\n",
    "    for column in df:\n",
    "        for number in df[column]:\n",
    "            if number < np.percentile(\n",
    "                df[column], 25)-(np.percentile(\n",
    "                df[column], 75)-np.percentile(\n",
    "                df[column], 25)) or number > np.percentile(\n",
    "                df[column], 75)+(np.percentile(\n",
    "                df[column], 75)-np.percentile(\n",
    "                df[column], 25)):\n",
    "                    print(\"outlier: \", number, column)\n",
    "                    outliersnumbers += 1\n",
    "    return outliersnumbers, 'outliers. That is', round(float(outliersnumbers)/float(len(df[column]))*100, 0), 'percent of the total list'\n",
    "\n",
    "print(checkforoutlier(continuous_vars))\n",
    "\n",
    "# Thalach seems very high, but after research a heartbeat of 202 is possible: "
   ]
  },
  {
   "cell_type": "code",
   "execution_count": 7,
   "metadata": {},
   "outputs": [],
   "source": [
    "# Two variables are discrete/ordinal: ca (number of major vessels colored by fluoroscopy) and num (diagnosis of heart disease)\n",
    "# Three can be directly viewed as 1 hot (because binary): 'sex':'male', 'fbs':'fasting blood sugar', 'exang':'exercise induced angina'\n",
    "\n",
    "# which leaves 4 for one-hot encoding. problem is that the values aren't unique, so have to manually\n",
    "# make extra columns:\n",
    "\n",
    "dataset1[\"cp\"] = dataset1[\"cp\"].replace([1,2,3,4], [\"typical angina\", \"atypical angina\", \"non-angina\", \"asymptomatic angina\"])\n",
    "dataset1[\"restecg\"] = dataset1[\"restecg\"].replace([0,1,2], [\"normalresecg\", \"ST-T wave abnormality\", \"left ventricular hypertrophy\"])\n",
    "dataset1[\"slop\"] = dataset1[\"slop\"].replace([1,2,3], [\"upsloping\", \"flat\", \"downsloping\"])\n",
    "dataset1[\"thal\"] = dataset1[\"thal\"].replace([3,6,7], [\"normalthal\", \"fixed defect\", \"reversible defect\"])\n",
    "\n",
    "x = dataset1[['cp', 'restecg', 'slop', 'thal']]\n",
    "for column in ['cp', 'restecg', 'slop', 'thal']:\n",
    "    one_hot = pd.get_dummies(dataset1[column])\n",
    "    dataset1 = dataset1.drop(column, axis=1)\n",
    "    dataset1 = dataset1.join(one_hot)"
   ]
  },
  {
   "cell_type": "code",
   "execution_count": 8,
   "metadata": {
    "_cell_guid": "b689622a-a475-40a8-bd33-e2b5e018d528",
    "_uuid": "2e13a97aaee5c269ff8f21fd7b66135927b66156"
   },
   "outputs": [],
   "source": [
    "### Extract features and labels from dataset for local testing:\n",
    "dataset1.dropna(inplace=True, axis=0, how=\"any\")\n",
    "Y=dataset1[\"pred_attribute\"]\n",
    "dataset1 = dataset1.drop(\"pred_attribute\", axis=1)\n",
    "X=dataset1"
   ]
  },
  {
   "cell_type": "code",
   "execution_count": 9,
   "metadata": {
    "_cell_guid": "2dacb7c2-6d4e-4a17-b5cb-d6ecd821c923",
    "_uuid": "c3355ae680b60b0daa713153f05b3709193af7f6"
   },
   "outputs": [],
   "source": [
    "# evaluate the model by splitting into train and test sets  #Edit by ryan, we aim to do 3 traditional sets in the end, this first split is 80/20\n",
    "features_train, features_test, labels_train, labels_test = train_test_split(X, Y, test_size=0.3, random_state=0)"
   ]
  },
  {
   "cell_type": "code",
   "execution_count": 10,
   "metadata": {
    "_cell_guid": "5065d9ba-be53-4431-bb86-152ee1673550",
    "_uuid": "00229a787842594dee105c79de5871548613a045"
   },
   "outputs": [
    {
     "name": "stdout",
     "output_type": "stream",
     "text": [
      "Counter({0.0: 116, 1.0: 33, 3.0: 29, 2.0: 23, 4.0: 8})\n",
      "Counter({0.0: 45, 1.0: 21, 2.0: 13, 3.0: 6, 4.0: 5})\n"
     ]
    }
   ],
   "source": [
    "import collections\n",
    "\n",
    "list1 = []\n",
    "for i in labels_train:\n",
    "    list1.append(i)\n",
    "counter=collections.Counter(list1)\n",
    "print(counter)\n",
    "\n",
    "list2 = []\n",
    "for i in labels_test:\n",
    "    list2.append(i)\n",
    "counter=collections.Counter(list2)\n",
    "print(counter)"
   ]
  },
  {
   "cell_type": "code",
   "execution_count": 11,
   "metadata": {},
   "outputs": [
    {
     "name": "stdout",
     "output_type": "stream",
     "text": [
      "0.6989966555183946\n"
     ]
    }
   ],
   "source": [
    "# Check\n",
    "print(len(features_train)/(len(features_train)+ len(features_test)))"
   ]
  },
  {
   "cell_type": "code",
   "execution_count": 12,
   "metadata": {},
   "outputs": [],
   "source": [
    "features_train_df = pd.DataFrame(features_train)\n",
    "features_train_df.to_csv('features_train.csv', index=False)\n",
    "\n",
    "features_test_df = pd.DataFrame(features_test)\n",
    "features_test_df.to_csv('features_test.csv', index=False)\n",
    "\n",
    "labels_train_df = pd.DataFrame(labels_train)\n",
    "labels_train_df.to_csv('labels_train.csv', index=False)\n",
    "\n",
    "labels_test_df = pd.DataFrame(labels_test)\n",
    "labels_test_df.to_csv('labels_test.csv', index=False)"
   ]
  },
  {
   "cell_type": "markdown",
   "metadata": {},
   "source": [
    "## Feature Importance Scores based on XGBoost (by David)"
   ]
  },
  {
   "cell_type": "code",
   "execution_count": 13,
   "metadata": {},
   "outputs": [
    {
     "name": "stdout",
     "output_type": "stream",
     "text": [
      "[0]\ttrain-mlogloss:1.56068\ttest-mlogloss:1.58128\n",
      "[1]\ttrain-mlogloss:1.51669\ttest-mlogloss:1.55728\n",
      "[2]\ttrain-mlogloss:1.47704\ttest-mlogloss:1.53337\n",
      "[3]\ttrain-mlogloss:1.43637\ttest-mlogloss:1.50983\n",
      "[4]\ttrain-mlogloss:1.39902\ttest-mlogloss:1.4884\n",
      "[5]\ttrain-mlogloss:1.36248\ttest-mlogloss:1.46833\n",
      "[6]\ttrain-mlogloss:1.32811\ttest-mlogloss:1.44857\n",
      "[7]\ttrain-mlogloss:1.29549\ttest-mlogloss:1.43041\n",
      "[8]\ttrain-mlogloss:1.26439\ttest-mlogloss:1.41397\n",
      "[9]\ttrain-mlogloss:1.23422\ttest-mlogloss:1.39903\n",
      "[10]\ttrain-mlogloss:1.2058\ttest-mlogloss:1.3858\n",
      "[11]\ttrain-mlogloss:1.1784\ttest-mlogloss:1.37447\n",
      "[12]\ttrain-mlogloss:1.15217\ttest-mlogloss:1.3623\n",
      "[13]\ttrain-mlogloss:1.12708\ttest-mlogloss:1.35108\n",
      "[14]\ttrain-mlogloss:1.10233\ttest-mlogloss:1.34016\n",
      "[15]\ttrain-mlogloss:1.07996\ttest-mlogloss:1.3293\n",
      "[16]\ttrain-mlogloss:1.05729\ttest-mlogloss:1.32144\n",
      "[17]\ttrain-mlogloss:1.03595\ttest-mlogloss:1.31458\n",
      "[18]\ttrain-mlogloss:1.01542\ttest-mlogloss:1.30547\n",
      "[19]\ttrain-mlogloss:0.996551\ttest-mlogloss:1.29759\n",
      "[20]\ttrain-mlogloss:0.977722\ttest-mlogloss:1.29034\n",
      "[21]\ttrain-mlogloss:0.958977\ttest-mlogloss:1.28191\n",
      "[22]\ttrain-mlogloss:0.941615\ttest-mlogloss:1.27363\n",
      "[23]\ttrain-mlogloss:0.924\ttest-mlogloss:1.26694\n",
      "[24]\ttrain-mlogloss:0.90815\ttest-mlogloss:1.25999\n",
      "[25]\ttrain-mlogloss:0.892204\ttest-mlogloss:1.25506\n",
      "[26]\ttrain-mlogloss:0.87523\ttest-mlogloss:1.24956\n",
      "[27]\ttrain-mlogloss:0.859658\ttest-mlogloss:1.24255\n",
      "[28]\ttrain-mlogloss:0.844752\ttest-mlogloss:1.23795\n",
      "[29]\ttrain-mlogloss:0.829736\ttest-mlogloss:1.23154\n",
      "[30]\ttrain-mlogloss:0.815406\ttest-mlogloss:1.22809\n",
      "[31]\ttrain-mlogloss:0.80233\ttest-mlogloss:1.22453\n",
      "[32]\ttrain-mlogloss:0.788744\ttest-mlogloss:1.21966\n",
      "[33]\ttrain-mlogloss:0.775157\ttest-mlogloss:1.21632\n",
      "[34]\ttrain-mlogloss:0.761892\ttest-mlogloss:1.21226\n",
      "[35]\ttrain-mlogloss:0.750659\ttest-mlogloss:1.20726\n",
      "[36]\ttrain-mlogloss:0.738766\ttest-mlogloss:1.20457\n",
      "[37]\ttrain-mlogloss:0.727791\ttest-mlogloss:1.20324\n",
      "[38]\ttrain-mlogloss:0.716898\ttest-mlogloss:1.19839\n",
      "[39]\ttrain-mlogloss:0.706521\ttest-mlogloss:1.19412\n",
      "[40]\ttrain-mlogloss:0.695518\ttest-mlogloss:1.19286\n",
      "[41]\ttrain-mlogloss:0.684121\ttest-mlogloss:1.1918\n",
      "[42]\ttrain-mlogloss:0.67347\ttest-mlogloss:1.18957\n",
      "[43]\ttrain-mlogloss:0.66396\ttest-mlogloss:1.18842\n",
      "[44]\ttrain-mlogloss:0.654314\ttest-mlogloss:1.18894\n",
      "[45]\ttrain-mlogloss:0.644744\ttest-mlogloss:1.18803\n",
      "[46]\ttrain-mlogloss:0.634929\ttest-mlogloss:1.1881\n",
      "[47]\ttrain-mlogloss:0.626721\ttest-mlogloss:1.18671\n",
      "[48]\ttrain-mlogloss:0.617706\ttest-mlogloss:1.1838\n",
      "[49]\ttrain-mlogloss:0.609034\ttest-mlogloss:1.18276\n",
      "[50]\ttrain-mlogloss:0.600096\ttest-mlogloss:1.18038\n",
      "[51]\ttrain-mlogloss:0.592226\ttest-mlogloss:1.17921\n",
      "[52]\ttrain-mlogloss:0.584713\ttest-mlogloss:1.17566\n",
      "[53]\ttrain-mlogloss:0.576929\ttest-mlogloss:1.17354\n",
      "[54]\ttrain-mlogloss:0.568867\ttest-mlogloss:1.17291\n",
      "[55]\ttrain-mlogloss:0.561979\ttest-mlogloss:1.17092\n",
      "[56]\ttrain-mlogloss:0.555173\ttest-mlogloss:1.17059\n",
      "[57]\ttrain-mlogloss:0.548298\ttest-mlogloss:1.17055\n",
      "[58]\ttrain-mlogloss:0.5407\ttest-mlogloss:1.16929\n",
      "[59]\ttrain-mlogloss:0.534297\ttest-mlogloss:1.1704\n",
      "[60]\ttrain-mlogloss:0.527677\ttest-mlogloss:1.17128\n",
      "[61]\ttrain-mlogloss:0.520879\ttest-mlogloss:1.17234\n",
      "[62]\ttrain-mlogloss:0.514013\ttest-mlogloss:1.17233\n",
      "[63]\ttrain-mlogloss:0.507589\ttest-mlogloss:1.17082\n",
      "[64]\ttrain-mlogloss:0.50165\ttest-mlogloss:1.17031\n",
      "[65]\ttrain-mlogloss:0.495951\ttest-mlogloss:1.16921\n",
      "[66]\ttrain-mlogloss:0.490243\ttest-mlogloss:1.16885\n",
      "[67]\ttrain-mlogloss:0.484295\ttest-mlogloss:1.16853\n",
      "[68]\ttrain-mlogloss:0.478518\ttest-mlogloss:1.16741\n",
      "[69]\ttrain-mlogloss:0.47296\ttest-mlogloss:1.16669\n",
      "[70]\ttrain-mlogloss:0.466997\ttest-mlogloss:1.16656\n",
      "[71]\ttrain-mlogloss:0.461819\ttest-mlogloss:1.16661\n",
      "[72]\ttrain-mlogloss:0.456285\ttest-mlogloss:1.16567\n",
      "[73]\ttrain-mlogloss:0.451151\ttest-mlogloss:1.16463\n",
      "[74]\ttrain-mlogloss:0.446085\ttest-mlogloss:1.1646\n",
      "[75]\ttrain-mlogloss:0.440499\ttest-mlogloss:1.16622\n",
      "[76]\ttrain-mlogloss:0.435442\ttest-mlogloss:1.16674\n",
      "[77]\ttrain-mlogloss:0.430771\ttest-mlogloss:1.16667\n",
      "[78]\ttrain-mlogloss:0.425827\ttest-mlogloss:1.16654\n",
      "[79]\ttrain-mlogloss:0.421182\ttest-mlogloss:1.16702\n",
      "[80]\ttrain-mlogloss:0.416936\ttest-mlogloss:1.16673\n",
      "[81]\ttrain-mlogloss:0.412575\ttest-mlogloss:1.16722\n",
      "[82]\ttrain-mlogloss:0.408474\ttest-mlogloss:1.16496\n",
      "[83]\ttrain-mlogloss:0.404623\ttest-mlogloss:1.16633\n",
      "[84]\ttrain-mlogloss:0.400375\ttest-mlogloss:1.1672\n",
      "[85]\ttrain-mlogloss:0.396254\ttest-mlogloss:1.16673\n",
      "[86]\ttrain-mlogloss:0.391445\ttest-mlogloss:1.16576\n",
      "[87]\ttrain-mlogloss:0.387863\ttest-mlogloss:1.16579\n",
      "[88]\ttrain-mlogloss:0.383738\ttest-mlogloss:1.16502\n",
      "[89]\ttrain-mlogloss:0.380323\ttest-mlogloss:1.16536\n",
      "[90]\ttrain-mlogloss:0.376305\ttest-mlogloss:1.16616\n",
      "[91]\ttrain-mlogloss:0.372727\ttest-mlogloss:1.16723\n",
      "[92]\ttrain-mlogloss:0.369218\ttest-mlogloss:1.16985\n",
      "[93]\ttrain-mlogloss:0.365634\ttest-mlogloss:1.17047\n",
      "[94]\ttrain-mlogloss:0.362356\ttest-mlogloss:1.17016\n",
      "[95]\ttrain-mlogloss:0.359055\ttest-mlogloss:1.17004\n",
      "[96]\ttrain-mlogloss:0.355886\ttest-mlogloss:1.16976\n",
      "[97]\ttrain-mlogloss:0.353092\ttest-mlogloss:1.17183\n",
      "[98]\ttrain-mlogloss:0.350017\ttest-mlogloss:1.1725\n",
      "[99]\ttrain-mlogloss:0.346335\ttest-mlogloss:1.17423\n",
      "[100]\ttrain-mlogloss:0.342971\ttest-mlogloss:1.17378\n",
      "[101]\ttrain-mlogloss:0.33938\ttest-mlogloss:1.17568\n",
      "[102]\ttrain-mlogloss:0.336572\ttest-mlogloss:1.17859\n",
      "[103]\ttrain-mlogloss:0.333358\ttest-mlogloss:1.1794\n",
      "[104]\ttrain-mlogloss:0.33008\ttest-mlogloss:1.17941\n",
      "[105]\ttrain-mlogloss:0.327573\ttest-mlogloss:1.17856\n",
      "[106]\ttrain-mlogloss:0.324913\ttest-mlogloss:1.18109\n",
      "[107]\ttrain-mlogloss:0.32213\ttest-mlogloss:1.18392\n",
      "[108]\ttrain-mlogloss:0.319296\ttest-mlogloss:1.18496\n",
      "[109]\ttrain-mlogloss:0.316617\ttest-mlogloss:1.18397\n",
      "[110]\ttrain-mlogloss:0.313435\ttest-mlogloss:1.18599\n",
      "[111]\ttrain-mlogloss:0.310766\ttest-mlogloss:1.18682\n",
      "[112]\ttrain-mlogloss:0.307974\ttest-mlogloss:1.18785\n",
      "[113]\ttrain-mlogloss:0.305233\ttest-mlogloss:1.1912\n",
      "[114]\ttrain-mlogloss:0.30285\ttest-mlogloss:1.19318\n",
      "[115]\ttrain-mlogloss:0.300359\ttest-mlogloss:1.19275\n",
      "[116]\ttrain-mlogloss:0.298024\ttest-mlogloss:1.19357\n",
      "[117]\ttrain-mlogloss:0.295566\ttest-mlogloss:1.196\n",
      "[118]\ttrain-mlogloss:0.293135\ttest-mlogloss:1.19568\n",
      "[119]\ttrain-mlogloss:0.290991\ttest-mlogloss:1.19652\n",
      "[120]\ttrain-mlogloss:0.288807\ttest-mlogloss:1.19753\n",
      "[121]\ttrain-mlogloss:0.28645\ttest-mlogloss:1.19828\n",
      "[122]\ttrain-mlogloss:0.284164\ttest-mlogloss:1.19921\n",
      "[123]\ttrain-mlogloss:0.282064\ttest-mlogloss:1.20105\n",
      "[124]\ttrain-mlogloss:0.28005\ttest-mlogloss:1.20287\n",
      "[125]\ttrain-mlogloss:0.277795\ttest-mlogloss:1.20409\n",
      "[126]\ttrain-mlogloss:0.275527\ttest-mlogloss:1.20662\n",
      "[127]\ttrain-mlogloss:0.273302\ttest-mlogloss:1.2078\n",
      "[128]\ttrain-mlogloss:0.271045\ttest-mlogloss:1.20905\n",
      "[129]\ttrain-mlogloss:0.268971\ttest-mlogloss:1.20979\n",
      "[130]\ttrain-mlogloss:0.266911\ttest-mlogloss:1.21173\n",
      "[131]\ttrain-mlogloss:0.265005\ttest-mlogloss:1.21299\n",
      "[132]\ttrain-mlogloss:0.263295\ttest-mlogloss:1.2134\n",
      "[133]\ttrain-mlogloss:0.261272\ttest-mlogloss:1.21531\n",
      "[134]\ttrain-mlogloss:0.259357\ttest-mlogloss:1.2161\n",
      "[135]\ttrain-mlogloss:0.257342\ttest-mlogloss:1.21792\n",
      "[136]\ttrain-mlogloss:0.255691\ttest-mlogloss:1.21861\n",
      "[137]\ttrain-mlogloss:0.253417\ttest-mlogloss:1.21959\n",
      "[138]\ttrain-mlogloss:0.251725\ttest-mlogloss:1.22013\n",
      "[139]\ttrain-mlogloss:0.249937\ttest-mlogloss:1.22173\n",
      "[140]\ttrain-mlogloss:0.247985\ttest-mlogloss:1.22319\n",
      "[141]\ttrain-mlogloss:0.246329\ttest-mlogloss:1.22338\n",
      "[142]\ttrain-mlogloss:0.244688\ttest-mlogloss:1.22373\n",
      "[143]\ttrain-mlogloss:0.243044\ttest-mlogloss:1.22486\n",
      "[144]\ttrain-mlogloss:0.241507\ttest-mlogloss:1.2258\n",
      "[145]\ttrain-mlogloss:0.240037\ttest-mlogloss:1.22826\n",
      "[146]\ttrain-mlogloss:0.238413\ttest-mlogloss:1.23034\n",
      "[147]\ttrain-mlogloss:0.23696\ttest-mlogloss:1.22946\n",
      "[148]\ttrain-mlogloss:0.235327\ttest-mlogloss:1.2313\n",
      "[149]\ttrain-mlogloss:0.233676\ttest-mlogloss:1.23042\n",
      "[150]\ttrain-mlogloss:0.232303\ttest-mlogloss:1.23355\n",
      "[151]\ttrain-mlogloss:0.230786\ttest-mlogloss:1.23377\n",
      "[152]\ttrain-mlogloss:0.229441\ttest-mlogloss:1.23421\n",
      "[153]\ttrain-mlogloss:0.227977\ttest-mlogloss:1.2356\n",
      "[154]\ttrain-mlogloss:0.226605\ttest-mlogloss:1.23668\n",
      "[155]\ttrain-mlogloss:0.225098\ttest-mlogloss:1.23759\n",
      "[156]\ttrain-mlogloss:0.223742\ttest-mlogloss:1.23856\n",
      "[157]\ttrain-mlogloss:0.22235\ttest-mlogloss:1.23844\n",
      "[158]\ttrain-mlogloss:0.220937\ttest-mlogloss:1.23803\n",
      "[159]\ttrain-mlogloss:0.219411\ttest-mlogloss:1.23893\n",
      "[160]\ttrain-mlogloss:0.218152\ttest-mlogloss:1.23879\n"
     ]
    },
    {
     "name": "stdout",
     "output_type": "stream",
     "text": [
      "[161]\ttrain-mlogloss:0.216928\ttest-mlogloss:1.23914\n",
      "[162]\ttrain-mlogloss:0.21557\ttest-mlogloss:1.23952\n",
      "[163]\ttrain-mlogloss:0.214313\ttest-mlogloss:1.2406\n",
      "[164]\ttrain-mlogloss:0.213269\ttest-mlogloss:1.24208\n",
      "[165]\ttrain-mlogloss:0.211917\ttest-mlogloss:1.24394\n",
      "[166]\ttrain-mlogloss:0.210629\ttest-mlogloss:1.24412\n",
      "[167]\ttrain-mlogloss:0.209386\ttest-mlogloss:1.24494\n",
      "[168]\ttrain-mlogloss:0.208099\ttest-mlogloss:1.24586\n",
      "[169]\ttrain-mlogloss:0.206741\ttest-mlogloss:1.24701\n",
      "[170]\ttrain-mlogloss:0.205412\ttest-mlogloss:1.24727\n",
      "[171]\ttrain-mlogloss:0.204191\ttest-mlogloss:1.24778\n",
      "[172]\ttrain-mlogloss:0.203048\ttest-mlogloss:1.24835\n",
      "[173]\ttrain-mlogloss:0.201742\ttest-mlogloss:1.24844\n",
      "[174]\ttrain-mlogloss:0.200615\ttest-mlogloss:1.24934\n",
      "[175]\ttrain-mlogloss:0.199453\ttest-mlogloss:1.25006\n",
      "[176]\ttrain-mlogloss:0.198429\ttest-mlogloss:1.25111\n",
      "[177]\ttrain-mlogloss:0.197348\ttest-mlogloss:1.25259\n",
      "[178]\ttrain-mlogloss:0.196295\ttest-mlogloss:1.25329\n",
      "[179]\ttrain-mlogloss:0.195122\ttest-mlogloss:1.25389\n",
      "[180]\ttrain-mlogloss:0.194072\ttest-mlogloss:1.25536\n",
      "[181]\ttrain-mlogloss:0.193074\ttest-mlogloss:1.25739\n",
      "[182]\ttrain-mlogloss:0.19217\ttest-mlogloss:1.25862\n",
      "[183]\ttrain-mlogloss:0.191162\ttest-mlogloss:1.25934\n",
      "[184]\ttrain-mlogloss:0.19007\ttest-mlogloss:1.26029\n",
      "[185]\ttrain-mlogloss:0.188961\ttest-mlogloss:1.26077\n",
      "[186]\ttrain-mlogloss:0.188015\ttest-mlogloss:1.26202\n",
      "[187]\ttrain-mlogloss:0.187053\ttest-mlogloss:1.2618\n",
      "[188]\ttrain-mlogloss:0.186227\ttest-mlogloss:1.26235\n",
      "[189]\ttrain-mlogloss:0.185331\ttest-mlogloss:1.26347\n",
      "[190]\ttrain-mlogloss:0.184451\ttest-mlogloss:1.26589\n",
      "[191]\ttrain-mlogloss:0.183566\ttest-mlogloss:1.26686\n",
      "[192]\ttrain-mlogloss:0.182604\ttest-mlogloss:1.26879\n",
      "[193]\ttrain-mlogloss:0.181757\ttest-mlogloss:1.26974\n",
      "[194]\ttrain-mlogloss:0.180732\ttest-mlogloss:1.2711\n",
      "[195]\ttrain-mlogloss:0.179781\ttest-mlogloss:1.27164\n",
      "[196]\ttrain-mlogloss:0.178754\ttest-mlogloss:1.27136\n",
      "[197]\ttrain-mlogloss:0.177873\ttest-mlogloss:1.27232\n",
      "[198]\ttrain-mlogloss:0.176993\ttest-mlogloss:1.27268\n",
      "[199]\ttrain-mlogloss:0.175984\ttest-mlogloss:1.27347\n",
      "[200]\ttrain-mlogloss:0.175129\ttest-mlogloss:1.27396\n",
      "[201]\ttrain-mlogloss:0.174305\ttest-mlogloss:1.27501\n",
      "[202]\ttrain-mlogloss:0.173547\ttest-mlogloss:1.27552\n",
      "[203]\ttrain-mlogloss:0.172745\ttest-mlogloss:1.27656\n",
      "[204]\ttrain-mlogloss:0.171974\ttest-mlogloss:1.27682\n",
      "[205]\ttrain-mlogloss:0.171194\ttest-mlogloss:1.2764\n",
      "[206]\ttrain-mlogloss:0.170425\ttest-mlogloss:1.27594\n",
      "[207]\ttrain-mlogloss:0.169647\ttest-mlogloss:1.27629\n",
      "[208]\ttrain-mlogloss:0.168838\ttest-mlogloss:1.27737\n",
      "[209]\ttrain-mlogloss:0.168212\ttest-mlogloss:1.27754\n",
      "[210]\ttrain-mlogloss:0.167402\ttest-mlogloss:1.27728\n",
      "[211]\ttrain-mlogloss:0.166759\ttest-mlogloss:1.27775\n",
      "[212]\ttrain-mlogloss:0.166177\ttest-mlogloss:1.27877\n",
      "[213]\ttrain-mlogloss:0.165439\ttest-mlogloss:1.28107\n",
      "[214]\ttrain-mlogloss:0.164696\ttest-mlogloss:1.28082\n",
      "[215]\ttrain-mlogloss:0.163939\ttest-mlogloss:1.27901\n",
      "[216]\ttrain-mlogloss:0.163328\ttest-mlogloss:1.27823\n",
      "[217]\ttrain-mlogloss:0.162588\ttest-mlogloss:1.27873\n",
      "[218]\ttrain-mlogloss:0.161865\ttest-mlogloss:1.28024\n",
      "[219]\ttrain-mlogloss:0.161165\ttest-mlogloss:1.28035\n",
      "[220]\ttrain-mlogloss:0.160529\ttest-mlogloss:1.28048\n",
      "[221]\ttrain-mlogloss:0.159869\ttest-mlogloss:1.28071\n",
      "[222]\ttrain-mlogloss:0.159086\ttest-mlogloss:1.2805\n",
      "[223]\ttrain-mlogloss:0.158542\ttest-mlogloss:1.28016\n",
      "[224]\ttrain-mlogloss:0.157783\ttest-mlogloss:1.28198\n",
      "[225]\ttrain-mlogloss:0.157204\ttest-mlogloss:1.2826\n",
      "[226]\ttrain-mlogloss:0.156481\ttest-mlogloss:1.28442\n",
      "[227]\ttrain-mlogloss:0.155771\ttest-mlogloss:1.28513\n",
      "[228]\ttrain-mlogloss:0.15505\ttest-mlogloss:1.28552\n",
      "[229]\ttrain-mlogloss:0.154424\ttest-mlogloss:1.28587\n",
      "[230]\ttrain-mlogloss:0.153802\ttest-mlogloss:1.28695\n",
      "[231]\ttrain-mlogloss:0.153116\ttest-mlogloss:1.28869\n",
      "[232]\ttrain-mlogloss:0.152603\ttest-mlogloss:1.28924\n",
      "[233]\ttrain-mlogloss:0.152123\ttest-mlogloss:1.28999\n",
      "[234]\ttrain-mlogloss:0.151522\ttest-mlogloss:1.29059\n",
      "[235]\ttrain-mlogloss:0.15104\ttest-mlogloss:1.2908\n",
      "[236]\ttrain-mlogloss:0.150477\ttest-mlogloss:1.29019\n",
      "[237]\ttrain-mlogloss:0.149948\ttest-mlogloss:1.29032\n",
      "[238]\ttrain-mlogloss:0.149319\ttest-mlogloss:1.2906\n",
      "[239]\ttrain-mlogloss:0.148616\ttest-mlogloss:1.29126\n",
      "[240]\ttrain-mlogloss:0.148023\ttest-mlogloss:1.29202\n",
      "[241]\ttrain-mlogloss:0.147463\ttest-mlogloss:1.29242\n",
      "[242]\ttrain-mlogloss:0.146914\ttest-mlogloss:1.29309\n",
      "[243]\ttrain-mlogloss:0.146297\ttest-mlogloss:1.29393\n",
      "[244]\ttrain-mlogloss:0.145787\ttest-mlogloss:1.29507\n",
      "[245]\ttrain-mlogloss:0.145324\ttest-mlogloss:1.29609\n",
      "[246]\ttrain-mlogloss:0.144829\ttest-mlogloss:1.29658\n",
      "[247]\ttrain-mlogloss:0.144243\ttest-mlogloss:1.29646\n",
      "[248]\ttrain-mlogloss:0.143654\ttest-mlogloss:1.29619\n",
      "[249]\ttrain-mlogloss:0.143147\ttest-mlogloss:1.29703\n"
     ]
    }
   ],
   "source": [
    "import xgboost as xgb\n",
    "import operator\n",
    "\n",
    "xgb_params = {\n",
    "    'eta': 0.037,\n",
    "    'max_depth': 5,\n",
    "    'subsample': 0.80,\n",
    "    'objective': 'multi:softprob',\n",
    "    'eval_metric': 'mlogloss',\n",
    "    'lambda': 0.8,   \n",
    "    'alpha': 0.4,\n",
    "    'silent': 1,\n",
    "    'num_class': 5\n",
    "}\n",
    "\n",
    "dtrain = xgb.DMatrix(features_train, labels_train)\n",
    "dtest = xgb.DMatrix(features_test, labels_test)\n",
    "\n",
    "num_boost_rounds = 250\n",
    "\n",
    "watchlist = [(dtrain, 'train'), (dtest, 'test')]\n",
    "\n",
    "# train model\n",
    "xgb_model = xgb.train(xgb_params, dtrain, num_boost_rounds, watchlist)"
   ]
  },
  {
   "cell_type": "code",
   "execution_count": 14,
   "metadata": {
    "scrolled": false
   },
   "outputs": [
    {
     "data": {
      "text/plain": [
       "<matplotlib.axes._subplots.AxesSubplot at 0x11f2fa358>"
      ]
     },
     "execution_count": 14,
     "metadata": {},
     "output_type": "execute_result"
    },
    {
     "data": {
      "text/plain": [
       "<matplotlib.figure.Figure at 0x1c2509dc88>"
      ]
     },
     "metadata": {},
     "output_type": "display_data"
    },
    {
     "data": {
      "image/png": "[encoded data removed]",
      "text/plain": [
       "<matplotlib.figure.Figure at 0x1c25034ba8>"
      ]
     },
     "metadata": {},
     "output_type": "display_data"
    }
   ],
   "source": [
    "importance = xgb_model.get_fscore()\n",
    "importance = sorted(importance.items(), key=operator.itemgetter(1))\n",
    "\n",
    "importance_df = pd.DataFrame(importance, columns=['feature', 'fscore'])\n",
    "\n",
    "# Plot Feature Importance\n",
    "plt.figure()\n",
    "importance_df.plot(kind='barh', x='feature', y='fscore', legend=False, figsize=(10, 10))"
   ]
  },
  {
   "cell_type": "code",
   "execution_count": 15,
   "metadata": {},
   "outputs": [],
   "source": [
    "def feature_selection(dataframe, importance_scores_df, threshold=0.4):\n",
    "    normalized_df = importance_scores_df.copy()\n",
    "    normalized_df['fscore'] = (importance_scores_df['fscore'] - importance_scores_df['fscore'].min())/(importance_scores_df['fscore'].max()-importance_scores_df['fscore'].min())\n",
    "    normalized_df = normalized_df[normalized_df['fscore'] >= threshold]\n",
    "    new_dataframe = dataframe.filter(items=normalized_df['feature'].tolist())\n",
    "    return new_dataframe\n",
    "\n",
    "features_train_009_df = feature_selection(features_train_df, importance_df, threshold=0.09)\n",
    "features_train_009 = features_train_009_df.as_matrix()\n",
    "features_train_04_df = feature_selection(features_train_df, importance_df, threshold=0.4)\n",
    "features_train_04 = features_train_04_df.as_matrix()\n",
    "\n",
    "features_test_009_df = feature_selection(features_test_df, importance_df, threshold=0.09)\n",
    "features_test_009 = features_test_009_df.as_matrix()\n",
    "features_test_04_df = feature_selection(features_test_df, importance_df, threshold=0.4)\n",
    "features_test_04 = features_test_04_df.as_matrix()"
   ]
  },
  {
   "cell_type": "markdown",
   "metadata": {},
   "source": [
    "## Principal Component Analysis "
   ]
  },
  {
   "cell_type": "code",
   "execution_count": 16,
   "metadata": {},
   "outputs": [
    {
     "name": "stdout",
     "output_type": "stream",
     "text": [
      "Number of components for Dataset with threshold=0.4 is 2\n",
      "Number of components for Dataset with threshold=0.09 is 5\n"
     ]
    }
   ],
   "source": [
    "from numpy import linalg as LA\n",
    "\n",
    "def eigen_scores(dataframe):\n",
    "    dataframe-=np.mean(dataframe, axis=0)\n",
    "    dataframe/=np.std(dataframe, axis=0)\n",
    "    cov_mat=np.cov(dataframe, rowvar=False)\n",
    "    evals, evecs = np.linalg.eigh(cov_mat)\n",
    "    idx = np.argsort(evals)[::-1]\n",
    "    evecs = evecs[:,idx]\n",
    "    evals = evals[idx]\n",
    "    return evals, evecs\n",
    "\n",
    "def my_pca(dataframe, n_components):\n",
    "    pca=PCA(n_components=n_components)\n",
    "    return pca.fit_transform(dataframe)\n",
    "\n",
    "\n",
    "\n",
    "eigenvalues, eigenvectors = eigen_scores(features_test_04.copy())\n",
    "n_components_04 = len(np.where(eigenvalues >= 1)[0])\n",
    "print(\"Number of components for Dataset with threshold=0.4 is {}\".format(n_components_04))\n",
    "\n",
    "features_train_04_pca = my_pca(features_train_04, n_components_04)\n",
    "features_test_04_pca = my_pca(features_test_04, n_components_04)\n",
    "\n",
    "eigenvalues, eigenvectors = eigen_scores(features_test_009.copy())\n",
    "n_components_009 = len(np.where(eigenvalues >= 1)[0])\n",
    "print(\"Number of components for Dataset with threshold=0.09 is {}\".format(n_components_009))\n",
    "\n",
    "features_train_009_pca = my_pca(features_train_009, n_components_009)\n",
    "features_test_009_pca = my_pca(features_test_009, n_components_009)"
   ]
  },
  {
   "cell_type": "markdown",
   "metadata": {},
   "source": [
    "# Modelling And Training"
   ]
  },
  {
   "cell_type": "markdown",
   "metadata": {},
   "source": [
    "We have an relatively small dataset. Therefore, we should do our feature selection based on a cross-\n",
    "validated set. "
   ]
  },
  {
   "cell_type": "markdown",
   "metadata": {},
   "source": [
    "### SMOTE for SVM - Balancing only on the training set, not the validation set  [This is for the traditional training -not the cross validated one]"
   ]
  },
  {
   "cell_type": "code",
   "execution_count": 17,
   "metadata": {
    "scrolled": true
   },
   "outputs": [
    {
     "name": "stderr",
     "output_type": "stream",
     "text": [
      "/Users/davidleonardi/anaconda3/lib/python3.6/site-packages/sklearn/utils/deprecation.py:77: DeprecationWarning: Function _ratio_float is deprecated; Use a float for 'ratio' is deprecated from version 0.2. The support will be removed in 0.4. Use a dict, str, or a callable instead.\n",
      "  warnings.warn(msg, category=DeprecationWarning)\n"
     ]
    }
   ],
   "source": [
    "#further divide the 'traditional' non-cross set into training 80/20  for pure training and cross validation  \n",
    "features_train_notoversampled, features_validate, labels_train_notoversampled, labels_validate = train_test_split(features_train, labels_train, test_size = .2, random_state=0)\n",
    "\n",
    "sm = SMOTE(random_state=0, ratio = 1.0, kind= 'svm' )\n",
    "#x_train_res, y_train_res = sm.fit_sample(x_train, y_train)\n",
    "features_train_oversampled, labels_train_oversampled = sm.fit_sample(features_train_notoversampled, labels_train_notoversampled)\n",
    "\n",
    "#re-enter into original variables\n",
    "##features_train = features_train_oversampled\n",
    "##labels_train = labels_train_oversampled\n",
    "\n",
    "#Below 2 lines if we want to want to force the array back into dataframe    \n",
    "##features_train = pd.DataFrame(features_train_oversampled,columns=[\"age\",\"sex\",\"cp\",\"trestbps\",\"chol\",\"fbs\",\"restecg\",\"thalach\",\"exang\",\"oldpeak\",\"slop\",\"ca\",\"thal\"])\n",
    "##labels_train = pd.DataFrame(labels_train_oversampled,columns=[\"pred_attribute\"])"
   ]
  },
  {
   "cell_type": "markdown",
   "metadata": {},
   "source": [
    "## Standard Scaler (by David)\n",
    "SVC Models are only any good when the data is scaled. Lets scale the data and build the model"
   ]
  },
  {
   "cell_type": "code",
   "execution_count": 18,
   "metadata": {},
   "outputs": [],
   "source": [
    "from sklearn.preprocessing import MinMaxScaler\n",
    "from sklearn import preprocessing\n",
    "from sklearn.preprocessing import StandardScaler\n",
    "from sklearn.preprocessing import RobustScaler\n",
    "from sklearn.preprocessing import Normalizer\n",
    "from sklearn.preprocessing.data import QuantileTransformer\n",
    "\n",
    "scaler = MinMaxScaler()\n",
    "Standard_scaler = StandardScaler()\n",
    "Robust_scaler = preprocessing.RobustScaler(quantile_range=(25, 75))\n",
    "Quantile_scalar = preprocessing.QuantileTransformer(output_distribution='normal')\n",
    "\n",
    "features_train = Standard_scaler.fit_transform(features_train)\n",
    "features_test = Standard_scaler.transform(features_test)\n",
    "\n",
    "features_train_009 = Standard_scaler.fit_transform(features_train_009)\n",
    "features_test_009 = Standard_scaler.transform(features_test_009)\n",
    "\n",
    "features_train_04 = Standard_scaler.fit_transform(features_train_04)\n",
    "features_test_04 = Standard_scaler.transform(features_test_04)\n",
    "\n",
    "features_train_009_pca = Standard_scaler.fit_transform(features_train_009_pca)\n",
    "features_test_009_pca = Standard_scaler.transform(features_test_009_pca)\n",
    "\n",
    "features_train_04_pca = Standard_scaler.fit_transform(features_train_04_pca)\n",
    "features_test_04_pca = Standard_scaler.transform(features_test_04_pca)"
   ]
  },
  {
   "cell_type": "markdown",
   "metadata": {},
   "source": [
    "# Balancing only on the training set, not the validation set\n",
    "Unfortunately SMOTE categorial implementation is not really implemented\n",
    "We will do undersampling of majority AND oversampling of minority -> Done using external program SPSS "
   ]
  },
  {
   "cell_type": "code",
   "execution_count": 19,
   "metadata": {},
   "outputs": [],
   "source": [
    "# Export data to files for external program to balance the data\n",
    "\n",
    "# without features selection\n",
    "train = np.concatenate((features_train, labels_train.values.reshape((-1, 1))), axis=1)\n",
    "train_df = pd.DataFrame(train) \n",
    "train_df.to_csv(\"Undata/train_NoEng_NB.csv\", index=False)\n",
    "\n",
    "# train_009\n",
    "train_009 = np.concatenate((features_train_009, labels_train.values.reshape((-1, 1))), axis=1)\n",
    "train_009_df = pd.DataFrame(train_009) \n",
    "train_009_df.to_csv(\"Undata/train_009_NB.csv\", index=False) \n",
    "    \n",
    "# train_04 \n",
    "train_04 = np.concatenate((features_train_04, labels_train.values.reshape((-1, 1))), axis=1)\n",
    "train_04_df = pd.DataFrame(train_04) \n",
    "train_04_df.to_csv(\"Undata/train_04_NB.csv\", index=False)\n",
    "\n",
    "# train_009_pca \n",
    "train_009_pca = np.concatenate((features_train_009_pca, labels_train.values.reshape((-1, 1))), axis=1)\n",
    "train_009_pca_df = pd.DataFrame(train_009_pca) \n",
    "train_009_pca_df.to_csv(\"Undata/train_009_pca_NB.csv\", index=False)\n",
    "\n",
    "# train_04_pca\n",
    "train_04_pca = np.concatenate((features_train_04_pca, labels_train.values.reshape((-1, 1))), axis=1)\n",
    "train_04_pca_df = pd.DataFrame(train_04_pca) \n",
    "train_04_pca_df.to_csv(\"Undata/train_04_pca_NB.csv\", index=False)"
   ]
  },
  {
   "cell_type": "code",
   "execution_count": 20,
   "metadata": {},
   "outputs": [
    {
     "name": "stdout",
     "output_type": "stream",
     "text": [
      "[[-2.052728  0.694456 -0.59914  ... -0.199502  0.939618 -0.852803]\n",
      " [ 0.731031 -1.439975 -0.162452 ... -0.199502  0.939618 -0.852803]\n",
      " [ 0.731031 -1.439975 -0.162452 ... -0.199502  0.939618 -0.852803]\n",
      " ...\n",
      " [-0.446713  0.694456  0.929268 ... -0.199502 -1.064262  1.172604]\n",
      " [-0.446713  0.694456  0.929268 ... -0.199502 -1.064262  1.172604]\n",
      " [ 0.838099 -1.439975  0.383408 ... -0.199502  0.939618 -0.852803]]\n"
     ]
    }
   ],
   "source": [
    "# without features selection\n",
    "train_noEng_df = pd.read_csv(\"Bdata/train_noEng_Balanced.csv\")\n",
    "labels_train_noEng = train_noEng_df[\"22\"]\n",
    "train_noEng_df = train_noEng_df.drop(\"22\", axis=1)\n",
    "features_train_noEng = train_noEng_df.as_matrix()\n",
    "print(features_train_noEng)\n",
    "\n",
    "# train_009\n",
    "train_009_df = pd.read_csv(\"Bdata/train_009_B.csv\")\n",
    "labels_train_009 = train_009_df[\"14\"]\n",
    "train_009_df = train_009_df.drop(\"14\", axis=1)\n",
    "features_train_009 = train_009_df.as_matrix()\n",
    "\n",
    "# train_04 \n",
    "train_04_df = pd.read_csv(\"Bdata/train_04_B.csv\")\n",
    "labels_train_04 = train_04_df[\"5\"]\n",
    "train_04_df = train_04_df.drop(\"5\", axis=1)\n",
    "features_train_04 = train_04_df.as_matrix()\n",
    "\n",
    "# train_009_pca \n",
    "train_009_pca_df = pd.read_csv(\"Bdata/train_009_PCA_B.csv\")\n",
    "labels_train_009_pca = train_009_pca_df[\"5\"]\n",
    "train_009_pca_df = train_009_pca_df.drop(\"5\", axis=1)\n",
    "features_train_009_pca = train_009_pca_df.as_matrix()\n",
    "\n",
    "# train_04_pca\n",
    "train_04_pca_df = pd.read_csv(\"Bdata/train_04_PCA_B.csv\")\n",
    "labels_train_04_pca = train_04_pca_df[\"2\"]\n",
    "train_04_pca_df = train_04_pca_df.drop(\"2\", axis=1)\n",
    "features_train_04_pca = train_04_pca_df.as_matrix()"
   ]
  },
  {
   "cell_type": "code",
   "execution_count": 21,
   "metadata": {},
   "outputs": [
    {
     "data": {
      "text/plain": [
       "array([[ 0.939618, -0.409387, -0.702038, ...,  0.731031,  0.818895,\n",
       "         1.465015],\n",
       "       [ 0.939618, -0.409387, -0.702038, ...,  0.731031, -0.204163,\n",
       "        -0.295319],\n",
       "       [ 0.939618, -0.409387, -0.702038, ...,  0.731031, -0.204163,\n",
       "        -0.295319],\n",
       "       ...,\n",
       "       [-1.064262, -0.409387, -0.702038, ..., -0.446713, -0.928829,\n",
       "        -0.130288],\n",
       "       [-1.064262, -0.409387, -0.702038, ..., -0.446713, -0.928829,\n",
       "        -0.130288],\n",
       "       [-1.064262, -0.409387, -0.702038, ..., -0.446713, -0.928829,\n",
       "        -0.130288]])"
      ]
     },
     "execution_count": 21,
     "metadata": {},
     "output_type": "execute_result"
    }
   ],
   "source": [
    "features_train_009"
   ]
  },
  {
   "cell_type": "code",
   "execution_count": 23,
   "metadata": {},
   "outputs": [],
   "source": [
    "from sklearn.cross_validation import StratifiedShuffleSplit\n",
    "from sklearn.cross_validation import train_test_split\n",
    "from sklearn.cross_validation import KFold\n",
    "from sklearn.metrics import precision_score\n",
    "from sklearn.metrics import recall_score\n",
    "from sklearn.metrics import confusion_matrix\n",
    "from sklearn.metrics import f1_score\n",
    "#from sklearn import grid_search\n",
    "#from sklearn.grid_search import GridSearchCV\n",
    "from sklearn.metrics import make_scorer\n",
    "from sklearn.metrics import accuracy_score\n",
    "from sklearn.model_selection import GridSearchCV\n",
    "from sklearn.model_selection import RandomizedSearchCV\n",
    "from sklearn.metrics import classification_report\n",
    "from sklearn.pipeline import Pipeline\n",
    "from sklearn.preprocessing import MinMaxScaler\n",
    "from sklearn.preprocessing import StandardScaler\n",
    "from sklearn import svm\n",
    "from sklearn.metrics import mean_squared_error\n",
    "import seaborn as sns\n",
    "from scipy.stats import reciprocal, uniform\n",
    "\n",
    "def checkmetrics(pred, labels_test, name):\n",
    "    sns.set()\n",
    "    print('The accuracy of ', name, 'is: ', accuracy_score(pred, labels_test))\n",
    "    matrix = confusion_matrix(labels_test, pred)\n",
    "    ax = sns.heatmap(matrix, annot=True, fmt=\"d\", cmap=\"Blues\")\n",
    "    print(ax)\n",
    "    print(classification_report(pred, labels_test))"
   ]
  },
  {
   "cell_type": "markdown",
   "metadata": {},
   "source": [
    "## Feature selection?"
   ]
  },
  {
   "cell_type": "code",
   "execution_count": 24,
   "metadata": {},
   "outputs": [],
   "source": [
    "# # Feature selection using RFECV to pick best features,\n",
    "# from sklearn.svm import SVR\n",
    "# from sklearn.feature_selection import RFE\n",
    "# from sklearn.linear_model import LinearRegression\n",
    "# from sklearn.linear_model import RandomizedLasso\n",
    "# from sklearn.feature_selection import RFECV\n",
    "# rlasso = RandomizedLasso(alpha=0.025)\n",
    "# names = features_list\n",
    "# rlasso.fit(features_train, labels_train)\n",
    " \n",
    "# print(\"Features sorted by their score using lasso:\")\n",
    "# print(sorted(zip(map(lambda x: round(x, 4), rlasso.scores_), \n",
    "#                  names), reverse=True))\n",
    "\n",
    "# #use linear regression as the model\n",
    "# lr = LinearRegression()\n",
    "# #rank all features, i.e continue the elimination until the last one\n",
    "# rfe = RFE(lr, n_features_to_select=1)\n",
    "# rfe.fit(X,Y)\n",
    " \n",
    "# print(\"Features sorted by their score using Linear Regression:\")\n",
    "# print(sorted(zip(map(lambda x: round(x, 4), rfe.ranking_), names)))"
   ]
  },
  {
   "cell_type": "markdown",
   "metadata": {},
   "source": [
    "## Modelling with HyperParameters -Tuning - Default Dataset"
   ]
  },
  {
   "cell_type": "code",
   "execution_count": 25,
   "metadata": {},
   "outputs": [
    {
     "name": "stdout",
     "output_type": "stream",
     "text": [
      "Fitting 5 folds for each of 1350 candidates, totalling 6750 fits\n"
     ]
    },
    {
     "name": "stderr",
     "output_type": "stream",
     "text": [
      "[Parallel(n_jobs=-1)]: Done 432 tasks      | elapsed:    0.7s\n",
      "[Parallel(n_jobs=-1)]: Done 6750 out of 6750 | elapsed:    7.0s finished\n",
      "/Users/davidleonardi/anaconda3/lib/python3.6/site-packages/sklearn/metrics/classification.py:1137: UndefinedMetricWarning: Recall and F-score are ill-defined and being set to 0.0 in labels with no true samples.\n",
      "  'recall', 'true', average, warn_for)\n"
     ]
    },
    {
     "name": "stdout",
     "output_type": "stream",
     "text": [
      "The train score: 0.7033492822966507 with parameters: {'C': 2.0, 'decision_function_shape': 'ovo', 'degree': 2, 'gamma': 0.01, 'kernel': 'rbf', 'tol': 0.0001}\n",
      "The accuracy of  C-Support Vector Classification is:  0.5222222222222223\n",
      "AxesSubplot(0.125,0.125;0.62x0.755)\n",
      "             precision    recall  f1-score   support\n",
      "\n",
      "        0.0       0.96      0.65      0.77        66\n",
      "        1.0       0.05      0.50      0.09         2\n",
      "        2.0       0.00      0.00      0.00         1\n",
      "        3.0       0.50      0.14      0.22        21\n",
      "        4.0       0.00      0.00      0.00         0\n",
      "\n",
      "avg / total       0.82      0.52      0.62        90\n",
      "\n"
     ]
    },
    {
     "data": {
      "image/png": "[encoded data removed]",
      "text/plain": [
       "<matplotlib.figure.Figure at 0x11f36a390>"
      ]
     },
     "metadata": {},
     "output_type": "display_data"
    }
   ],
   "source": [
    "#svm.SVC  C-Support Vector Classification.\n",
    "parameters ={\n",
    "         'C': [0.005,0.01,0.05,0.1,0.25,0.5,0.75,1.0,2.0],\n",
    "         'kernel': ['linear','poly','rbf'],\n",
    "         'degree': [2,3,4,5,6],\n",
    "        'gamma': [1e-3,1e-2,1,2,'auto'],\n",
    "        'tol' : [1e-4],\n",
    "        'decision_function_shape' : ['ovo','ovr'],\n",
    "        }\n",
    "SVM = svm.SVC()\n",
    "\n",
    "grid_search_cv = GridSearchCV(SVM, parameters, cv=5,n_jobs=-1, return_train_score=True, refit=True,verbose=1)\n",
    "grid_search_cv.fit(features_train, labels_train)\n",
    "resultsdf=pd.DataFrame(grid_search_cv.cv_results_)\n",
    "print(\"The train score:\", str(grid_search_cv.score(features_train, labels_train)), \"with parameters:\", grid_search_cv.best_params_)\n",
    "pred = grid_search_cv.best_estimator_.predict(features_test)\n",
    "\n",
    "checkmetrics(pred, labels_test, 'C-Support Vector Classification')"
   ]
  },
  {
   "cell_type": "code",
   "execution_count": 29,
   "metadata": {},
   "outputs": [
    {
     "name": "stdout",
     "output_type": "stream",
     "text": [
      "Fitting 5 folds for each of 18 candidates, totalling 90 fits\n"
     ]
    },
    {
     "name": "stderr",
     "output_type": "stream",
     "text": [
      "[Parallel(n_jobs=-1)]: Done  90 out of  90 | elapsed:    8.1s finished\n"
     ]
    },
    {
     "name": "stdout",
     "output_type": "stream",
     "text": [
      "The train score: 0.6889952153110048 with parameters: {'C': 0.05, 'max_iter': 1000, 'multi_class': 'crammer_singer', 'random_state': 42, 'tol': 0.0001}\n",
      "The accuracy of  Linear Support Vector Classification is:  0.5111111111111111\n",
      "AxesSubplot(0.125,0.125;0.62x0.755)\n",
      "             precision    recall  f1-score   support\n",
      "\n",
      "        0.0       0.96      0.65      0.77        66\n",
      "        1.0       0.05      0.25      0.08         4\n",
      "        2.0       0.08      0.20      0.11         5\n",
      "        3.0       0.17      0.07      0.10        14\n",
      "        4.0       0.00      0.00      0.00         1\n",
      "\n",
      "avg / total       0.73      0.51      0.59        90\n",
      "\n"
     ]
    },
    {
     "data": {
      "image/png": "[encoded data removed]",
      "text/plain": [
       "<matplotlib.figure.Figure at 0x1c25034b00>"
      ]
     },
     "metadata": {},
     "output_type": "display_data"
    }
   ],
   "source": [
    "#LinearSVC Linear Support Vector Classification\n",
    "\n",
    "parameters ={\n",
    "#       'penalty' : ['l2'], #Specifies the norm used in the penalization. The ‘l2’ penalty is the standard used in SVC. The ‘l1’ leads to coef_ vectors that are sparse.\n",
    "#       'loss' : ['squared_hinge'], #Specifies the loss function. ‘hinge’ is the standard SVM loss (used e.g. by the SVC class) while ‘squared_hinge’ is the square of the hinge loss.\n",
    "#        dual' : ['False'], #Select the algorithm to either solve the dual or primal optimization problem. Prefer dual=False when n_samples > n_features.\n",
    "        'tol' : [1e-5,1e-4,1e-3],\n",
    "        'C': [0.05,0.1,0.5,0.8,1.0,2.0,5.0,10.0,15.0],\n",
    "        'multi_class'  : ['ovr','crammer_singer'],\n",
    "        'random_state' : [42],\n",
    "        'tol' : [1e-4],\n",
    "        'max_iter' : [1000],\n",
    "        }\n",
    "SVM = LinearSVC()\n",
    "grid_search_cv = GridSearchCV(SVM, parameters, cv=5,n_jobs=-1, return_train_score=True, refit=True,verbose=1)\n",
    "grid_search_cv.fit(features_train, labels_train)\n",
    "resultsdf=pd.DataFrame(grid_search_cv.cv_results_)\n",
    "print(\"The train score:\", str(grid_search_cv.score(features_train, labels_train)), \"with parameters:\", grid_search_cv.best_params_)\n",
    "pred = grid_search_cv.best_estimator_.predict(features_test)\n",
    "\n",
    "checkmetrics(pred, labels_test, 'Linear Support Vector Classification')"
   ]
  },
  {
   "cell_type": "code",
   "execution_count": 30,
   "metadata": {},
   "outputs": [
    {
     "name": "stdout",
     "output_type": "stream",
     "text": [
      "Fitting 5 folds for each of 750 candidates, totalling 3750 fits\n"
     ]
    },
    {
     "name": "stderr",
     "output_type": "stream",
     "text": [
      "[Parallel(n_jobs=-1)]: Done 448 tasks      | elapsed:    0.8s\n",
      "[Parallel(n_jobs=-1)]: Done 3750 out of 3750 | elapsed:    3.1s finished\n"
     ]
    },
    {
     "name": "stdout",
     "output_type": "stream",
     "text": [
      "The train score: 0.14354066985645933 with parameters: {'decision_function_shape': 'ovo', 'degree': 5, 'gamma': 1e-05, 'kernel': 'poly', 'nu': 0.1, 'tol': 0.0001}\n",
      "The accuracy of  Nu-Support Vector Classification is:  0.12222222222222222\n",
      "AxesSubplot(0.125,0.125;0.62x0.755)\n",
      "             precision    recall  f1-score   support\n",
      "\n",
      "        0.0       0.00      0.00      0.00         3\n",
      "        1.0       0.00      0.00      0.00         0\n",
      "        2.0       0.85      0.13      0.22        85\n",
      "        3.0       0.00      0.00      0.00         2\n",
      "        4.0       0.00      0.00      0.00         0\n",
      "\n",
      "avg / total       0.80      0.12      0.21        90\n",
      "\n"
     ]
    },
    {
     "name": "stderr",
     "output_type": "stream",
     "text": [
      "/Users/davidleonardi/anaconda3/lib/python3.6/site-packages/sklearn/metrics/classification.py:1137: UndefinedMetricWarning: Recall and F-score are ill-defined and being set to 0.0 in labels with no true samples.\n",
      "  'recall', 'true', average, warn_for)\n"
     ]
    },
    {
     "data": {
      "image/png": "[encoded data removed]",
      "text/plain": [
       "<matplotlib.figure.Figure at 0x1c2468ce10>"
      ]
     },
     "metadata": {},
     "output_type": "display_data"
    }
   ],
   "source": [
    "# sklearn.svm.NuSVC Nu-Support Vector Classification\n",
    "# defaults: nu=0.5, kernel=’rbf’, degree=3, gamma=’auto’, coef0=0.0, shrinking=True, probability=False, tol=0.001, cache_size=200, class_weight=None, verbose=False, max_iter=-1, decision_function_shape=’ovr’, random_state=None)\n",
    "parameters = {\n",
    "    'nu': [0.001,0.0025,0.005,0.0075,0.1], #other larger nu values is \"not fleasible\"\n",
    "    'kernel': ['linear','poly','rbf'],\n",
    "    'degree': [2,3,4,5,6],\n",
    "    'gamma': [1e-5,1e-4,1e-3,1e-2,'auto'],\n",
    "    'tol' : [1e-4],\n",
    "    'decision_function_shape' : ['ovo','ovr'],\n",
    "\n",
    "}\n",
    "\n",
    "\n",
    "SVM = NuSVC()\n",
    "grid_search_cv = GridSearchCV(SVM, parameters, cv=5,n_jobs=-1, return_train_score=True, refit=True,verbose=1)\n",
    "grid_search_cv.fit(features_train, labels_train)\n",
    "resultsdf=pd.DataFrame(grid_search_cv.cv_results_)\n",
    "print(\"The train score:\", str(grid_search_cv.score(features_train, labels_train)), \"with parameters:\", grid_search_cv.best_params_)\n",
    "pred = grid_search_cv.best_estimator_.predict(features_test)\n",
    "\n",
    "checkmetrics(pred, labels_test, 'Nu-Support Vector Classification')\n"
   ]
  },
  {
   "cell_type": "markdown",
   "metadata": {},
   "source": [
    "# Using Important Features with threshold >= 0.4 (XGB)"
   ]
  },
  {
   "cell_type": "markdown",
   "metadata": {},
   "source": [
    "### XGB1 "
   ]
  },
  {
   "cell_type": "code",
   "execution_count": 31,
   "metadata": {},
   "outputs": [
    {
     "name": "stdout",
     "output_type": "stream",
     "text": [
      "Fitting 5 folds for each of 1350 candidates, totalling 6750 fits\n"
     ]
    },
    {
     "name": "stderr",
     "output_type": "stream",
     "text": [
      "[Parallel(n_jobs=-1)]: Done 344 tasks      | elapsed:    0.6s\n",
      "[Parallel(n_jobs=-1)]: Done 5744 tasks      | elapsed:    6.4s\n",
      "[Parallel(n_jobs=-1)]: Done 6750 out of 6750 | elapsed:    7.8s finished\n"
     ]
    },
    {
     "name": "stdout",
     "output_type": "stream",
     "text": [
      "The train score: 0.9302325581395349 with parameters: {'C': 1.0, 'decision_function_shape': 'ovo', 'degree': 2, 'gamma': 1, 'kernel': 'rbf', 'tol': 0.0001}\n",
      "The accuracy of  C-Support Vector Classification is:  0.3888888888888889\n",
      "AxesSubplot(0.125,0.125;0.62x0.755)\n",
      "             precision    recall  f1-score   support\n",
      "\n",
      "        0.0       0.69      0.66      0.67        47\n",
      "        1.0       0.10      0.12      0.11        16\n",
      "        2.0       0.08      0.07      0.07        14\n",
      "        3.0       0.17      0.08      0.11        13\n",
      "        4.0       0.00      0.00      0.00         0\n",
      "\n",
      "avg / total       0.41      0.39      0.40        90\n",
      "\n"
     ]
    },
    {
     "name": "stderr",
     "output_type": "stream",
     "text": [
      "/Users/davidleonardi/anaconda3/lib/python3.6/site-packages/sklearn/metrics/classification.py:1137: UndefinedMetricWarning: Recall and F-score are ill-defined and being set to 0.0 in labels with no true samples.\n",
      "  'recall', 'true', average, warn_for)\n"
     ]
    },
    {
     "data": {
      "image/png": "[encoded data removed]",
      "text/plain": [
       "<matplotlib.figure.Figure at 0x1c24ac31d0>"
      ]
     },
     "metadata": {},
     "output_type": "display_data"
    }
   ],
   "source": [
    "#svm.SVC  C-Support Vector Classification.\n",
    "parameters ={\n",
    "         'C': [0.005,0.01,0.05,0.1,0.25,0.5,0.75,1.0,2.0],\n",
    "         'kernel': ['linear','poly','rbf'],\n",
    "         'degree': [2,3,4,5,6],\n",
    "        'gamma': [1e-3,1e-2,1,2,'auto'],\n",
    "        'tol' : [1e-4],\n",
    "        'decision_function_shape' : ['ovo','ovr'],\n",
    "        }\n",
    "SVM = svm.SVC()\n",
    "\n",
    "grid_search_cv = GridSearchCV(SVM, parameters, cv=5,n_jobs=-1, return_train_score=True, refit=True,verbose=1)\n",
    "grid_search_cv.fit(features_train_04, labels_train_04)\n",
    "resultsdf=pd.DataFrame(grid_search_cv.cv_results_)\n",
    "print(\"The train score:\", str(grid_search_cv.score(features_train_04, labels_train_04)), \"with parameters:\", grid_search_cv.best_params_)\n",
    "pred = grid_search_cv.best_estimator_.predict(features_test_04)\n",
    "\n",
    "checkmetrics(pred, labels_test, 'C-Support Vector Classification')"
   ]
  },
  {
   "cell_type": "code",
   "execution_count": 32,
   "metadata": {},
   "outputs": [
    {
     "name": "stdout",
     "output_type": "stream",
     "text": [
      "Fitting 5 folds for each of 18 candidates, totalling 90 fits\n"
     ]
    },
    {
     "name": "stderr",
     "output_type": "stream",
     "text": [
      "[Parallel(n_jobs=-1)]: Done  90 out of  90 | elapsed:    2.9s finished\n"
     ]
    },
    {
     "name": "stdout",
     "output_type": "stream",
     "text": [
      "The train score: 0.29844961240310075 with parameters: {'C': 0.5, 'max_iter': 1000, 'multi_class': 'crammer_singer', 'random_state': 42, 'tol': 0.0001}\n",
      "The accuracy of  Linear Support Vector Classification is:  0.45555555555555555\n",
      "AxesSubplot(0.125,0.125;0.62x0.755)\n",
      "             precision    recall  f1-score   support\n",
      "\n",
      "        0.0       0.71      0.65      0.68        49\n",
      "        1.0       0.24      0.26      0.25        19\n",
      "        2.0       0.15      0.18      0.17        11\n",
      "        3.0       0.00      0.00      0.00         1\n",
      "        4.0       0.40      0.20      0.27        10\n",
      "\n",
      "avg / total       0.50      0.46      0.47        90\n",
      "\n"
     ]
    },
    {
     "data": {
      "image/png": "[encoded data removed]",
      "text/plain": [
       "<matplotlib.figure.Figure at 0x1c24641d68>"
      ]
     },
     "metadata": {},
     "output_type": "display_data"
    }
   ],
   "source": [
    "#LinearSVC Linear Support Vector Classification\n",
    "\n",
    "parameters ={\n",
    "#       'penalty' : ['l2'], #Specifies the norm used in the penalization. The ‘l2’ penalty is the standard used in SVC. The ‘l1’ leads to coef_ vectors that are sparse.\n",
    "#       'loss' : ['squared_hinge'], #Specifies the loss function. ‘hinge’ is the standard SVM loss (used e.g. by the SVC class) while ‘squared_hinge’ is the square of the hinge loss.\n",
    "#        dual' : ['False'], #Select the algorithm to either solve the dual or primal optimization problem. Prefer dual=False when n_samples > n_features.\n",
    "        'tol' : [1e-5,1e-4,1e-3],\n",
    "        'C': [0.05,0.1,0.5,0.8,1.0,2.0,5.0,10.0,15.0],\n",
    "        'multi_class'  : ['ovr','crammer_singer'],\n",
    "        'random_state' : [42],\n",
    "        'tol' : [1e-4],\n",
    "        'max_iter' : [1000],\n",
    "        }\n",
    "SVM = LinearSVC()\n",
    "grid_search_cv = GridSearchCV(SVM, parameters, cv=5,n_jobs=-1, return_train_score=True, refit=True,verbose=1)\n",
    "grid_search_cv.fit(features_train_04, labels_train_04)\n",
    "resultsdf=pd.DataFrame(grid_search_cv.cv_results_)\n",
    "print(\"The train score:\", str(grid_search_cv.score(features_train_04, labels_train_04)), \"with parameters:\", grid_search_cv.best_params_)\n",
    "pred = grid_search_cv.best_estimator_.predict(features_test_04)\n",
    "\n",
    "checkmetrics(pred, labels_test, 'Linear Support Vector Classification')"
   ]
  },
  {
   "cell_type": "code",
   "execution_count": 33,
   "metadata": {},
   "outputs": [
    {
     "name": "stdout",
     "output_type": "stream",
     "text": [
      "Fitting 5 folds for each of 750 candidates, totalling 3750 fits\n"
     ]
    },
    {
     "name": "stderr",
     "output_type": "stream",
     "text": [
      "[Parallel(n_jobs=-1)]: Done 464 tasks      | elapsed:    0.7s\n",
      "[Parallel(n_jobs=-1)]: Done 3750 out of 3750 | elapsed:    2.5s finished\n"
     ]
    },
    {
     "name": "stdout",
     "output_type": "stream",
     "text": [
      "The train score: 1.0 with parameters: {'decision_function_shape': 'ovo', 'degree': 2, 'gamma': 'auto', 'kernel': 'rbf', 'nu': 0.005, 'tol': 0.0001}\n",
      "The accuracy of  Nu-Support Vector Classification is:  0.3888888888888889\n",
      "AxesSubplot(0.125,0.125;0.62x0.755)\n",
      "             precision    recall  f1-score   support\n",
      "\n",
      "        0.0       0.60      0.60      0.60        45\n",
      "        1.0       0.05      0.20      0.08         5\n",
      "        2.0       0.31      0.22      0.26        18\n",
      "        3.0       0.17      0.07      0.10        15\n",
      "        4.0       0.40      0.29      0.33         7\n",
      "\n",
      "avg / total       0.42      0.39      0.40        90\n",
      "\n"
     ]
    },
    {
     "data": {
      "image/png": "[encoded data removed]",
      "text/plain": [
       "<matplotlib.figure.Figure at 0x11f37f4e0>"
      ]
     },
     "metadata": {},
     "output_type": "display_data"
    }
   ],
   "source": [
    "# sklearn.svm.NuSVC Nu-Support Vector Classification\n",
    "# defaults: nu=0.5, kernel=’rbf’, degree=3, gamma=’auto’, coef0=0.0, shrinking=True, probability=False, tol=0.001, cache_size=200, class_weight=None, verbose=False, max_iter=-1, decision_function_shape=’ovr’, random_state=None)\n",
    "parameters = {\n",
    "    'nu': [0.001,0.0025,0.005,0.0075,0.1], #other larger nu values is \"not fleasible\"\n",
    "    'kernel': ['linear','poly','rbf'],\n",
    "    'degree': [2,3,4,5,6],\n",
    "    'gamma': [1e-5,1e-4,1e-3,1e-2,'auto'],\n",
    "    'tol' : [1e-4],\n",
    "    'decision_function_shape' : ['ovo','ovr'],\n",
    "\n",
    "}\n",
    "\n",
    "\n",
    "SVM = NuSVC()\n",
    "grid_search_cv = GridSearchCV(SVM, parameters, cv=5,n_jobs=-1, return_train_score=True, refit=True,verbose=1)\n",
    "grid_search_cv.fit(features_train_04, labels_train_04)\n",
    "resultsdf=pd.DataFrame(grid_search_cv.cv_results_)\n",
    "print(\"The train score:\", str(grid_search_cv.score(features_train_04, labels_train_04)), \"with parameters:\", grid_search_cv.best_params_)\n",
    "pred = grid_search_cv.best_estimator_.predict(features_test_04)\n",
    "\n",
    "checkmetrics(pred, labels_test, 'Nu-Support Vector Classification')\n"
   ]
  },
  {
   "cell_type": "markdown",
   "metadata": {},
   "source": [
    "# Using Important Features with threshold >= 0.09 (XGB)"
   ]
  },
  {
   "cell_type": "code",
   "execution_count": 34,
   "metadata": {},
   "outputs": [
    {
     "name": "stdout",
     "output_type": "stream",
     "text": [
      "Fitting 5 folds for each of 1350 candidates, totalling 6750 fits\n"
     ]
    },
    {
     "name": "stderr",
     "output_type": "stream",
     "text": [
      "[Parallel(n_jobs=-1)]: Done 424 tasks      | elapsed:    0.8s\n",
      "[Parallel(n_jobs=-1)]: Done 6750 out of 6750 | elapsed:    8.7s finished\n"
     ]
    },
    {
     "name": "stdout",
     "output_type": "stream",
     "text": [
      "The train score: 0.9015151515151515 with parameters: {'C': 2.0, 'decision_function_shape': 'ovo', 'degree': 2, 'gamma': 'auto', 'kernel': 'rbf', 'tol': 0.0001}\n",
      "The accuracy of  C-Support Vector Classification is:  0.5\n",
      "AxesSubplot(0.125,0.125;0.62x0.755)\n",
      "             precision    recall  f1-score   support\n",
      "\n",
      "        0.0       0.78      0.70      0.74        50\n",
      "        1.0       0.14      0.27      0.19        11\n",
      "        2.0       0.31      0.36      0.33        11\n",
      "        3.0       0.50      0.18      0.26        17\n",
      "        4.0       0.00      0.00      0.00         1\n",
      "\n",
      "avg / total       0.58      0.50      0.52        90\n",
      "\n"
     ]
    },
    {
     "data": {
      "image/png": "[encoded data removed]",
      "text/plain": [
       "<matplotlib.figure.Figure at 0x112f01748>"
      ]
     },
     "metadata": {},
     "output_type": "display_data"
    }
   ],
   "source": [
    "#svm.SVC  C-Support Vector Classification.\n",
    "parameters ={\n",
    "         'C': [0.005,0.01,0.05,0.1,0.25,0.5,0.75,1.0,2.0],\n",
    "         'kernel': ['linear','poly','rbf'],\n",
    "         'degree': [2,3,4,5,6],\n",
    "        'gamma': [1e-3,1e-2,1,2,'auto'],\n",
    "        'tol' : [1e-4],\n",
    "        'decision_function_shape' : ['ovo','ovr'],\n",
    "        }\n",
    "SVM = svm.SVC()\n",
    "\n",
    "grid_search_cv = GridSearchCV(SVM, parameters, cv=5,n_jobs=-1, return_train_score=True, refit=True,verbose=1)\n",
    "grid_search_cv.fit(features_train_009, labels_train_009)\n",
    "resultsdf=pd.DataFrame(grid_search_cv.cv_results_)\n",
    "print(\"The train score:\", str(grid_search_cv.score(features_train_009, labels_train_009)), \"with parameters:\", grid_search_cv.best_params_)\n",
    "pred = grid_search_cv.best_estimator_.predict(features_test_009)\n",
    "\n",
    "checkmetrics(pred, labels_test, 'C-Support Vector Classification')"
   ]
  },
  {
   "cell_type": "code",
   "execution_count": 35,
   "metadata": {},
   "outputs": [
    {
     "name": "stdout",
     "output_type": "stream",
     "text": [
      "Fitting 5 folds for each of 18 candidates, totalling 90 fits\n"
     ]
    },
    {
     "name": "stderr",
     "output_type": "stream",
     "text": [
      "[Parallel(n_jobs=-1)]: Done  90 out of  90 | elapsed:    9.5s finished\n"
     ]
    },
    {
     "name": "stdout",
     "output_type": "stream",
     "text": [
      "The train score: 0.5795454545454546 with parameters: {'C': 5.0, 'max_iter': 1000, 'multi_class': 'ovr', 'random_state': 42, 'tol': 0.0001}\n",
      "The accuracy of  Linear Support Vector Classification is:  0.5444444444444444\n",
      "AxesSubplot(0.125,0.125;0.62x0.755)\n",
      "             precision    recall  f1-score   support\n",
      "\n",
      "        0.0       0.91      0.75      0.82        55\n",
      "        1.0       0.05      0.20      0.08         5\n",
      "        2.0       0.31      0.27      0.29        15\n",
      "        3.0       0.33      0.33      0.33         6\n",
      "        4.0       0.20      0.11      0.14         9\n",
      "\n",
      "avg / total       0.65      0.54      0.59        90\n",
      "\n"
     ]
    },
    {
     "data": {
      "image/png": "[encoded data removed]",
      "text/plain": [
       "<matplotlib.figure.Figure at 0x1c245d6d68>"
      ]
     },
     "metadata": {},
     "output_type": "display_data"
    }
   ],
   "source": [
    "#LinearSVC Linear Support Vector Classification\n",
    "\n",
    "parameters ={\n",
    "#       'penalty' : ['l2'], #Specifies the norm used in the penalization. The ‘l2’ penalty is the standard used in SVC. The ‘l1’ leads to coef_ vectors that are sparse.\n",
    "#       'loss' : ['squared_hinge'], #Specifies the loss function. ‘hinge’ is the standard SVM loss (used e.g. by the SVC class) while ‘squared_hinge’ is the square of the hinge loss.\n",
    "#        dual' : ['False'], #Select the algorithm to either solve the dual or primal optimization problem. Prefer dual=False when n_samples > n_features.\n",
    "        'tol' : [1e-5,1e-4,1e-3],\n",
    "        'C': [0.05,0.1,0.5,0.8,1.0,2.0,5.0,10.0,15.0],\n",
    "        'multi_class'  : ['ovr','crammer_singer'],\n",
    "        'random_state' : [42],\n",
    "        'tol' : [1e-4],\n",
    "        'max_iter' : [1000],\n",
    "        }\n",
    "SVM = LinearSVC()\n",
    "grid_search_cv = GridSearchCV(SVM, parameters, cv=5,n_jobs=-1, return_train_score=True, refit=True,verbose=1)\n",
    "grid_search_cv.fit(features_train_009, labels_train_009)\n",
    "resultsdf=pd.DataFrame(grid_search_cv.cv_results_)\n",
    "print(\"The train score:\", str(grid_search_cv.score(features_train_009, labels_train_009)), \"with parameters:\", grid_search_cv.best_params_)\n",
    "pred = grid_search_cv.best_estimator_.predict(features_test_009)\n",
    "\n",
    "checkmetrics(pred, labels_test, 'Linear Support Vector Classification')"
   ]
  },
  {
   "cell_type": "code",
   "execution_count": 36,
   "metadata": {},
   "outputs": [
    {
     "name": "stdout",
     "output_type": "stream",
     "text": [
      "Fitting 5 folds for each of 750 candidates, totalling 3750 fits\n"
     ]
    },
    {
     "name": "stderr",
     "output_type": "stream",
     "text": [
      "[Parallel(n_jobs=-1)]: Done 396 tasks      | elapsed:    1.0s\n",
      "[Parallel(n_jobs=-1)]: Done 3750 out of 3750 | elapsed:    4.7s finished\n"
     ]
    },
    {
     "name": "stdout",
     "output_type": "stream",
     "text": [
      "The train score: 1.0 with parameters: {'decision_function_shape': 'ovo', 'degree': 2, 'gamma': 'auto', 'kernel': 'rbf', 'nu': 0.001, 'tol': 0.0001}\n",
      "The accuracy of  Nu-Support Vector Classification is:  0.4888888888888889\n",
      "AxesSubplot(0.125,0.125;0.62x0.755)\n",
      "             precision    recall  f1-score   support\n",
      "\n",
      "        0.0       0.80      0.67      0.73        54\n",
      "        1.0       0.14      0.33      0.20         9\n",
      "        2.0       0.23      0.27      0.25        11\n",
      "        3.0       0.33      0.13      0.19        15\n",
      "        4.0       0.00      0.00      0.00         1\n",
      "\n",
      "avg / total       0.58      0.49      0.52        90\n",
      "\n"
     ]
    },
    {
     "data": {
      "image/png": "[encoded data removed]",
      "text/plain": [
       "<matplotlib.figure.Figure at 0x1c25034cf8>"
      ]
     },
     "metadata": {},
     "output_type": "display_data"
    }
   ],
   "source": [
    "# sklearn.svm.NuSVC Nu-Support Vector Classification\n",
    "# defaults: nu=0.5, kernel=’rbf’, degree=3, gamma=’auto’, coef0=0.0, shrinking=True, probability=False, tol=0.001, cache_size=200, class_weight=None, verbose=False, max_iter=-1, decision_function_shape=’ovr’, random_state=None)\n",
    "parameters = {\n",
    "    'nu': [0.001,0.0025,0.005,0.0075,0.1], #other larger nu values is \"not fleasible\"\n",
    "    'kernel': ['linear','poly','rbf'],\n",
    "    'degree': [2,3,4,5,6],\n",
    "    'gamma': [1e-5,1e-4,1e-3,1e-2,'auto'],\n",
    "    'tol' : [1e-4],\n",
    "    'decision_function_shape' : ['ovo','ovr'],\n",
    "\n",
    "}\n",
    "\n",
    "\n",
    "SVM = NuSVC()\n",
    "grid_search_cv = GridSearchCV(SVM, parameters, cv=5,n_jobs=-1, return_train_score=True, refit=True,verbose=1)\n",
    "grid_search_cv.fit(features_train_009, labels_train_009)\n",
    "resultsdf=pd.DataFrame(grid_search_cv.cv_results_)\n",
    "print(\"The train score:\", str(grid_search_cv.score(features_train_009, labels_train_009)), \"with parameters:\", grid_search_cv.best_params_)\n",
    "pred = grid_search_cv.best_estimator_.predict(features_test_009)\n",
    "\n",
    "checkmetrics(pred, labels_test, 'Nu-Support Vector Classification')\n"
   ]
  },
  {
   "cell_type": "markdown",
   "metadata": {},
   "source": [
    "# Using PCA with Important Features (threshold >= 0.09) (XGB)"
   ]
  },
  {
   "cell_type": "code",
   "execution_count": 37,
   "metadata": {},
   "outputs": [
    {
     "name": "stdout",
     "output_type": "stream",
     "text": [
      "Fitting 5 folds for each of 1350 candidates, totalling 6750 fits\n"
     ]
    },
    {
     "name": "stderr",
     "output_type": "stream",
     "text": [
      "[Parallel(n_jobs=-1)]: Done 428 tasks      | elapsed:    0.8s\n",
      "[Parallel(n_jobs=-1)]: Done 6750 out of 6750 | elapsed:    7.5s finished\n"
     ]
    },
    {
     "name": "stdout",
     "output_type": "stream",
     "text": [
      "The train score: 0.7384615384615385 with parameters: {'C': 0.01, 'decision_function_shape': 'ovo', 'degree': 3, 'gamma': 1, 'kernel': 'poly', 'tol': 0.0001}\n",
      "The accuracy of  C-Support Vector Classification is:  0.32222222222222224\n",
      "AxesSubplot(0.125,0.125;0.62x0.755)\n",
      "             precision    recall  f1-score   support\n",
      "\n",
      "        0.0       0.53      0.45      0.49        53\n",
      "        1.0       0.14      0.15      0.15        20\n",
      "        2.0       0.08      0.25      0.12         4\n",
      "        3.0       0.00      0.00      0.00         7\n",
      "        4.0       0.20      0.17      0.18         6\n",
      "\n",
      "avg / total       0.36      0.32      0.34        90\n",
      "\n"
     ]
    },
    {
     "data": {
      "image/png": "[encoded data removed]",
      "text/plain": [
       "<matplotlib.figure.Figure at 0x11f348668>"
      ]
     },
     "metadata": {},
     "output_type": "display_data"
    }
   ],
   "source": [
    "#svm.SVC  C-Support Vector Classification.\n",
    "parameters ={\n",
    "         'C': [0.005,0.01,0.05,0.1,0.25,0.5,0.75,1.0,2.0],\n",
    "         'kernel': ['linear','poly','rbf'],\n",
    "         'degree': [2,3,4,5,6],\n",
    "        'gamma': [1e-3,1e-2,1,2,'auto'],\n",
    "        'tol' : [1e-4],\n",
    "        'decision_function_shape' : ['ovo','ovr'],\n",
    "        }\n",
    "SVM = svm.SVC()\n",
    "\n",
    "grid_search_cv = GridSearchCV(SVM, parameters, cv=5,n_jobs=-1, return_train_score=True, refit=True,verbose=1)\n",
    "grid_search_cv.fit(features_train_009_pca, labels_train_009_pca)\n",
    "resultsdf=pd.DataFrame(grid_search_cv.cv_results_)\n",
    "print(\"The train score:\", str(grid_search_cv.score(features_train_009_pca, labels_train_009_pca)), \"with parameters:\", grid_search_cv.best_params_)\n",
    "pred = grid_search_cv.best_estimator_.predict(features_test_009_pca)\n",
    "\n",
    "checkmetrics(pred, labels_test, 'C-Support Vector Classification')"
   ]
  },
  {
   "cell_type": "code",
   "execution_count": 38,
   "metadata": {},
   "outputs": [
    {
     "name": "stdout",
     "output_type": "stream",
     "text": [
      "Fitting 5 folds for each of 18 candidates, totalling 90 fits\n"
     ]
    },
    {
     "name": "stderr",
     "output_type": "stream",
     "text": [
      "[Parallel(n_jobs=-1)]: Done  90 out of  90 | elapsed:    2.3s finished\n"
     ]
    },
    {
     "name": "stdout",
     "output_type": "stream",
     "text": [
      "The train score: 0.3730769230769231 with parameters: {'C': 15.0, 'max_iter': 1000, 'multi_class': 'crammer_singer', 'random_state': 42, 'tol': 0.0001}\n",
      "The accuracy of  Linear Support Vector Classification is:  0.36666666666666664\n",
      "AxesSubplot(0.125,0.125;0.62x0.755)\n",
      "             precision    recall  f1-score   support\n",
      "\n",
      "        0.0       0.62      0.56      0.59        50\n",
      "        1.0       0.05      0.11      0.07         9\n",
      "        2.0       0.15      0.15      0.15        13\n",
      "        3.0       0.00      0.00      0.00         5\n",
      "        4.0       0.40      0.15      0.22        13\n",
      "\n",
      "avg / total       0.43      0.37      0.39        90\n",
      "\n"
     ]
    },
    {
     "data": {
      "image/png": "[encoded data removed]",
      "text/plain": [
       "<matplotlib.figure.Figure at 0x1c24a98f28>"
      ]
     },
     "metadata": {},
     "output_type": "display_data"
    }
   ],
   "source": [
    "#LinearSVC Linear Support Vector Classification\n",
    "\n",
    "parameters ={\n",
    "#       'penalty' : ['l2'], #Specifies the norm used in the penalization. The ‘l2’ penalty is the standard used in SVC. The ‘l1’ leads to coef_ vectors that are sparse.\n",
    "#       'loss' : ['squared_hinge'], #Specifies the loss function. ‘hinge’ is the standard SVM loss (used e.g. by the SVC class) while ‘squared_hinge’ is the square of the hinge loss.\n",
    "#        dual' : ['False'], #Select the algorithm to either solve the dual or primal optimization problem. Prefer dual=False when n_samples > n_features.\n",
    "        'tol' : [1e-4],\n",
    "        'C': [0.05,0.1,0.5,0.8,1.0,2.0,5.0,10.0,15.0],\n",
    "        'multi_class'  : ['ovr','crammer_singer'],\n",
    "        'random_state' : [42],\n",
    "        'tol' : [1e-4],\n",
    "        'max_iter' : [1000],\n",
    "        }\n",
    "SVM = LinearSVC()\n",
    "grid_search_cv = GridSearchCV(SVM, parameters, cv=5,n_jobs=-1, return_train_score=True, refit=True,verbose=1)\n",
    "grid_search_cv.fit(features_train_009_pca, labels_train_009_pca)\n",
    "resultsdf=pd.DataFrame(grid_search_cv.cv_results_)\n",
    "print(\"The train score:\", str(grid_search_cv.score(features_train_009_pca, labels_train_009_pca)), \"with parameters:\", grid_search_cv.best_params_)\n",
    "pred = grid_search_cv.best_estimator_.predict(features_test_009_pca)\n",
    "\n",
    "checkmetrics(pred, labels_test, 'Linear Support Vector Classification')"
   ]
  },
  {
   "cell_type": "code",
   "execution_count": 39,
   "metadata": {},
   "outputs": [
    {
     "name": "stdout",
     "output_type": "stream",
     "text": [
      "Fitting 5 folds for each of 750 candidates, totalling 3750 fits\n"
     ]
    },
    {
     "name": "stderr",
     "output_type": "stream",
     "text": [
      "[Parallel(n_jobs=-1)]: Done 440 tasks      | elapsed:    0.7s\n",
      "[Parallel(n_jobs=-1)]: Done 3750 out of 3750 | elapsed:    2.5s finished\n"
     ]
    },
    {
     "name": "stdout",
     "output_type": "stream",
     "text": [
      "The train score: 1.0 with parameters: {'decision_function_shape': 'ovo', 'degree': 2, 'gamma': 'auto', 'kernel': 'rbf', 'nu': 0.0075, 'tol': 0.0001}\n",
      "The accuracy of  Nu-Support Vector Classification is:  0.3333333333333333\n",
      "AxesSubplot(0.125,0.125;0.62x0.755)\n",
      "             precision    recall  f1-score   support\n",
      "\n",
      "        0.0       0.51      0.57      0.54        40\n",
      "        1.0       0.24      0.24      0.24        21\n",
      "        2.0       0.08      0.12      0.10         8\n",
      "        3.0       0.17      0.06      0.09        16\n",
      "        4.0       0.00      0.00      0.00         5\n",
      "\n",
      "avg / total       0.32      0.33      0.32        90\n",
      "\n"
     ]
    },
    {
     "data": {
      "image/png": "[encoded data removed]",
      "text/plain": [
       "<matplotlib.figure.Figure at 0x11f320d68>"
      ]
     },
     "metadata": {},
     "output_type": "display_data"
    }
   ],
   "source": [
    "# sklearn.svm.NuSVC Nu-Support Vector Classification\n",
    "# defaults: nu=0.5, kernel=’rbf’, degree=3, gamma=’auto’, coef0=0.0, shrinking=True, probability=False, tol=0.001, cache_size=200, class_weight=None, verbose=False, max_iter=-1, decision_function_shape=’ovr’, random_state=None)\n",
    "parameters = {\n",
    "    'nu': [0.001,0.0025,0.005,0.0075,0.1], #other larger nu values is \"not fleasible\"\n",
    "    'kernel': ['linear','poly','rbf'],\n",
    "    'degree': [2,3,4,5,6],\n",
    "    'gamma': [1e-5,1e-4,1e-3,1e-2,'auto'],\n",
    "    'tol' : [1e-4],\n",
    "    'decision_function_shape' : ['ovo','ovr'],\n",
    "\n",
    "}\n",
    "\n",
    "\n",
    "SVM = NuSVC()\n",
    "grid_search_cv = GridSearchCV(SVM, parameters, cv=5,n_jobs=-1, return_train_score=True, refit=True,verbose=1)\n",
    "grid_search_cv.fit(features_train_009_pca, labels_train_009_pca)\n",
    "resultsdf=pd.DataFrame(grid_search_cv.cv_results_)\n",
    "print(\"The train score:\", str(grid_search_cv.score(features_train_009_pca, labels_train_009_pca)), \"with parameters:\", grid_search_cv.best_params_)\n",
    "pred = grid_search_cv.best_estimator_.predict(features_test_009_pca)\n",
    "\n",
    "checkmetrics(pred, labels_test, 'Nu-Support Vector Classification')\n"
   ]
  },
  {
   "cell_type": "markdown",
   "metadata": {},
   "source": [
    "# Using PCA with Important Features (threshold >= 0.4) (XGB)"
   ]
  },
  {
   "cell_type": "code",
   "execution_count": 40,
   "metadata": {},
   "outputs": [
    {
     "name": "stdout",
     "output_type": "stream",
     "text": [
      "Fitting 5 folds for each of 1350 candidates, totalling 6750 fits\n"
     ]
    },
    {
     "name": "stderr",
     "output_type": "stream",
     "text": [
      "[Parallel(n_jobs=-1)]: Done 404 tasks      | elapsed:    0.8s\n",
      "[Parallel(n_jobs=-1)]: Done 5225 tasks      | elapsed:   19.3s\n",
      "[Parallel(n_jobs=-1)]: Done 6635 tasks      | elapsed:  1.2min\n",
      "[Parallel(n_jobs=-1)]: Done 6750 out of 6750 | elapsed:  2.2min finished\n"
     ]
    },
    {
     "name": "stdout",
     "output_type": "stream",
     "text": [
      "The train score: 0.44866920152091255 with parameters: {'C': 1.0, 'decision_function_shape': 'ovo', 'degree': 2, 'gamma': 'auto', 'kernel': 'rbf', 'tol': 0.001}\n",
      "The accuracy of  C-Support Vector Classification is:  0.18888888888888888\n",
      "AxesSubplot(0.125,0.125;0.62x0.755)\n",
      "             precision    recall  f1-score   support\n",
      "\n",
      "        0.0       0.22      0.33      0.27        30\n",
      "        1.0       0.24      0.24      0.24        21\n",
      "        2.0       0.08      0.06      0.07        16\n",
      "        3.0       0.00      0.00      0.00         8\n",
      "        4.0       0.20      0.07      0.10        15\n",
      "\n",
      "avg / total       0.18      0.19      0.17        90\n",
      "\n"
     ]
    },
    {
     "data": {
      "image/png": "[encoded data removed]",
      "text/plain": [
       "<matplotlib.figure.Figure at 0x1c24a66550>"
      ]
     },
     "metadata": {},
     "output_type": "display_data"
    }
   ],
   "source": [
    "#svm.SVC  C-Support Vector Classification.\n",
    "parameters ={\n",
    "         'C': [0.005,0.01,0.05,0.1,0.25,0.5,0.75,1.0,2.0],\n",
    "         'kernel': ['linear','poly','rbf'],\n",
    "         'degree': [2,3,4,5,6],\n",
    "        'gamma': [1e-3,1e-2,1,2,'auto'],\n",
    "        'tol' : [1e-3],\n",
    "        'decision_function_shape' : ['ovo','ovr'],\n",
    "        }\n",
    "SVM = svm.SVC()\n",
    "\n",
    "grid_search_cv = GridSearchCV(SVM, parameters, cv=5,n_jobs=-1, return_train_score=True, refit=True,verbose=1)\n",
    "grid_search_cv.fit(features_train_04_pca, labels_train_04_pca)\n",
    "resultsdf=pd.DataFrame(grid_search_cv.cv_results_)\n",
    "print(\"The train score:\", str(grid_search_cv.score(features_train_04_pca, labels_train_04_pca)), \"with parameters:\", grid_search_cv.best_params_)\n",
    "pred = grid_search_cv.best_estimator_.predict(features_test_04_pca)\n",
    "\n",
    "checkmetrics(pred, labels_test, 'C-Support Vector Classification')"
   ]
  },
  {
   "cell_type": "code",
   "execution_count": 45,
   "metadata": {},
   "outputs": [
    {
     "name": "stdout",
     "output_type": "stream",
     "text": [
      "Fitting 5 folds for each of 18 candidates, totalling 90 fits\n"
     ]
    },
    {
     "name": "stderr",
     "output_type": "stream",
     "text": [
      "[Parallel(n_jobs=-1)]: Done  90 out of  90 | elapsed:    0.6s finished\n"
     ]
    },
    {
     "name": "stdout",
     "output_type": "stream",
     "text": [
      "The train score: 0.33460076045627374 with parameters: {'C': 15.0, 'max_iter': 1000, 'multi_class': 'ovr', 'random_state': 42, 'tol': 0.001}\n",
      "The accuracy of  Linear Support Vector Classification is:  0.2\n",
      "AxesSubplot(0.125,0.125;0.62x0.755)\n",
      "             precision    recall  f1-score   support\n",
      "\n",
      "        0.0       0.36      0.35      0.35        46\n",
      "        1.0       0.00      0.00      0.00         3\n",
      "        2.0       0.08      0.08      0.08        12\n",
      "        3.0       0.17      0.03      0.06        29\n",
      "        4.0       0.00      0.00      0.00         0\n",
      "\n",
      "avg / total       0.25      0.20      0.21        90\n",
      "\n"
     ]
    },
    {
     "name": "stderr",
     "output_type": "stream",
     "text": [
      "/Users/davidleonardi/anaconda3/lib/python3.6/site-packages/sklearn/metrics/classification.py:1137: UndefinedMetricWarning: Recall and F-score are ill-defined and being set to 0.0 in labels with no true samples.\n",
      "  'recall', 'true', average, warn_for)\n"
     ]
    },
    {
     "data": {
      "image/png": "[encoded data removed]",
      "text/plain": [
       "<matplotlib.figure.Figure at 0x1c315865f8>"
      ]
     },
     "metadata": {},
     "output_type": "display_data"
    }
   ],
   "source": [
    "#LinearSVC Linear Support Vector Classification\n",
    "\n",
    "parameters ={\n",
    "#       'penalty' : ['l2'], #Specifies the norm used in the penalization. The ‘l2’ penalty is the standard used in SVC. The ‘l1’ leads to coef_ vectors that are sparse.\n",
    "#       'loss' : ['squared_hinge'], #Specifies the loss function. ‘hinge’ is the standard SVM loss (used e.g. by the SVC class) while ‘squared_hinge’ is the square of the hinge loss.\n",
    "#        dual' : ['False'], #Select the algorithm to either solve the dual or primal optimization problem. Prefer dual=False when n_samples > n_features.\n",
    "        'tol' : [1e-3],\n",
    "        'C': [0.05,0.1,0.5,0.8,1.0,2.0,5.0,10.0,15.0],\n",
    "        'multi_class'  : ['ovr','crammer_singer'],\n",
    "        'random_state' : [42],\n",
    "        'tol' : [1e-3],\n",
    "        'max_iter' : [1000],\n",
    "        }\n",
    "SVM = LinearSVC()\n",
    "grid_search_cv = GridSearchCV(SVM, parameters, cv=5,n_jobs=-1, return_train_score=True, refit=True,verbose=1)\n",
    "grid_search_cv.fit(features_train_04_pca, labels_train_04_pca)\n",
    "resultsdf=pd.DataFrame(grid_search_cv.cv_results_)\n",
    "print(\"The train score:\", str(grid_search_cv.score(features_train_04_pca, labels_train_04_pca)), \"with parameters:\", grid_search_cv.best_params_)\n",
    "pred = grid_search_cv.best_estimator_.predict(features_test_04_pca)\n",
    "\n",
    "checkmetrics(pred, labels_test, 'Linear Support Vector Classification')"
   ]
  },
  {
   "cell_type": "code",
   "execution_count": 42,
   "metadata": {},
   "outputs": [
    {
     "name": "stdout",
     "output_type": "stream",
     "text": [
      "Fitting 5 folds for each of 750 candidates, totalling 3750 fits\n"
     ]
    },
    {
     "name": "stderr",
     "output_type": "stream",
     "text": [
      "[Parallel(n_jobs=-1)]: Done 512 tasks      | elapsed:    0.7s\n",
      "[Parallel(n_jobs=-1)]: Done 3750 out of 3750 | elapsed:    2.2s finished\n"
     ]
    },
    {
     "name": "stdout",
     "output_type": "stream",
     "text": [
      "The train score: 0.2737642585551331 with parameters: {'decision_function_shape': 'ovo', 'degree': 5, 'gamma': 'auto', 'kernel': 'poly', 'nu': 0.001, 'tol': 0.001}\n",
      "The accuracy of  Nu-Support Vector Classification is:  0.3\n",
      "AxesSubplot(0.125,0.125;0.62x0.755)\n",
      "             precision    recall  f1-score   support\n",
      "\n",
      "        0.0       0.60      0.42      0.49        65\n",
      "        1.0       0.00      0.00      0.00         6\n",
      "        2.0       0.00      0.00      0.00         0\n",
      "        3.0       0.00      0.00      0.00        11\n",
      "        4.0       0.00      0.00      0.00         8\n",
      "\n",
      "avg / total       0.43      0.30      0.35        90\n",
      "\n"
     ]
    },
    {
     "name": "stderr",
     "output_type": "stream",
     "text": [
      "/Users/davidleonardi/anaconda3/lib/python3.6/site-packages/sklearn/metrics/classification.py:1137: UndefinedMetricWarning: Recall and F-score are ill-defined and being set to 0.0 in labels with no true samples.\n",
      "  'recall', 'true', average, warn_for)\n"
     ]
    },
    {
     "data": {
      "image/png": "[encoded data removed]",
      "text/plain": [
       "<matplotlib.figure.Figure at 0x112f01748>"
      ]
     },
     "metadata": {},
     "output_type": "display_data"
    }
   ],
   "source": [
    "# sklearn.svm.NuSVC Nu-Support Vector Classification\n",
    "# defaults: nu=0.5, kernel=’rbf’, degree=3, gamma=’auto’, coef0=0.0, shrinking=True, probability=False, tol=0.001, cache_size=200, class_weight=None, verbose=False, max_iter=-1, decision_function_shape=’ovr’, random_state=None)\n",
    "parameters = {\n",
    "    'nu': [0.001,0.0025,0.005,0.0075,0.1], #other larger nu values is \"not fleasible\"\n",
    "    'kernel': ['linear','poly','rbf'],\n",
    "    'degree': [2,3,4,5,6],\n",
    "    'gamma': [1e-5,1e-4,1e-3,1e-2,'auto'],\n",
    "    'tol' : [1e-3],\n",
    "    'decision_function_shape' : ['ovo','ovr'],\n",
    "\n",
    "}\n",
    "\n",
    "\n",
    "SVM = NuSVC()\n",
    "grid_search_cv = GridSearchCV(SVM, parameters, cv=5,n_jobs=-1, return_train_score=True, refit=True,verbose=1)\n",
    "grid_search_cv.fit(features_train_04_pca, labels_train_04_pca)\n",
    "resultsdf=pd.DataFrame(grid_search_cv.cv_results_)\n",
    "print(\"The train score:\", str(grid_search_cv.score(features_train_04_pca, labels_train_04_pca)), \"with parameters:\", grid_search_cv.best_params_)\n",
    "pred = grid_search_cv.best_estimator_.predict(features_test_04_pca)\n",
    "\n",
    "checkmetrics(pred, labels_test, 'Nu-Support Vector Classification')\n"
   ]
  },
  {
   "cell_type": "code",
   "execution_count": null,
   "metadata": {},
   "outputs": [],
   "source": []
  }
 ],
 "metadata": {
  "kernelspec": {
   "display_name": "Python 3",
   "language": "python",
   "name": "python3"
  },
  "language_info": {
   "codemirror_mode": {
    "name": "ipython",
    "version": 3
   },
   "file_extension": ".py",
   "mimetype": "text/x-python",
   "name": "python",
   "nbconvert_exporter": "python",
   "pygments_lexer": "ipython3",
   "version": "3.6.4"
  }
 },
 "nbformat": 4,
 "nbformat_minor": 2
}
