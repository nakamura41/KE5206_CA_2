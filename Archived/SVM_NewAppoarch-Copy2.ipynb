{
 "cells": [
  {
   "cell_type": "code",
   "execution_count": 1,
   "metadata": {},
   "outputs": [
    {
     "name": "stderr",
     "output_type": "stream",
     "text": [
      "C:\\Users\\RyanT\\Anaconda3\\lib\\site-packages\\ggplot\\utils.py:81: FutureWarning: pandas.tslib is deprecated and will be removed in a future version.\n",
      "You can access Timestamp as pandas.Timestamp\n",
      "  pd.tslib.Timestamp,\n",
      "C:\\Users\\RyanT\\Anaconda3\\lib\\site-packages\\ggplot\\stats\\smoothers.py:4: FutureWarning: The pandas.lib module is deprecated and will be removed in a future version. These are private functions and can be accessed from pandas._libs.lib instead\n",
      "  from pandas.lib import Timestamp\n",
      "C:\\Users\\RyanT\\Anaconda3\\lib\\site-packages\\statsmodels\\compat\\pandas.py:56: FutureWarning: The pandas.core.datetools module is deprecated and will be removed in a future version. Please use the pandas.tseries module instead.\n",
      "  from pandas.core import datetools\n",
      "C:\\Users\\RyanT\\Anaconda3\\lib\\site-packages\\sklearn\\cross_validation.py:41: DeprecationWarning: This module was deprecated in version 0.18 in favor of the model_selection module into which all the refactored classes and functions are moved. Also note that the interface of the new CV iterators are different from that of this module. This module will be removed in 0.20.\n",
      "  \"This module will be removed in 0.20.\", DeprecationWarning)\n"
     ]
    }
   ],
   "source": [
    "%matplotlib inline\n",
    "\n",
    "import pandas as pd\n",
    "import numpy as np\n",
    "import seaborn as sns\n",
    "\n",
    "from imblearn.over_sampling import SMOTE #for SMOTE -> install package using: conda install -c conda-forge imbalanced-learn\n",
    "from imblearn.over_sampling import RandomOverSampler \n",
    "from scipy import stats, integrate\n",
    "import matplotlib.pyplot as plt\n",
    "import ggplot\n",
    "import scipy\n",
    "from sklearn.linear_model import LogisticRegression \n",
    "from sklearn.model_selection import train_test_split \n",
    "from sklearn import metrics\n",
    "from sklearn.svm import LinearSVC\n",
    "from sklearn.svm import NuSVC\n",
    "#from sklearn.svm import SVR #just Testing for regression on other continous data of dataset\n",
    "from sklearn.decomposition import PCA, NMF\n",
    "from sklearn.preprocessing import OneHotEncoder\n",
    "from sklearn.datasets import load_digits\n",
    "from sklearn.feature_selection import SelectKBest, chi2\n",
    "\n",
    "\n",
    "import pylab as pl\n",
    "from itertools import cycle\n",
    "from sklearn import cross_validation\n",
    "from sklearn.svm import SVC\n",
    "\n",
    "features_list = ['age','sex','cp','trestbps','chol','fbs','restecg','thalach','exang','oldpeak','slope','ca','thal','class']\n",
    "dataset1=pd.read_csv(\"data\\Heart_Disease_Data.csv\")\n"
   ]
  },
  {
   "cell_type": "code",
   "execution_count": 2,
   "metadata": {},
   "outputs": [
    {
     "name": "stderr",
     "output_type": "stream",
     "text": [
      "C:\\Users\\RyanT\\Anaconda3\\lib\\site-packages\\ipykernel_launcher.py:4: FutureWarning: convert_objects is deprecated.  To re-infer data dtypes for object columns, use DataFrame.infer_objects()\n",
      "For all other conversions use the data-type specific converters pd.to_datetime, pd.to_timedelta and pd.to_numeric.\n",
      "  after removing the cwd from sys.path.\n"
     ]
    }
   ],
   "source": [
    "# SVM requires that each data instance is represented as a vector of real numbers\n",
    "# If you already have numeric dtypes (int8|16|32|64,float64,boolean) you can convert it to another \"numeric\" dtype using Pandas .astype() method. Demo: In [90]: df = pd.DataFrame(np.random.randint(10**5,10**7,(5,3)),columns=list('abc'), dtype=np.int64) In [91]: df Out[91]: a b c 0 9059440 9590567 2076918 1 5861102 4566089 1947323 2 6636568 162770 2487991 3 6794572 5236903 5628779 4 470121 4044395 4546794 In [92]: df.dtypes Out[92]: a int64 b int64 c int64 dtype: object In [93]: df['a'] = df['a'].astype(float) In [94]: df.dtypes Out[94]: a float64 b int64 c int64 dtype: object It won't work for object (string) dtypes, that can't be converted to numbers: In [95]: df.loc[1, 'b'] = 'XXXXXX' In [96]: df Out[96]:...\n",
    "# Just make everything numeric for ease, later we will convert to ordinal/one-hot encoding.\n",
    "dataset1 = dataset1.convert_objects(convert_numeric=True)\n",
    "dataset1 = dataset1.astype('float')"
   ]
  },
  {
   "cell_type": "markdown",
   "metadata": {},
   "source": [
    "#### count missing value in terms of colunms #######"
   ]
  },
  {
   "cell_type": "code",
   "execution_count": 3,
   "metadata": {},
   "outputs": [
    {
     "name": "stdout",
     "output_type": "stream",
     "text": [
      "age               False\n",
      "sex               False\n",
      "cp                False\n",
      "trestbps          False\n",
      "chol              False\n",
      "fbs               False\n",
      "restecg           False\n",
      "thalach           False\n",
      "exang             False\n",
      "oldpeak           False\n",
      "slop              False\n",
      "ca                 True\n",
      "thal               True\n",
      "pred_attribute    False\n",
      "dtype: bool\n"
     ]
    }
   ],
   "source": [
    "#dataset.shape[0] - dataset.count()\n",
    "print(dataset1.isnull().any())\n",
    "dataset1 = dataset1.replace('?', np.nan)"
   ]
  },
  {
   "cell_type": "markdown",
   "metadata": {},
   "source": [
    "#### check for duplications"
   ]
  },
  {
   "cell_type": "code",
   "execution_count": 4,
   "metadata": {},
   "outputs": [
    {
     "data": {
      "text/plain": [
       "False"
      ]
     },
     "execution_count": 4,
     "metadata": {},
     "output_type": "execute_result"
    }
   ],
   "source": [
    "dataset1.duplicated().any()"
   ]
  },
  {
   "cell_type": "code",
   "execution_count": 5,
   "metadata": {},
   "outputs": [],
   "source": [
    "# based on https://pdfs.semanticscholar.org/daa0/f01f96a89fcfc5f41a2da67fb2a8966900ab.pdf \n",
    "# we should pick these features:\n",
    "Genetic_Based_Decision = dataset1[['cp','trestbps', 'restecg', 'thalach', 'ca', 'thal']]"
   ]
  },
  {
   "cell_type": "code",
   "execution_count": 6,
   "metadata": {},
   "outputs": [
    {
     "name": "stdout",
     "output_type": "stream",
     "text": [
      "outlier:  34.0 age\n",
      "outlier:  29.0 age\n",
      "outlier:  77.0 age\n",
      "outlier:  34.0 age\n",
      "outlier:  76.0 age\n",
      "outlier:  354.0 chol\n",
      "outlier:  340.0 chol\n",
      "outlier:  353.0 chol\n",
      "outlier:  417.0 chol\n",
      "outlier:  360.0 chol\n",
      "outlier:  141.0 chol\n",
      "outlier:  341.0 chol\n",
      "outlier:  407.0 chol\n",
      "outlier:  564.0 chol\n",
      "outlier:  394.0 chol\n",
      "outlier:  409.0 chol\n",
      "outlier:  126.0 chol\n",
      "outlier:  342.0 chol\n",
      "outlier:  131.0 chol\n",
      "outlier:  99.0 thalach\n",
      "outlier:  97.0 thalach\n",
      "outlier:  202.0 thalach\n",
      "outlier:  96.0 thalach\n",
      "outlier:  88.0 thalach\n",
      "outlier:  95.0 thalach\n",
      "outlier:  96.0 thalach\n",
      "outlier:  71.0 thalach\n",
      "outlier:  90.0 thalach\n",
      "outlier:  3.5 oldpeak\n",
      "outlier:  3.6 oldpeak\n",
      "outlier:  3.4 oldpeak\n",
      "outlier:  3.6 oldpeak\n",
      "outlier:  6.2 oldpeak\n",
      "outlier:  3.6 oldpeak\n",
      "outlier:  4.0 oldpeak\n",
      "outlier:  5.6 oldpeak\n",
      "outlier:  4.0 oldpeak\n",
      "outlier:  4.2 oldpeak\n",
      "outlier:  4.2 oldpeak\n",
      "outlier:  3.8 oldpeak\n",
      "outlier:  3.4 oldpeak\n",
      "outlier:  3.6 oldpeak\n",
      "outlier:  4.4 oldpeak\n",
      "outlier:  4.0 oldpeak\n",
      "outlier:  3.4 oldpeak\n",
      "(45, 'outliers. That is', 15.0, 'percent of the total list')\n"
     ]
    }
   ],
   "source": [
    "continuous_vars = dataset1[['age', 'restecg', 'chol', 'thalach', 'oldpeak']] \n",
    "\n",
    "def checkforoutlier(df):\n",
    "    outliersnumbers = 0\n",
    "    for column in df:\n",
    "        for number in df[column]:\n",
    "            if number < np.percentile(\n",
    "                df[column], 25)-(np.percentile(\n",
    "                df[column], 75)-np.percentile(\n",
    "                df[column], 25)) or number > np.percentile(\n",
    "                df[column], 75)+(np.percentile(\n",
    "                df[column], 75)-np.percentile(\n",
    "                df[column], 25)):\n",
    "                    print(\"outlier: \", number, column)\n",
    "                    outliersnumbers += 1\n",
    "    return outliersnumbers, 'outliers. That is', round(float(outliersnumbers)/float(len(df[column]))*100, 0), 'percent of the total list'\n",
    "\n",
    "print(checkforoutlier(continuous_vars))\n",
    "\n",
    "# Thalach seems very high, but after research a heartbeat of 202 is possible: "
   ]
  },
  {
   "cell_type": "code",
   "execution_count": 7,
   "metadata": {},
   "outputs": [],
   "source": [
    "# Two variables are discrete/ordinal: ca (number of major vessels colored by fluoroscopy) and num (diagnosis of heart disease)\n",
    "# Three can be directly viewed as 1 hot (because binary): 'sex':'male', 'fbs':'fasting blood sugar', 'exang':'exercise induced angina'\n",
    "\n",
    "# which leaves 4 for one-hot encoding. problem is that the values aren't unique, so have to manually\n",
    "# make extra columns:\n",
    "\n",
    "dataset1[\"cp\"] = dataset1[\"cp\"].replace([1,2,3,4], [\"typical angina\", \"atypical angina\", \"non-angina\", \"asymptomatic angina\"])\n",
    "dataset1[\"restecg\"] = dataset1[\"restecg\"].replace([0,1,2], [\"normalresecg\", \"ST-T wave abnormality\", \"left ventricular hypertrophy\"])\n",
    "dataset1[\"slop\"] = dataset1[\"slop\"].replace([1,2,3], [\"upsloping\", \"flat\", \"downsloping\"])\n",
    "dataset1[\"thal\"] = dataset1[\"thal\"].replace([3,6,7], [\"normalthal\", \"fixed defect\", \"reversible defect\"])\n",
    "\n",
    "x = dataset1[['cp', 'restecg', 'slop', 'thal']]\n",
    "for column in ['cp', 'restecg', 'slop', 'thal']:\n",
    "    one_hot = pd.get_dummies(dataset1[column])\n",
    "    dataset1 = dataset1.drop(column, axis=1)\n",
    "    dataset1 = dataset1.join(one_hot)"
   ]
  },
  {
   "cell_type": "code",
   "execution_count": 8,
   "metadata": {
    "_cell_guid": "b689622a-a475-40a8-bd33-e2b5e018d528",
    "_uuid": "2e13a97aaee5c269ff8f21fd7b66135927b66156"
   },
   "outputs": [],
   "source": [
    "### Extract features and labels from dataset for local testing:\n",
    "dataset1.dropna(inplace=True, axis=0, how=\"any\")\n",
    "Y=dataset1[\"pred_attribute\"]\n",
    "dataset1 = dataset1.drop(\"pred_attribute\", axis=1)\n",
    "X=dataset1"
   ]
  },
  {
   "cell_type": "code",
   "execution_count": 9,
   "metadata": {
    "_cell_guid": "2dacb7c2-6d4e-4a17-b5cb-d6ecd821c923",
    "_uuid": "c3355ae680b60b0daa713153f05b3709193af7f6"
   },
   "outputs": [],
   "source": [
    "# evaluate the model by splitting into train and test sets  #Edit by ryan, we aim to do 3 traditional sets in the end, this first split is 80/20\n",
    "features_train, features_test, labels_train, labels_test = train_test_split(X, Y, test_size=0.3, random_state=0)\n",
    "\n"
   ]
  },
  {
   "cell_type": "code",
   "execution_count": 10,
   "metadata": {
    "_cell_guid": "5065d9ba-be53-4431-bb86-152ee1673550",
    "_uuid": "00229a787842594dee105c79de5871548613a045"
   },
   "outputs": [
    {
     "name": "stdout",
     "output_type": "stream",
     "text": [
      "Counter({0.0: 116, 1.0: 33, 3.0: 29, 2.0: 23, 4.0: 8})\n",
      "Counter({0.0: 45, 1.0: 21, 2.0: 13, 3.0: 6, 4.0: 5})\n"
     ]
    }
   ],
   "source": [
    "import collections\n",
    "\n",
    "list1 = []\n",
    "for i in labels_train:\n",
    "    list1.append(i)\n",
    "counter=collections.Counter(list1)\n",
    "print(counter)\n",
    "\n",
    "list2 = []\n",
    "for i in labels_test:\n",
    "    list2.append(i)\n",
    "counter=collections.Counter(list2)\n",
    "print(counter)"
   ]
  },
  {
   "cell_type": "code",
   "execution_count": 11,
   "metadata": {},
   "outputs": [
    {
     "name": "stdout",
     "output_type": "stream",
     "text": [
      "0.6989966555183946\n"
     ]
    }
   ],
   "source": [
    "# Check\n",
    "print(len(features_train)/(len(features_train)+ len(features_test)))"
   ]
  },
  {
   "cell_type": "code",
   "execution_count": 12,
   "metadata": {},
   "outputs": [],
   "source": [
    "features_train_df = pd.DataFrame(features_train)\n",
    "features_train_df.to_csv('features_train.csv', index=False)\n",
    "\n",
    "features_test_df = pd.DataFrame(features_test)\n",
    "features_test_df.to_csv('features_test.csv', index=False)\n",
    "\n",
    "labels_train_df = pd.DataFrame(labels_train)\n",
    "labels_train_df.to_csv('labels_train.csv', index=False)\n",
    "\n",
    "labels_test_df = pd.DataFrame(labels_test)\n",
    "labels_test_df.to_csv('labels_test.csv', index=False)"
   ]
  },
  {
   "cell_type": "markdown",
   "metadata": {},
   "source": []
  },
  {
   "cell_type": "markdown",
   "metadata": {},
   "source": [
    "## Feature Importance Scores based on XGBoost (by David)"
   ]
  },
  {
   "cell_type": "code",
   "execution_count": 13,
   "metadata": {},
   "outputs": [
    {
     "name": "stdout",
     "output_type": "stream",
     "text": [
      "[0]\ttrain-mlogloss:1.56169\ttest-mlogloss:1.58178\n",
      "[1]\ttrain-mlogloss:1.51757\ttest-mlogloss:1.55545\n",
      "[2]\ttrain-mlogloss:1.47601\ttest-mlogloss:1.52882\n",
      "[3]\ttrain-mlogloss:1.43633\ttest-mlogloss:1.50924\n",
      "[4]\ttrain-mlogloss:1.40032\ttest-mlogloss:1.48938\n",
      "[5]\ttrain-mlogloss:1.36414\ttest-mlogloss:1.46998\n",
      "[6]\ttrain-mlogloss:1.33006\ttest-mlogloss:1.45093\n",
      "[7]\ttrain-mlogloss:1.29759\ttest-mlogloss:1.43466\n",
      "[8]\ttrain-mlogloss:1.26796\ttest-mlogloss:1.41775\n",
      "[9]\ttrain-mlogloss:1.24133\ttest-mlogloss:1.4047\n",
      "[10]\ttrain-mlogloss:1.21279\ttest-mlogloss:1.38872\n",
      "[11]\ttrain-mlogloss:1.18517\ttest-mlogloss:1.37477\n",
      "[12]\ttrain-mlogloss:1.15874\ttest-mlogloss:1.36343\n",
      "[13]\ttrain-mlogloss:1.13429\ttest-mlogloss:1.35443\n",
      "[14]\ttrain-mlogloss:1.11022\ttest-mlogloss:1.34295\n",
      "[15]\ttrain-mlogloss:1.0887\ttest-mlogloss:1.33271\n",
      "[16]\ttrain-mlogloss:1.06785\ttest-mlogloss:1.32123\n",
      "[17]\ttrain-mlogloss:1.0469\ttest-mlogloss:1.31217\n",
      "[18]\ttrain-mlogloss:1.02639\ttest-mlogloss:1.30168\n",
      "[19]\ttrain-mlogloss:1.00637\ttest-mlogloss:1.29367\n",
      "[20]\ttrain-mlogloss:0.986615\ttest-mlogloss:1.28616\n",
      "[21]\ttrain-mlogloss:0.967951\ttest-mlogloss:1.27609\n",
      "[22]\ttrain-mlogloss:0.95008\ttest-mlogloss:1.27155\n",
      "[23]\ttrain-mlogloss:0.932793\ttest-mlogloss:1.2636\n",
      "[24]\ttrain-mlogloss:0.915417\ttest-mlogloss:1.25974\n",
      "[25]\ttrain-mlogloss:0.899098\ttest-mlogloss:1.25215\n",
      "[26]\ttrain-mlogloss:0.883898\ttest-mlogloss:1.24599\n",
      "[27]\ttrain-mlogloss:0.868175\ttest-mlogloss:1.24172\n",
      "[28]\ttrain-mlogloss:0.853806\ttest-mlogloss:1.23503\n",
      "[29]\ttrain-mlogloss:0.839229\ttest-mlogloss:1.23018\n",
      "[30]\ttrain-mlogloss:0.824357\ttest-mlogloss:1.22608\n",
      "[31]\ttrain-mlogloss:0.811133\ttest-mlogloss:1.2218\n",
      "[32]\ttrain-mlogloss:0.797629\ttest-mlogloss:1.21619\n",
      "[33]\ttrain-mlogloss:0.784612\ttest-mlogloss:1.2144\n",
      "[34]\ttrain-mlogloss:0.771406\ttest-mlogloss:1.21132\n",
      "[35]\ttrain-mlogloss:0.75935\ttest-mlogloss:1.20848\n",
      "[36]\ttrain-mlogloss:0.747133\ttest-mlogloss:1.20414\n",
      "[37]\ttrain-mlogloss:0.736072\ttest-mlogloss:1.20207\n",
      "[38]\ttrain-mlogloss:0.724848\ttest-mlogloss:1.19706\n",
      "[39]\ttrain-mlogloss:0.713662\ttest-mlogloss:1.19443\n",
      "[40]\ttrain-mlogloss:0.702334\ttest-mlogloss:1.19121\n",
      "[41]\ttrain-mlogloss:0.691723\ttest-mlogloss:1.18815\n",
      "[42]\ttrain-mlogloss:0.681835\ttest-mlogloss:1.18424\n",
      "[43]\ttrain-mlogloss:0.671689\ttest-mlogloss:1.18012\n",
      "[44]\ttrain-mlogloss:0.661405\ttest-mlogloss:1.17751\n",
      "[45]\ttrain-mlogloss:0.652233\ttest-mlogloss:1.17628\n",
      "[46]\ttrain-mlogloss:0.643473\ttest-mlogloss:1.17375\n",
      "[47]\ttrain-mlogloss:0.634202\ttest-mlogloss:1.17235\n",
      "[48]\ttrain-mlogloss:0.624147\ttest-mlogloss:1.17142\n",
      "[49]\ttrain-mlogloss:0.61539\ttest-mlogloss:1.16949\n",
      "[50]\ttrain-mlogloss:0.606655\ttest-mlogloss:1.16776\n",
      "[51]\ttrain-mlogloss:0.598547\ttest-mlogloss:1.1656\n",
      "[52]\ttrain-mlogloss:0.589934\ttest-mlogloss:1.16276\n",
      "[53]\ttrain-mlogloss:0.581663\ttest-mlogloss:1.15963\n",
      "[54]\ttrain-mlogloss:0.574061\ttest-mlogloss:1.15704\n",
      "[55]\ttrain-mlogloss:0.566959\ttest-mlogloss:1.1566\n",
      "[56]\ttrain-mlogloss:0.559686\ttest-mlogloss:1.15665\n",
      "[57]\ttrain-mlogloss:0.552114\ttest-mlogloss:1.1569\n",
      "[58]\ttrain-mlogloss:0.54539\ttest-mlogloss:1.1577\n",
      "[59]\ttrain-mlogloss:0.538296\ttest-mlogloss:1.15824\n",
      "[60]\ttrain-mlogloss:0.531984\ttest-mlogloss:1.15778\n",
      "[61]\ttrain-mlogloss:0.525528\ttest-mlogloss:1.15925\n",
      "[62]\ttrain-mlogloss:0.519383\ttest-mlogloss:1.1587\n",
      "[63]\ttrain-mlogloss:0.513453\ttest-mlogloss:1.15833\n",
      "[64]\ttrain-mlogloss:0.507443\ttest-mlogloss:1.15805\n",
      "[65]\ttrain-mlogloss:0.501404\ttest-mlogloss:1.15764\n",
      "[66]\ttrain-mlogloss:0.495826\ttest-mlogloss:1.1585\n",
      "[67]\ttrain-mlogloss:0.489503\ttest-mlogloss:1.15779\n",
      "[68]\ttrain-mlogloss:0.483353\ttest-mlogloss:1.15638\n",
      "[69]\ttrain-mlogloss:0.477311\ttest-mlogloss:1.15587\n",
      "[70]\ttrain-mlogloss:0.472597\ttest-mlogloss:1.15573\n",
      "[71]\ttrain-mlogloss:0.467029\ttest-mlogloss:1.15589\n",
      "[72]\ttrain-mlogloss:0.461652\ttest-mlogloss:1.15766\n",
      "[73]\ttrain-mlogloss:0.455899\ttest-mlogloss:1.15689\n",
      "[74]\ttrain-mlogloss:0.45052\ttest-mlogloss:1.15758\n",
      "[75]\ttrain-mlogloss:0.445507\ttest-mlogloss:1.15776\n",
      "[76]\ttrain-mlogloss:0.43994\ttest-mlogloss:1.15742\n",
      "[77]\ttrain-mlogloss:0.435033\ttest-mlogloss:1.15833\n",
      "[78]\ttrain-mlogloss:0.430185\ttest-mlogloss:1.15828\n",
      "[79]\ttrain-mlogloss:0.425587\ttest-mlogloss:1.15741\n",
      "[80]\ttrain-mlogloss:0.420902\ttest-mlogloss:1.15713\n",
      "[81]\ttrain-mlogloss:0.416303\ttest-mlogloss:1.15891\n",
      "[82]\ttrain-mlogloss:0.41215\ttest-mlogloss:1.15911\n",
      "[83]\ttrain-mlogloss:0.407622\ttest-mlogloss:1.1587\n",
      "[84]\ttrain-mlogloss:0.40355\ttest-mlogloss:1.15813\n",
      "[85]\ttrain-mlogloss:0.398809\ttest-mlogloss:1.1588\n",
      "[86]\ttrain-mlogloss:0.394878\ttest-mlogloss:1.15948\n",
      "[87]\ttrain-mlogloss:0.390427\ttest-mlogloss:1.1599\n",
      "[88]\ttrain-mlogloss:0.386426\ttest-mlogloss:1.16034\n",
      "[89]\ttrain-mlogloss:0.382521\ttest-mlogloss:1.16091\n",
      "[90]\ttrain-mlogloss:0.378917\ttest-mlogloss:1.16085\n",
      "[91]\ttrain-mlogloss:0.375373\ttest-mlogloss:1.16289\n",
      "[92]\ttrain-mlogloss:0.371757\ttest-mlogloss:1.16234\n",
      "[93]\ttrain-mlogloss:0.368123\ttest-mlogloss:1.16119\n",
      "[94]\ttrain-mlogloss:0.364494\ttest-mlogloss:1.16136\n",
      "[95]\ttrain-mlogloss:0.36149\ttest-mlogloss:1.16403\n",
      "[96]\ttrain-mlogloss:0.357911\ttest-mlogloss:1.16436\n",
      "[97]\ttrain-mlogloss:0.354547\ttest-mlogloss:1.16499\n",
      "[98]\ttrain-mlogloss:0.351186\ttest-mlogloss:1.16476\n",
      "[99]\ttrain-mlogloss:0.347558\ttest-mlogloss:1.16507\n",
      "[100]\ttrain-mlogloss:0.344421\ttest-mlogloss:1.16451\n",
      "[101]\ttrain-mlogloss:0.34135\ttest-mlogloss:1.16568\n",
      "[102]\ttrain-mlogloss:0.33849\ttest-mlogloss:1.16695\n",
      "[103]\ttrain-mlogloss:0.335425\ttest-mlogloss:1.16772\n",
      "[104]\ttrain-mlogloss:0.332608\ttest-mlogloss:1.16888\n",
      "[105]\ttrain-mlogloss:0.329427\ttest-mlogloss:1.16999\n",
      "[106]\ttrain-mlogloss:0.326615\ttest-mlogloss:1.17163\n",
      "[107]\ttrain-mlogloss:0.323532\ttest-mlogloss:1.17039\n",
      "[108]\ttrain-mlogloss:0.320515\ttest-mlogloss:1.17127\n",
      "[109]\ttrain-mlogloss:0.317906\ttest-mlogloss:1.17224\n",
      "[110]\ttrain-mlogloss:0.315144\ttest-mlogloss:1.17343\n",
      "[111]\ttrain-mlogloss:0.312737\ttest-mlogloss:1.17601\n",
      "[112]\ttrain-mlogloss:0.309922\ttest-mlogloss:1.17578\n",
      "[113]\ttrain-mlogloss:0.307382\ttest-mlogloss:1.17606\n",
      "[114]\ttrain-mlogloss:0.304765\ttest-mlogloss:1.17696\n",
      "[115]\ttrain-mlogloss:0.302107\ttest-mlogloss:1.17813\n",
      "[116]\ttrain-mlogloss:0.299923\ttest-mlogloss:1.17939\n",
      "[117]\ttrain-mlogloss:0.297627\ttest-mlogloss:1.17913\n",
      "[118]\ttrain-mlogloss:0.295496\ttest-mlogloss:1.17936\n",
      "[119]\ttrain-mlogloss:0.293244\ttest-mlogloss:1.18119\n",
      "[120]\ttrain-mlogloss:0.290929\ttest-mlogloss:1.18321\n",
      "[121]\ttrain-mlogloss:0.288762\ttest-mlogloss:1.18578\n",
      "[122]\ttrain-mlogloss:0.286194\ttest-mlogloss:1.18854\n",
      "[123]\ttrain-mlogloss:0.283875\ttest-mlogloss:1.18899\n",
      "[124]\ttrain-mlogloss:0.281692\ttest-mlogloss:1.19001\n",
      "[125]\ttrain-mlogloss:0.279753\ttest-mlogloss:1.19083\n",
      "[126]\ttrain-mlogloss:0.277392\ttest-mlogloss:1.1912\n",
      "[127]\ttrain-mlogloss:0.275096\ttest-mlogloss:1.19241\n",
      "[128]\ttrain-mlogloss:0.272934\ttest-mlogloss:1.19325\n",
      "[129]\ttrain-mlogloss:0.271074\ttest-mlogloss:1.19483\n",
      "[130]\ttrain-mlogloss:0.268962\ttest-mlogloss:1.19508\n",
      "[131]\ttrain-mlogloss:0.266844\ttest-mlogloss:1.19576\n",
      "[132]\ttrain-mlogloss:0.264819\ttest-mlogloss:1.19513\n",
      "[133]\ttrain-mlogloss:0.262771\ttest-mlogloss:1.19508\n",
      "[134]\ttrain-mlogloss:0.260876\ttest-mlogloss:1.19678\n",
      "[135]\ttrain-mlogloss:0.258578\ttest-mlogloss:1.1973\n",
      "[136]\ttrain-mlogloss:0.256633\ttest-mlogloss:1.1987\n",
      "[137]\ttrain-mlogloss:0.254861\ttest-mlogloss:1.19962\n",
      "[138]\ttrain-mlogloss:0.252902\ttest-mlogloss:1.20261\n",
      "[139]\ttrain-mlogloss:0.251298\ttest-mlogloss:1.20277\n",
      "[140]\ttrain-mlogloss:0.249655\ttest-mlogloss:1.20362\n",
      "[141]\ttrain-mlogloss:0.247563\ttest-mlogloss:1.20421\n",
      "[142]\ttrain-mlogloss:0.245786\ttest-mlogloss:1.20505\n",
      "[143]\ttrain-mlogloss:0.244126\ttest-mlogloss:1.20718\n",
      "[144]\ttrain-mlogloss:0.242583\ttest-mlogloss:1.20803\n",
      "[145]\ttrain-mlogloss:0.241044\ttest-mlogloss:1.20853\n",
      "[146]\ttrain-mlogloss:0.239483\ttest-mlogloss:1.209\n",
      "[147]\ttrain-mlogloss:0.237951\ttest-mlogloss:1.21033\n",
      "[148]\ttrain-mlogloss:0.236475\ttest-mlogloss:1.2113\n",
      "[149]\ttrain-mlogloss:0.234857\ttest-mlogloss:1.21253\n",
      "[150]\ttrain-mlogloss:0.233312\ttest-mlogloss:1.21463\n",
      "[151]\ttrain-mlogloss:0.23183\ttest-mlogloss:1.21668\n",
      "[152]\ttrain-mlogloss:0.230426\ttest-mlogloss:1.21745\n",
      "[153]\ttrain-mlogloss:0.229097\ttest-mlogloss:1.21903\n",
      "[154]\ttrain-mlogloss:0.227658\ttest-mlogloss:1.21835\n",
      "[155]\ttrain-mlogloss:0.2262\ttest-mlogloss:1.22013\n",
      "[156]\ttrain-mlogloss:0.224764\ttest-mlogloss:1.22135\n",
      "[157]\ttrain-mlogloss:0.223336\ttest-mlogloss:1.22269\n",
      "[158]\ttrain-mlogloss:0.222023\ttest-mlogloss:1.22396\n",
      "[159]\ttrain-mlogloss:0.220594\ttest-mlogloss:1.22516\n",
      "[160]\ttrain-mlogloss:0.219281\ttest-mlogloss:1.22531\n"
     ]
    },
    {
     "name": "stdout",
     "output_type": "stream",
     "text": [
      "[161]\ttrain-mlogloss:0.217978\ttest-mlogloss:1.2269\n",
      "[162]\ttrain-mlogloss:0.21656\ttest-mlogloss:1.22776\n",
      "[163]\ttrain-mlogloss:0.215416\ttest-mlogloss:1.22788\n",
      "[164]\ttrain-mlogloss:0.214123\ttest-mlogloss:1.22766\n",
      "[165]\ttrain-mlogloss:0.212888\ttest-mlogloss:1.22897\n",
      "[166]\ttrain-mlogloss:0.211895\ttest-mlogloss:1.22929\n",
      "[167]\ttrain-mlogloss:0.210746\ttest-mlogloss:1.23001\n",
      "[168]\ttrain-mlogloss:0.209521\ttest-mlogloss:1.23074\n",
      "[169]\ttrain-mlogloss:0.208221\ttest-mlogloss:1.23194\n",
      "[170]\ttrain-mlogloss:0.207021\ttest-mlogloss:1.23368\n",
      "[171]\ttrain-mlogloss:0.205779\ttest-mlogloss:1.23403\n",
      "[172]\ttrain-mlogloss:0.204627\ttest-mlogloss:1.235\n",
      "[173]\ttrain-mlogloss:0.203511\ttest-mlogloss:1.23677\n",
      "[174]\ttrain-mlogloss:0.202494\ttest-mlogloss:1.23607\n",
      "[175]\ttrain-mlogloss:0.201452\ttest-mlogloss:1.23611\n",
      "[176]\ttrain-mlogloss:0.200383\ttest-mlogloss:1.23669\n",
      "[177]\ttrain-mlogloss:0.199293\ttest-mlogloss:1.2381\n",
      "[178]\ttrain-mlogloss:0.198086\ttest-mlogloss:1.23854\n",
      "[179]\ttrain-mlogloss:0.197077\ttest-mlogloss:1.24043\n",
      "[180]\ttrain-mlogloss:0.195767\ttest-mlogloss:1.24134\n",
      "[181]\ttrain-mlogloss:0.194742\ttest-mlogloss:1.24249\n",
      "[182]\ttrain-mlogloss:0.193589\ttest-mlogloss:1.24309\n",
      "[183]\ttrain-mlogloss:0.192478\ttest-mlogloss:1.24412\n",
      "[184]\ttrain-mlogloss:0.191354\ttest-mlogloss:1.24514\n",
      "[185]\ttrain-mlogloss:0.190308\ttest-mlogloss:1.24517\n",
      "[186]\ttrain-mlogloss:0.189385\ttest-mlogloss:1.24664\n",
      "[187]\ttrain-mlogloss:0.18838\ttest-mlogloss:1.24783\n",
      "[188]\ttrain-mlogloss:0.18738\ttest-mlogloss:1.2497\n",
      "[189]\ttrain-mlogloss:0.186561\ttest-mlogloss:1.24893\n",
      "[190]\ttrain-mlogloss:0.185614\ttest-mlogloss:1.24962\n",
      "[191]\ttrain-mlogloss:0.184633\ttest-mlogloss:1.25059\n",
      "[192]\ttrain-mlogloss:0.183711\ttest-mlogloss:1.25237\n",
      "[193]\ttrain-mlogloss:0.182835\ttest-mlogloss:1.25315\n",
      "[194]\ttrain-mlogloss:0.181929\ttest-mlogloss:1.25407\n",
      "[195]\ttrain-mlogloss:0.180938\ttest-mlogloss:1.25308\n",
      "[196]\ttrain-mlogloss:0.179972\ttest-mlogloss:1.25426\n",
      "[197]\ttrain-mlogloss:0.179173\ttest-mlogloss:1.25561\n",
      "[198]\ttrain-mlogloss:0.178374\ttest-mlogloss:1.25606\n",
      "[199]\ttrain-mlogloss:0.177679\ttest-mlogloss:1.25683\n",
      "[200]\ttrain-mlogloss:0.176902\ttest-mlogloss:1.25689\n",
      "[201]\ttrain-mlogloss:0.175951\ttest-mlogloss:1.25748\n",
      "[202]\ttrain-mlogloss:0.175149\ttest-mlogloss:1.25882\n",
      "[203]\ttrain-mlogloss:0.174215\ttest-mlogloss:1.25897\n",
      "[204]\ttrain-mlogloss:0.17346\ttest-mlogloss:1.25938\n",
      "[205]\ttrain-mlogloss:0.172692\ttest-mlogloss:1.25962\n",
      "[206]\ttrain-mlogloss:0.171901\ttest-mlogloss:1.2597\n",
      "[207]\ttrain-mlogloss:0.171008\ttest-mlogloss:1.26067\n",
      "[208]\ttrain-mlogloss:0.170059\ttest-mlogloss:1.26257\n",
      "[209]\ttrain-mlogloss:0.169108\ttest-mlogloss:1.2633\n",
      "[210]\ttrain-mlogloss:0.168391\ttest-mlogloss:1.26429\n",
      "[211]\ttrain-mlogloss:0.167635\ttest-mlogloss:1.2644\n",
      "[212]\ttrain-mlogloss:0.166917\ttest-mlogloss:1.26477\n",
      "[213]\ttrain-mlogloss:0.166383\ttest-mlogloss:1.26461\n",
      "[214]\ttrain-mlogloss:0.1656\ttest-mlogloss:1.26676\n",
      "[215]\ttrain-mlogloss:0.164916\ttest-mlogloss:1.26697\n",
      "[216]\ttrain-mlogloss:0.164294\ttest-mlogloss:1.26847\n",
      "[217]\ttrain-mlogloss:0.163565\ttest-mlogloss:1.26957\n",
      "[218]\ttrain-mlogloss:0.162959\ttest-mlogloss:1.26988\n",
      "[219]\ttrain-mlogloss:0.162241\ttest-mlogloss:1.26997\n",
      "[220]\ttrain-mlogloss:0.161508\ttest-mlogloss:1.27236\n",
      "[221]\ttrain-mlogloss:0.16086\ttest-mlogloss:1.27282\n",
      "[222]\ttrain-mlogloss:0.160107\ttest-mlogloss:1.27398\n",
      "[223]\ttrain-mlogloss:0.159448\ttest-mlogloss:1.27512\n",
      "[224]\ttrain-mlogloss:0.158662\ttest-mlogloss:1.27606\n",
      "[225]\ttrain-mlogloss:0.157904\ttest-mlogloss:1.27682\n",
      "[226]\ttrain-mlogloss:0.1573\ttest-mlogloss:1.27819\n",
      "[227]\ttrain-mlogloss:0.156682\ttest-mlogloss:1.27893\n",
      "[228]\ttrain-mlogloss:0.155928\ttest-mlogloss:1.28023\n",
      "[229]\ttrain-mlogloss:0.155466\ttest-mlogloss:1.28134\n",
      "[230]\ttrain-mlogloss:0.154943\ttest-mlogloss:1.28202\n",
      "[231]\ttrain-mlogloss:0.154346\ttest-mlogloss:1.28238\n",
      "[232]\ttrain-mlogloss:0.153755\ttest-mlogloss:1.28246\n",
      "[233]\ttrain-mlogloss:0.153094\ttest-mlogloss:1.28221\n",
      "[234]\ttrain-mlogloss:0.152449\ttest-mlogloss:1.28204\n",
      "[235]\ttrain-mlogloss:0.151874\ttest-mlogloss:1.28269\n",
      "[236]\ttrain-mlogloss:0.151317\ttest-mlogloss:1.28386\n",
      "[237]\ttrain-mlogloss:0.15061\ttest-mlogloss:1.28459\n",
      "[238]\ttrain-mlogloss:0.150126\ttest-mlogloss:1.28546\n",
      "[239]\ttrain-mlogloss:0.149625\ttest-mlogloss:1.28614\n",
      "[240]\ttrain-mlogloss:0.149085\ttest-mlogloss:1.28668\n",
      "[241]\ttrain-mlogloss:0.148488\ttest-mlogloss:1.28645\n",
      "[242]\ttrain-mlogloss:0.147885\ttest-mlogloss:1.28769\n",
      "[243]\ttrain-mlogloss:0.147376\ttest-mlogloss:1.28791\n",
      "[244]\ttrain-mlogloss:0.146847\ttest-mlogloss:1.2876\n",
      "[245]\ttrain-mlogloss:0.146383\ttest-mlogloss:1.28741\n",
      "[246]\ttrain-mlogloss:0.145818\ttest-mlogloss:1.28784\n",
      "[247]\ttrain-mlogloss:0.145356\ttest-mlogloss:1.28801\n",
      "[248]\ttrain-mlogloss:0.144846\ttest-mlogloss:1.28728\n",
      "[249]\ttrain-mlogloss:0.144332\ttest-mlogloss:1.28781\n"
     ]
    }
   ],
   "source": [
    "import xgboost as xgb\n",
    "import operator\n",
    "\n",
    "xgb_params = {\n",
    "    'eta': 0.037,\n",
    "    'max_depth': 5,\n",
    "    'subsample': 0.80,\n",
    "    'objective': 'multi:softprob',\n",
    "    'eval_metric': 'mlogloss',\n",
    "    'lambda': 0.8,   \n",
    "    'alpha': 0.4,\n",
    "    'silent': 1,\n",
    "    'num_class': 5\n",
    "}\n",
    "\n",
    "dtrain = xgb.DMatrix(features_train, labels_train)\n",
    "dtest = xgb.DMatrix(features_test, labels_test)\n",
    "\n",
    "num_boost_rounds = 250\n",
    "\n",
    "watchlist = [(dtrain, 'train'), (dtest, 'test')]\n",
    "\n",
    "# train model\n",
    "xgb_model = xgb.train(xgb_params, dtrain, num_boost_rounds, watchlist)"
   ]
  },
  {
   "cell_type": "code",
   "execution_count": 14,
   "metadata": {
    "scrolled": false
   },
   "outputs": [
    {
     "data": {
      "text/plain": [
       "<matplotlib.axes._subplots.AxesSubplot at 0x1231ae58cf8>"
      ]
     },
     "execution_count": 14,
     "metadata": {},
     "output_type": "execute_result"
    },
    {
     "data": {
      "text/plain": [
       "<matplotlib.figure.Figure at 0x1231adf2940>"
      ]
     },
     "metadata": {},
     "output_type": "display_data"
    },
    {
     "data": {
      "image/png": "[encoded data removed]",
      "text/plain": [
       "<matplotlib.figure.Figure at 0x1231ae58470>"
      ]
     },
     "metadata": {},
     "output_type": "display_data"
    }
   ],
   "source": [
    "importance = xgb_model.get_fscore()\n",
    "importance = sorted(importance.items(), key=operator.itemgetter(1))\n",
    "\n",
    "importance_df = pd.DataFrame(importance, columns=['feature', 'fscore'])\n",
    "\n",
    "# Plot Feature Importance\n",
    "plt.figure()\n",
    "importance_df.plot(kind='barh', x='feature', y='fscore', legend=False, figsize=(10, 10))"
   ]
  },
  {
   "cell_type": "code",
   "execution_count": 15,
   "metadata": {},
   "outputs": [],
   "source": [
    "def feature_selection(dataframe, importance_scores_df, threshold=0.4):\n",
    "    normalized_df = importance_scores_df.copy()\n",
    "    normalized_df['fscore'] = (importance_scores_df['fscore'] - importance_scores_df['fscore'].min())/(importance_scores_df['fscore'].max()-importance_scores_df['fscore'].min())\n",
    "    normalized_df = normalized_df[normalized_df['fscore'] >= threshold]\n",
    "    new_dataframe = dataframe.filter(items=normalized_df['feature'].tolist())\n",
    "    return new_dataframe\n",
    "\n",
    "features_train_009_df = feature_selection(features_train_df, importance_df, threshold=0.09)\n",
    "features_train_009 = features_train_009_df.as_matrix()\n",
    "features_train_04_df = feature_selection(features_train_df, importance_df, threshold=0.4)\n",
    "features_train_04 = features_train_04_df.as_matrix()\n",
    "\n",
    "features_test_009_df = feature_selection(features_test_df, importance_df, threshold=0.09)\n",
    "features_test_009 = features_test_009_df.as_matrix()\n",
    "features_test_04_df = feature_selection(features_test_df, importance_df, threshold=0.4)\n",
    "features_test_04 = features_test_04_df.as_matrix()"
   ]
  },
  {
   "cell_type": "markdown",
   "metadata": {},
   "source": [
    "## Principal Component Analysis (by David)"
   ]
  },
  {
   "cell_type": "code",
   "execution_count": 16,
   "metadata": {},
   "outputs": [
    {
     "name": "stdout",
     "output_type": "stream",
     "text": [
      "Number of components for Dataset with threshold=0.4 is 2\n",
      "Number of components for Dataset with threshold=0.09 is 5\n"
     ]
    }
   ],
   "source": [
    "from numpy import linalg as LA\n",
    "\n",
    "def eigen_scores(dataframe):\n",
    "    dataframe-=np.mean(dataframe, axis=0)\n",
    "    dataframe/=np.std(dataframe, axis=0)\n",
    "    cov_mat=np.cov(dataframe, rowvar=False)\n",
    "    evals, evecs = np.linalg.eigh(cov_mat)\n",
    "    idx = np.argsort(evals)[::-1]\n",
    "    evecs = evecs[:,idx]\n",
    "    evals = evals[idx]\n",
    "    return evals, evecs\n",
    "\n",
    "def my_pca(dataframe, n_components):\n",
    "    pca=PCA(n_components=n_components)\n",
    "    return pca.fit_transform(dataframe)\n",
    "    \n",
    "eigenvalues, eigenvectors = eigen_scores(features_test_04.copy())\n",
    "n_components_04 = len(np.where(eigenvalues >= 1)[0])\n",
    "print(\"Number of components for Dataset with threshold=0.4 is {}\".format(n_components_04))\n",
    "\n",
    "features_train_04_pca = my_pca(features_train_04, n_components_04)\n",
    "features_test_04_pca = my_pca(features_test_04, n_components_04)\n",
    "\n",
    "eigenvalues, eigenvectors = eigen_scores(features_test_009.copy())\n",
    "n_components_009 = len(np.where(eigenvalues >= 1)[0])\n",
    "print(\"Number of components for Dataset with threshold=0.09 is {}\".format(n_components_009))\n",
    "\n",
    "features_train_009_pca = my_pca(features_train_009, n_components_009)\n",
    "features_test_009_pca = my_pca(features_test_009, n_components_009)"
   ]
  },
  {
   "cell_type": "markdown",
   "metadata": {},
   "source": [
    "# Modelling And Training"
   ]
  },
  {
   "cell_type": "markdown",
   "metadata": {},
   "source": [
    "We have an relatively small dataset. Therefore, we should do our feature selection based on a cross-\n",
    "validated set. "
   ]
  },
  {
   "cell_type": "markdown",
   "metadata": {},
   "source": [
    "### SMOTE for SVM - Balancing only on the training set, not the validation set  [This is for the traditional training -not the cross validated one]"
   ]
  },
  {
   "cell_type": "code",
   "execution_count": 17,
   "metadata": {
    "scrolled": true
   },
   "outputs": [
    {
     "name": "stderr",
     "output_type": "stream",
     "text": [
      "C:\\Users\\RyanT\\Anaconda3\\lib\\site-packages\\sklearn\\utils\\deprecation.py:77: DeprecationWarning: Function _ratio_float is deprecated; Use a float for 'ratio' is deprecated from version 0.2. The support will be removed in 0.4. Use a dict, str, or a callable instead.\n",
      "  warnings.warn(msg, category=DeprecationWarning)\n"
     ]
    }
   ],
   "source": [
    "#further divide the 'traditional' non-cross set into training 80/20  for pure training and cross validation  \n",
    "features_train_notoversampled, features_validate, labels_train_notoversampled, labels_validate = train_test_split(features_train, labels_train, test_size = .2, random_state=0)\n",
    "\n",
    "sm = SMOTE(random_state=0, ratio = 1.0, kind= 'svm' )\n",
    "#x_train_res, y_train_res = sm.fit_sample(x_train, y_train)\n",
    "features_train_oversampled, labels_train_oversampled = sm.fit_sample(features_train_notoversampled, labels_train_notoversampled)\n",
    "\n",
    "#re-enter into original variables\n",
    "##features_train = features_train_oversampled\n",
    "##labels_train = labels_train_oversampled\n",
    "\n",
    "#Below 2 lines if we want to want to force the array back into dataframe    \n",
    "##features_train = pd.DataFrame(features_train_oversampled,columns=[\"age\",\"sex\",\"cp\",\"trestbps\",\"chol\",\"fbs\",\"restecg\",\"thalach\",\"exang\",\"oldpeak\",\"slop\",\"ca\",\"thal\"])\n",
    "##labels_train = pd.DataFrame(labels_train_oversampled,columns=[\"pred_attribute\"])"
   ]
  },
  {
   "cell_type": "markdown",
   "metadata": {},
   "source": [
    "## Standard Scaler (by David)\n",
    "SVC Models are only any good when the data is scaled. Lets scale the data and build the model"
   ]
  },
  {
   "cell_type": "code",
   "execution_count": 18,
   "metadata": {},
   "outputs": [],
   "source": [
    "from sklearn.preprocessing import MinMaxScaler\n",
    "from sklearn import preprocessing\n",
    "from sklearn.preprocessing import StandardScaler\n",
    "from sklearn.preprocessing import RobustScaler\n",
    "from sklearn.preprocessing import Normalizer\n",
    "from sklearn.preprocessing.data import QuantileTransformer\n",
    "\n",
    "scaler = MinMaxScaler()\n",
    "Standard_scaler = StandardScaler()\n",
    "Robust_scaler = preprocessing.RobustScaler(quantile_range=(25, 75))\n",
    "Quantile_scalar = preprocessing.QuantileTransformer(output_distribution='normal')\n",
    "\n",
    "features_train = Standard_scaler.fit_transform(features_train)\n",
    "features_test = Standard_scaler.transform(features_test)\n",
    "\n",
    "features_train_009 = Standard_scaler.fit_transform(features_train_009)\n",
    "features_test_009 = Standard_scaler.transform(features_test_009)\n",
    "\n",
    "features_train_04 = Standard_scaler.fit_transform(features_train_04)\n",
    "features_test_04 = Standard_scaler.transform(features_test_04)\n",
    "\n",
    "features_train_009_pca = Standard_scaler.fit_transform(features_train_009_pca)\n",
    "features_test_009_pca = Standard_scaler.transform(features_test_009_pca)\n",
    "\n",
    "features_train_04_pca = Standard_scaler.fit_transform(features_train_04_pca)\n",
    "features_test_04_pca = Standard_scaler.transform(features_test_04_pca)\n",
    "\n"
   ]
  },
  {
   "cell_type": "markdown",
   "metadata": {},
   "source": [
    "# Balancing only on the training set, not the validation set\n",
    "Unfortunately SMOTE categorial implementation is not really implemented\n",
    "We will do undersampling of majority AND oversampling of minority -> Done using external program SPSS "
   ]
  },
  {
   "cell_type": "code",
   "execution_count": 19,
   "metadata": {},
   "outputs": [
    {
     "name": "stderr",
     "output_type": "stream",
     "text": [
      "C:\\Users\\RyanT\\Anaconda3\\lib\\site-packages\\ipykernel_launcher.py:4: FutureWarning: reshape is deprecated and will raise in a subsequent release. Please use .values.reshape(...) instead\n",
      "  after removing the cwd from sys.path.\n",
      "C:\\Users\\RyanT\\Anaconda3\\lib\\site-packages\\ipykernel_launcher.py:9: FutureWarning: reshape is deprecated and will raise in a subsequent release. Please use .values.reshape(...) instead\n",
      "  if __name__ == '__main__':\n",
      "C:\\Users\\RyanT\\Anaconda3\\lib\\site-packages\\ipykernel_launcher.py:14: FutureWarning: reshape is deprecated and will raise in a subsequent release. Please use .values.reshape(...) instead\n",
      "  \n",
      "C:\\Users\\RyanT\\Anaconda3\\lib\\site-packages\\ipykernel_launcher.py:19: FutureWarning: reshape is deprecated and will raise in a subsequent release. Please use .values.reshape(...) instead\n",
      "C:\\Users\\RyanT\\Anaconda3\\lib\\site-packages\\ipykernel_launcher.py:25: FutureWarning: reshape is deprecated and will raise in a subsequent release. Please use .values.reshape(...) instead\n"
     ]
    }
   ],
   "source": [
    "# Export data to files for external program to balance the data\n",
    "\n",
    "#without features selection\n",
    "merged = np.concatenate((features_train, labels_train.reshape((-1, 1))), axis=1)\n",
    "merged_df = pd.DataFrame(merged) \n",
    "merged_df.to_csv(\"Undata/train_NoEng_NB.csv\", index=False)\n",
    "\n",
    "#features_train_009\n",
    "merged = np.concatenate((features_train_009, labels_train.reshape((-1, 1))), axis=1)\n",
    "merged_df = pd.DataFrame(merged) \n",
    "merged_df.to_csv(\"Undata/features_train_009_NB.csv\", index=False) \n",
    "    \n",
    "#features_train_04 \n",
    "merged = np.concatenate((features_train_04, labels_train.reshape((-1, 1))), axis=1)\n",
    "merged_df = pd.DataFrame(merged) \n",
    "merged_df.to_csv(\"Undata/features_train_04_NB.csv\", index=False)\n",
    "\n",
    "#features_train_009_pca \n",
    "merged = np.concatenate((features_train_009_pca, labels_train.reshape((-1, 1))), axis=1)\n",
    "merged_df = pd.DataFrame(merged) \n",
    "merged_df.to_csv(\"Undata/features_train_009_pca_NB.csv\", index=False)\n",
    "\n",
    "#features_train_04_pca\n",
    "\n",
    "merged = np.concatenate((features_train_04_pca, labels_train.reshape((-1, 1))), axis=1)\n",
    "merged_df = pd.DataFrame(merged) \n",
    "merged_df.to_csv(\"Undata/features_train_04_pca_NB.csv\", index=False)"
   ]
  },
  {
   "cell_type": "code",
   "execution_count": 20,
   "metadata": {},
   "outputs": [],
   "source": [
    "\n",
    "# #without features selection\n",
    "# df = pd.read_csv(\"Bdata/train_noEng_Balanced.csv\")\n",
    "# labels_train = df[\"22\"]\n",
    "# df = df.drop(\"22\", axis=1)\n",
    "# features_train= df.as_matrix()\n",
    "# #print(features_train)\n",
    "\n",
    "# #features_train_009\n",
    "# df = pd.read_csv(\"Bdata/features_train_009_Balanced.csv\")\n",
    "# labels_train = df[\"22\"]\n",
    "# df = df.drop(\"22\", axis=1)\n",
    "# features_train_009= df.as_matrix()\n",
    "\n",
    "# #features_train_04 \n",
    "# df = pd.read_csv(\"Bdata/features_train_04_Balanced.csv\")\n",
    "# labels_train = df[\"22\"]\n",
    "# df = df.drop(\"22\", axis=1)\n",
    "# features_train_04= df.as_matrix()\n",
    "\n",
    "# #features_train_009_pca \n",
    "# df = pd.read_csv(\"Bdata/features_train_009_pca_Balanced.csv\")\n",
    "# labels_train = df[\"22\"]\n",
    "# df = df.drop(\"22\", axis=1)\n",
    "# features_train_009_pca= df.as_matrix()\n",
    "\n",
    "# #features_train_04_pca\n",
    "# df = pd.read_csv(\"Bdata/features_train_04_pca_Balanced.csv\")\n",
    "# labels_train = df[\"22\"]\n",
    "# df = df.drop(\"22\", axis=1)\n",
    "# features_train_04_pca= df.as_matrix()"
   ]
  },
  {
   "cell_type": "code",
   "execution_count": 21,
   "metadata": {},
   "outputs": [],
   "source": [
    "\n",
    "from sklearn.cross_validation import StratifiedShuffleSplit\n",
    "from sklearn.cross_validation import train_test_split\n",
    "from sklearn.cross_validation import KFold\n",
    "from sklearn.metrics import precision_score\n",
    "from sklearn.metrics import recall_score\n",
    "from sklearn.metrics import confusion_matrix\n",
    "from sklearn.metrics import f1_score\n",
    "#from sklearn import grid_search\n",
    "#from sklearn.grid_search import GridSearchCV\n",
    "from sklearn.metrics import make_scorer\n",
    "from sklearn.metrics import accuracy_score\n",
    "from sklearn.model_selection import GridSearchCV\n",
    "from sklearn.model_selection import RandomizedSearchCV\n",
    "from sklearn.metrics import classification_report\n",
    "from sklearn.pipeline import Pipeline\n",
    "from sklearn.preprocessing import MinMaxScaler\n",
    "from sklearn.preprocessing import StandardScaler\n",
    "from sklearn import svm\n",
    "from sklearn.metrics import mean_squared_error\n",
    "import seaborn as sns\n",
    "from scipy.stats import reciprocal, uniform\n",
    "\n",
    "def checkmetrics(pred, labels_test, name):\n",
    "    sns.set()\n",
    "    print('The accuracy of ', name, 'is: ', accuracy_score(pred, labels_test))\n",
    "    matrix = confusion_matrix(labels_test, pred)\n",
    "    ax = sns.heatmap(matrix, annot=True, fmt=\"d\", cmap=\"Blues\")\n",
    "    print(ax)\n",
    "    print(classification_report(pred, labels_test))"
   ]
  },
  {
   "cell_type": "markdown",
   "metadata": {},
   "source": [
    "## Feature selection?"
   ]
  },
  {
   "cell_type": "code",
   "execution_count": 22,
   "metadata": {},
   "outputs": [
    {
     "name": "stderr",
     "output_type": "stream",
     "text": [
      "C:\\Users\\RyanT\\Anaconda3\\lib\\site-packages\\sklearn\\utils\\deprecation.py:58: DeprecationWarning: Class RandomizedLasso is deprecated; The class RandomizedLasso is deprecated in 0.19 and will be removed in 0.21.\n",
      "  warnings.warn(msg, category=DeprecationWarning)\n"
     ]
    },
    {
     "name": "stdout",
     "output_type": "stream",
     "text": [
      "Features sorted by their score using lasso:\n",
      "[(0.51000000000000001, 'exang'), (0.5, 'oldpeak'), (0.42499999999999999, 'thalach'), (0.38, 'fbs'), (0.35499999999999998, 'restecg'), (0.0050000000000000001, 'age'), (0.0, 'trestbps'), (0.0, 'thal'), (0.0, 'slope'), (0.0, 'sex'), (0.0, 'cp'), (0.0, 'class'), (0.0, 'chol'), (0.0, 'ca')]\n",
      "Features sorted by their score using Linear Regression:\n",
      "[(1, 'class'), (3, 'oldpeak'), (5, 'exang'), (7, 'restecg'), (8, 'sex'), (9, 'thal'), (10, 'thalach'), (12, 'ca'), (17, 'slope'), (18, 'chol'), (19, 'cp'), (20, 'age'), (21, 'fbs'), (22, 'trestbps')]\n"
     ]
    }
   ],
   "source": [
    "# Feature selection using RFECV to pick best features,\n",
    "from sklearn.svm import SVR\n",
    "from sklearn.feature_selection import RFE\n",
    "from sklearn.linear_model import LinearRegression\n",
    "from sklearn.linear_model import RandomizedLasso\n",
    "from sklearn.feature_selection import RFECV\n",
    "rlasso = RandomizedLasso(alpha=0.025)\n",
    "names = features_list\n",
    "rlasso.fit(features_train, labels_train)\n",
    " \n",
    "print(\"Features sorted by their score using lasso:\")\n",
    "print(sorted(zip(map(lambda x: round(x, 4), rlasso.scores_), \n",
    "                 names), reverse=True))\n",
    "\n",
    "#use linear regression as the model\n",
    "lr = LinearRegression()\n",
    "#rank all features, i.e continue the elimination until the last one\n",
    "rfe = RFE(lr, n_features_to_select=1)\n",
    "rfe.fit(X,Y)\n",
    " \n",
    "print(\"Features sorted by their score using Linear Regression:\")\n",
    "print(sorted(zip(map(lambda x: round(x, 4), rfe.ranking_), names)))"
   ]
  },
  {
   "cell_type": "markdown",
   "metadata": {},
   "source": [
    "## Modelling with HyperParameters -Tuning - Default Dataset"
   ]
  },
  {
   "cell_type": "code",
   "execution_count": null,
   "metadata": {},
   "outputs": [],
   "source": [
    "#svm.SVC  C-Support Vector Classification.\n",
    "parameters ={\n",
    "         'C': [0.005,0.01,0.05,0.1,0.25,0.5,0.75,1.0,2.0],\n",
    "         'kernel': ['linear','poly','rbf'],\n",
    "         'degree': [2,3,4,5,6],\n",
    "        'gamma': [1e-3,1e-2,1,2,'auto'],\n",
    "        'tol' : [1e-4],\n",
    "        'decision_function_shape' : ['ovo','ovr'],\n",
    "        }\n",
    "SVM = svm.SVC()\n",
    "\n",
    "grid_search_cv = GridSearchCV(SVM, parameters, cv=5,n_jobs=-1, return_train_score=True, refit=True,verbose=1)\n",
    "grid_search_cv.fit(features_train, labels_train)\n",
    "resultsdf=pd.DataFrame(grid_search_cv.cv_results_)\n",
    "print(\"The train score:\", str(grid_search_cv.score(features_train, labels_train)), \"with parameters:\", grid_search_cv.best_params_)\n",
    "pred = grid_search_cv.best_estimator_.predict(features_test)\n",
    "\n",
    "checkmetrics(pred, labels_test, 'C-Support Vector Classification')"
   ]
  },
  {
   "cell_type": "code",
   "execution_count": null,
   "metadata": {},
   "outputs": [],
   "source": [
    "#LinearSVC Linear Support Vector Classification\n",
    "\n",
    "parameters ={\n",
    "#       'penalty' : ['l2'], #Specifies the norm used in the penalization. The ‘l2’ penalty is the standard used in SVC. The ‘l1’ leads to coef_ vectors that are sparse.\n",
    "#       'loss' : ['squared_hinge'], #Specifies the loss function. ‘hinge’ is the standard SVM loss (used e.g. by the SVC class) while ‘squared_hinge’ is the square of the hinge loss.\n",
    "#        dual' : ['False'], #Select the algorithm to either solve the dual or primal optimization problem. Prefer dual=False when n_samples > n_features.\n",
    "        'tol' : [1e-5,1e-4,1e-3],\n",
    "        'C': [0.05,0.1,0.5,0.8,1.0,2.0,5.0,10.0,15.0],\n",
    "        'multi_class'  : ['ovr','crammer_singer'],\n",
    "        'random_state' : [42],\n",
    "        'tol' : [1e-4],\n",
    "        'max_iter' : [1000],\n",
    "        }\n",
    "SVM = LinearSVC()\n",
    "grid_search_cv = GridSearchCV(SVM, parameters, cv=5,n_jobs=-1, return_train_score=True, refit=True,verbose=1)\n",
    "grid_search_cv.fit(features_train, labels_train)\n",
    "resultsdf=pd.DataFrame(grid_search_cv.cv_results_)\n",
    "print(\"The train score:\", str(grid_search_cv.score(features_train, labels_train)), \"with parameters:\", grid_search_cv.best_params_)\n",
    "pred = grid_search_cv.best_estimator_.predict(features_test)\n",
    "\n",
    "checkmetrics(pred, labels_test, 'Linear Support Vector Classification')"
   ]
  },
  {
   "cell_type": "code",
   "execution_count": null,
   "metadata": {},
   "outputs": [],
   "source": [
    "# sklearn.svm.NuSVC Nu-Support Vector Classification\n",
    "# defaults: nu=0.5, kernel=’rbf’, degree=3, gamma=’auto’, coef0=0.0, shrinking=True, probability=False, tol=0.001, cache_size=200, class_weight=None, verbose=False, max_iter=-1, decision_function_shape=’ovr’, random_state=None)\n",
    "parameters = {\n",
    "    'nu': [0.001,0.0025,0.005,0.0075,0.1], #other larger nu values is \"not fleasible\"\n",
    "    'kernel': ['linear','poly','rbf'],\n",
    "    'degree': [2,3,4,5,6],\n",
    "    'gamma': [1e-5,1e-4,1e-3,1e-2,'auto'],\n",
    "    'tol' : [1e-4],\n",
    "    'decision_function_shape' : ['ovo','ovr'],\n",
    "\n",
    "}\n",
    "\n",
    "\n",
    "SVM = NuSVC()\n",
    "grid_search_cv = GridSearchCV(SVM, parameters, cv=5,n_jobs=-1, return_train_score=True, refit=True,verbose=1)\n",
    "grid_search_cv.fit(features_train, labels_train)\n",
    "resultsdf=pd.DataFrame(grid_search_cv.cv_results_)\n",
    "print(\"The train score:\", str(grid_search_cv.score(features_train, labels_train)), \"with parameters:\", grid_search_cv.best_params_)\n",
    "pred = grid_search_cv.best_estimator_.predict(features_test)\n",
    "\n",
    "checkmetrics(pred, labels_test, 'Nu-Support Vector Classification')\n"
   ]
  },
  {
   "cell_type": "markdown",
   "metadata": {},
   "source": [
    "# Using Important Features with threshold >= 0.4 (XGB)"
   ]
  },
  {
   "cell_type": "markdown",
   "metadata": {},
   "source": [
    "### XGB1 "
   ]
  },
  {
   "cell_type": "code",
   "execution_count": 23,
   "metadata": {},
   "outputs": [
    {
     "name": "stdout",
     "output_type": "stream",
     "text": [
      "Fitting 5 folds for each of 1350 candidates, totalling 6750 fits\n"
     ]
    },
    {
     "name": "stderr",
     "output_type": "stream",
     "text": [
      "[Parallel(n_jobs=-1)]: Done  34 tasks      | elapsed:    3.6s\n",
      "[Parallel(n_jobs=-1)]: Done 4127 tasks      | elapsed:    6.8s\n",
      "[Parallel(n_jobs=-1)]: Done 6750 out of 6750 | elapsed:   10.5s finished\n"
     ]
    },
    {
     "name": "stdout",
     "output_type": "stream",
     "text": [
      "The train score: 0.755980861244 with parameters: {'C': 0.005, 'decision_function_shape': 'ovo', 'degree': 3, 'gamma': 2, 'kernel': 'poly', 'tol': 0.0001}\n",
      "The accuracy of  C-Support Vector Classification is:  0.522222222222\n",
      "Axes(0.125,0.125;0.62x0.755)\n",
      "             precision    recall  f1-score   support\n",
      "\n",
      "        0.0       0.89      0.60      0.71        67\n",
      "        1.0       0.14      0.50      0.22         6\n",
      "        2.0       0.15      0.40      0.22         5\n",
      "        3.0       0.17      0.10      0.12        10\n",
      "        4.0       0.20      0.50      0.29         2\n",
      "\n",
      "avg / total       0.70      0.52      0.58        90\n",
      "\n"
     ]
    },
    {
     "data": {
      "image/png": "[encoded data removed]",
      "text/plain": [
       "<matplotlib.figure.Figure at 0x1231b74ed30>"
      ]
     },
     "metadata": {},
     "output_type": "display_data"
    }
   ],
   "source": [
    "#svm.SVC  C-Support Vector Classification.\n",
    "parameters ={\n",
    "         'C': [0.005,0.01,0.05,0.1,0.25,0.5,0.75,1.0,2.0],\n",
    "         'kernel': ['linear','poly','rbf'],\n",
    "         'degree': [2,3,4,5,6],\n",
    "        'gamma': [1e-3,1e-2,1,2,'auto'],\n",
    "        'tol' : [1e-4],\n",
    "        'decision_function_shape' : ['ovo','ovr'],\n",
    "        }\n",
    "SVM = svm.SVC()\n",
    "\n",
    "grid_search_cv = GridSearchCV(SVM, parameters, cv=5,n_jobs=-1, return_train_score=True, refit=True,verbose=1)\n",
    "grid_search_cv.fit(features_train_04, labels_train)\n",
    "resultsdf=pd.DataFrame(grid_search_cv.cv_results_)\n",
    "print(\"The train score:\", str(grid_search_cv.score(features_train_04, labels_train)), \"with parameters:\", grid_search_cv.best_params_)\n",
    "pred = grid_search_cv.best_estimator_.predict(features_test_04)\n",
    "\n",
    "checkmetrics(pred, labels_test, 'C-Support Vector Classification')"
   ]
  },
  {
   "cell_type": "code",
   "execution_count": 24,
   "metadata": {},
   "outputs": [
    {
     "name": "stdout",
     "output_type": "stream",
     "text": [
      "Fitting 5 folds for each of 18 candidates, totalling 90 fits\n"
     ]
    },
    {
     "name": "stderr",
     "output_type": "stream",
     "text": [
      "[Parallel(n_jobs=-1)]: Done  34 tasks      | elapsed:    3.5s\n",
      "[Parallel(n_jobs=-1)]: Done  90 out of  90 | elapsed:    5.7s finished\n"
     ]
    },
    {
     "name": "stdout",
     "output_type": "stream",
     "text": [
      "The train score: 0.617224880383 with parameters: {'C': 15.0, 'max_iter': 1000, 'multi_class': 'ovr', 'random_state': 42, 'tol': 0.0001}\n",
      "The accuracy of  Linear Support Vector Classification is:  0.5\n",
      "Axes(0.125,0.125;0.62x0.755)\n",
      "             precision    recall  f1-score   support\n",
      "\n",
      "        0.0       0.93      0.57      0.71        74\n",
      "        1.0       0.05      1.00      0.09         1\n",
      "        2.0       0.08      0.33      0.12         3\n",
      "        3.0       0.17      0.08      0.11        12\n",
      "        4.0       0.00      0.00      0.00         0\n",
      "\n",
      "avg / total       0.79      0.50      0.60        90\n",
      "\n"
     ]
    },
    {
     "name": "stderr",
     "output_type": "stream",
     "text": [
      "C:\\Users\\RyanT\\Anaconda3\\lib\\site-packages\\sklearn\\metrics\\classification.py:1137: UndefinedMetricWarning: Recall and F-score are ill-defined and being set to 0.0 in labels with no true samples.\n",
      "  'recall', 'true', average, warn_for)\n"
     ]
    },
    {
     "data": {
      "image/png": "[encoded data removed]",
      "text/plain": [
       "<matplotlib.figure.Figure at 0x1231cf87048>"
      ]
     },
     "metadata": {},
     "output_type": "display_data"
    }
   ],
   "source": [
    "#LinearSVC Linear Support Vector Classification\n",
    "\n",
    "parameters ={\n",
    "#       'penalty' : ['l2'], #Specifies the norm used in the penalization. The ‘l2’ penalty is the standard used in SVC. The ‘l1’ leads to coef_ vectors that are sparse.\n",
    "#       'loss' : ['squared_hinge'], #Specifies the loss function. ‘hinge’ is the standard SVM loss (used e.g. by the SVC class) while ‘squared_hinge’ is the square of the hinge loss.\n",
    "#        dual' : ['False'], #Select the algorithm to either solve the dual or primal optimization problem. Prefer dual=False when n_samples > n_features.\n",
    "        'tol' : [1e-5,1e-4,1e-3],\n",
    "        'C': [0.05,0.1,0.5,0.8,1.0,2.0,5.0,10.0,15.0],\n",
    "        'multi_class'  : ['ovr','crammer_singer'],\n",
    "        'random_state' : [42],\n",
    "        'tol' : [1e-4],\n",
    "        'max_iter' : [1000],\n",
    "        }\n",
    "SVM = LinearSVC()\n",
    "grid_search_cv = GridSearchCV(SVM, parameters, cv=5,n_jobs=-1, return_train_score=True, refit=True,verbose=1)\n",
    "grid_search_cv.fit(features_train_04, labels_train)\n",
    "resultsdf=pd.DataFrame(grid_search_cv.cv_results_)\n",
    "print(\"The train score:\", str(grid_search_cv.score(features_train_04, labels_train)), \"with parameters:\", grid_search_cv.best_params_)\n",
    "pred = grid_search_cv.best_estimator_.predict(features_test_04)\n",
    "\n",
    "checkmetrics(pred, labels_test, 'Linear Support Vector Classification')"
   ]
  },
  {
   "cell_type": "code",
   "execution_count": 25,
   "metadata": {},
   "outputs": [
    {
     "name": "stdout",
     "output_type": "stream",
     "text": [
      "Fitting 5 folds for each of 750 candidates, totalling 3750 fits\n"
     ]
    },
    {
     "name": "stderr",
     "output_type": "stream",
     "text": [
      "[Parallel(n_jobs=-1)]: Done  34 tasks      | elapsed:    3.6s\n",
      "[Parallel(n_jobs=-1)]: Done 3750 out of 3750 | elapsed:    5.7s finished\n"
     ]
    },
    {
     "name": "stdout",
     "output_type": "stream",
     "text": [
      "The train score: 0.712918660287 with parameters: {'decision_function_shape': 'ovo', 'degree': 2, 'gamma': 0.01, 'kernel': 'rbf', 'nu': 0.1, 'tol': 0.0001}\n",
      "The accuracy of  Nu-Support Vector Classification is:  0.366666666667\n",
      "Axes(0.125,0.125;0.62x0.755)\n",
      "             precision    recall  f1-score   support\n",
      "\n",
      "        0.0       0.60      0.54      0.57        50\n",
      "        1.0       0.05      0.11      0.07         9\n",
      "        2.0       0.15      0.13      0.14        15\n",
      "        3.0       0.17      0.08      0.11        12\n",
      "        4.0       0.40      0.50      0.44         4\n",
      "\n",
      "avg / total       0.40      0.37      0.38        90\n",
      "\n"
     ]
    },
    {
     "data": {
      "image/png": "[encoded data removed]",
      "text/plain": [
       "<matplotlib.figure.Figure at 0x1231b763400>"
      ]
     },
     "metadata": {},
     "output_type": "display_data"
    }
   ],
   "source": [
    "# sklearn.svm.NuSVC Nu-Support Vector Classification\n",
    "# defaults: nu=0.5, kernel=’rbf’, degree=3, gamma=’auto’, coef0=0.0, shrinking=True, probability=False, tol=0.001, cache_size=200, class_weight=None, verbose=False, max_iter=-1, decision_function_shape=’ovr’, random_state=None)\n",
    "parameters = {\n",
    "    'nu': [0.001,0.0025,0.005,0.0075,0.1], #other larger nu values is \"not fleasible\"\n",
    "    'kernel': ['linear','poly','rbf'],\n",
    "    'degree': [2,3,4,5,6],\n",
    "    'gamma': [1e-5,1e-4,1e-3,1e-2,'auto'],\n",
    "    'tol' : [1e-4],\n",
    "    'decision_function_shape' : ['ovo','ovr'],\n",
    "\n",
    "}\n",
    "\n",
    "\n",
    "SVM = NuSVC()\n",
    "grid_search_cv = GridSearchCV(SVM, parameters, cv=5,n_jobs=-1, return_train_score=True, refit=True,verbose=1)\n",
    "grid_search_cv.fit(features_train_04, labels_train)\n",
    "resultsdf=pd.DataFrame(grid_search_cv.cv_results_)\n",
    "print(\"The train score:\", str(grid_search_cv.score(features_train_04, labels_train)), \"with parameters:\", grid_search_cv.best_params_)\n",
    "pred = grid_search_cv.best_estimator_.predict(features_test_04)\n",
    "\n",
    "checkmetrics(pred, labels_test, 'Nu-Support Vector Classification')\n"
   ]
  },
  {
   "cell_type": "markdown",
   "metadata": {},
   "source": [
    "# Using PCA with Important Features (threshold >= 0.4) (XGB)"
   ]
  },
  {
   "cell_type": "code",
   "execution_count": 26,
   "metadata": {},
   "outputs": [
    {
     "name": "stdout",
     "output_type": "stream",
     "text": [
      "Fitting 5 folds for each of 1350 candidates, totalling 6750 fits\n"
     ]
    },
    {
     "name": "stderr",
     "output_type": "stream",
     "text": [
      "[Parallel(n_jobs=-1)]: Done  34 tasks      | elapsed:    3.6s\n",
      "[Parallel(n_jobs=-1)]: Done 3118 tasks      | elapsed:  1.0min\n",
      "[Parallel(n_jobs=-1)]: Done 5337 tasks      | elapsed:  7.8min\n"
     ]
    },
    {
     "ename": "KeyboardInterrupt",
     "evalue": "",
     "output_type": "error",
     "traceback": [
      "\u001b[1;31m---------------------------------------------------------------------------\u001b[0m",
      "\u001b[1;31mKeyboardInterrupt\u001b[0m                         Traceback (most recent call last)",
      "\u001b[1;32m<ipython-input-26-1844df34442b>\u001b[0m in \u001b[0;36m<module>\u001b[1;34m()\u001b[0m\n\u001b[0;32m     11\u001b[0m \u001b[1;33m\u001b[0m\u001b[0m\n\u001b[0;32m     12\u001b[0m \u001b[0mgrid_search_cv\u001b[0m \u001b[1;33m=\u001b[0m \u001b[0mGridSearchCV\u001b[0m\u001b[1;33m(\u001b[0m\u001b[0mSVM\u001b[0m\u001b[1;33m,\u001b[0m \u001b[0mparameters\u001b[0m\u001b[1;33m,\u001b[0m \u001b[0mcv\u001b[0m\u001b[1;33m=\u001b[0m\u001b[1;36m5\u001b[0m\u001b[1;33m,\u001b[0m\u001b[0mn_jobs\u001b[0m\u001b[1;33m=\u001b[0m\u001b[1;33m-\u001b[0m\u001b[1;36m1\u001b[0m\u001b[1;33m,\u001b[0m \u001b[0mreturn_train_score\u001b[0m\u001b[1;33m=\u001b[0m\u001b[1;32mTrue\u001b[0m\u001b[1;33m,\u001b[0m \u001b[0mrefit\u001b[0m\u001b[1;33m=\u001b[0m\u001b[1;32mTrue\u001b[0m\u001b[1;33m,\u001b[0m\u001b[0mverbose\u001b[0m\u001b[1;33m=\u001b[0m\u001b[1;36m1\u001b[0m\u001b[1;33m)\u001b[0m\u001b[1;33m\u001b[0m\u001b[0m\n\u001b[1;32m---> 13\u001b[1;33m \u001b[0mgrid_search_cv\u001b[0m\u001b[1;33m.\u001b[0m\u001b[0mfit\u001b[0m\u001b[1;33m(\u001b[0m\u001b[0mfeatures_train_04_pca\u001b[0m\u001b[1;33m,\u001b[0m \u001b[0mlabels_train\u001b[0m\u001b[1;33m)\u001b[0m\u001b[1;33m\u001b[0m\u001b[0m\n\u001b[0m\u001b[0;32m     14\u001b[0m \u001b[0mresultsdf\u001b[0m\u001b[1;33m=\u001b[0m\u001b[0mpd\u001b[0m\u001b[1;33m.\u001b[0m\u001b[0mDataFrame\u001b[0m\u001b[1;33m(\u001b[0m\u001b[0mgrid_search_cv\u001b[0m\u001b[1;33m.\u001b[0m\u001b[0mcv_results_\u001b[0m\u001b[1;33m)\u001b[0m\u001b[1;33m\u001b[0m\u001b[0m\n\u001b[0;32m     15\u001b[0m \u001b[0mprint\u001b[0m\u001b[1;33m(\u001b[0m\u001b[1;34m\"The train score:\"\u001b[0m\u001b[1;33m,\u001b[0m \u001b[0mstr\u001b[0m\u001b[1;33m(\u001b[0m\u001b[0mgrid_search_cv\u001b[0m\u001b[1;33m.\u001b[0m\u001b[0mscore\u001b[0m\u001b[1;33m(\u001b[0m\u001b[0mfeatures_train_04_pca\u001b[0m\u001b[1;33m,\u001b[0m \u001b[0mlabels_train\u001b[0m\u001b[1;33m)\u001b[0m\u001b[1;33m)\u001b[0m\u001b[1;33m,\u001b[0m \u001b[1;34m\"with parameters:\"\u001b[0m\u001b[1;33m,\u001b[0m \u001b[0mgrid_search_cv\u001b[0m\u001b[1;33m.\u001b[0m\u001b[0mbest_params_\u001b[0m\u001b[1;33m)\u001b[0m\u001b[1;33m\u001b[0m\u001b[0m\n",
      "\u001b[1;32m~\\Anaconda3\\lib\\site-packages\\sklearn\\model_selection\\_search.py\u001b[0m in \u001b[0;36mfit\u001b[1;34m(self, X, y, groups, **fit_params)\u001b[0m\n\u001b[0;32m    637\u001b[0m                                   error_score=self.error_score)\n\u001b[0;32m    638\u001b[0m           for parameters, (train, test) in product(candidate_params,\n\u001b[1;32m--> 639\u001b[1;33m                                                    cv.split(X, y, groups)))\n\u001b[0m\u001b[0;32m    640\u001b[0m \u001b[1;33m\u001b[0m\u001b[0m\n\u001b[0;32m    641\u001b[0m         \u001b[1;31m# if one choose to see train score, \"out\" will contain train score info\u001b[0m\u001b[1;33m\u001b[0m\u001b[1;33m\u001b[0m\u001b[0m\n",
      "\u001b[1;32m~\\Anaconda3\\lib\\site-packages\\sklearn\\externals\\joblib\\parallel.py\u001b[0m in \u001b[0;36m__call__\u001b[1;34m(self, iterable)\u001b[0m\n\u001b[0;32m    787\u001b[0m                 \u001b[1;31m# consumption.\u001b[0m\u001b[1;33m\u001b[0m\u001b[1;33m\u001b[0m\u001b[0m\n\u001b[0;32m    788\u001b[0m                 \u001b[0mself\u001b[0m\u001b[1;33m.\u001b[0m\u001b[0m_iterating\u001b[0m \u001b[1;33m=\u001b[0m \u001b[1;32mFalse\u001b[0m\u001b[1;33m\u001b[0m\u001b[0m\n\u001b[1;32m--> 789\u001b[1;33m             \u001b[0mself\u001b[0m\u001b[1;33m.\u001b[0m\u001b[0mretrieve\u001b[0m\u001b[1;33m(\u001b[0m\u001b[1;33m)\u001b[0m\u001b[1;33m\u001b[0m\u001b[0m\n\u001b[0m\u001b[0;32m    790\u001b[0m             \u001b[1;31m# Make sure that we get a last message telling us we are done\u001b[0m\u001b[1;33m\u001b[0m\u001b[1;33m\u001b[0m\u001b[0m\n\u001b[0;32m    791\u001b[0m             \u001b[0melapsed_time\u001b[0m \u001b[1;33m=\u001b[0m \u001b[0mtime\u001b[0m\u001b[1;33m.\u001b[0m\u001b[0mtime\u001b[0m\u001b[1;33m(\u001b[0m\u001b[1;33m)\u001b[0m \u001b[1;33m-\u001b[0m \u001b[0mself\u001b[0m\u001b[1;33m.\u001b[0m\u001b[0m_start_time\u001b[0m\u001b[1;33m\u001b[0m\u001b[0m\n",
      "\u001b[1;32m~\\Anaconda3\\lib\\site-packages\\sklearn\\externals\\joblib\\parallel.py\u001b[0m in \u001b[0;36mretrieve\u001b[1;34m(self)\u001b[0m\n\u001b[0;32m    697\u001b[0m             \u001b[1;32mtry\u001b[0m\u001b[1;33m:\u001b[0m\u001b[1;33m\u001b[0m\u001b[0m\n\u001b[0;32m    698\u001b[0m                 \u001b[1;32mif\u001b[0m \u001b[0mgetattr\u001b[0m\u001b[1;33m(\u001b[0m\u001b[0mself\u001b[0m\u001b[1;33m.\u001b[0m\u001b[0m_backend\u001b[0m\u001b[1;33m,\u001b[0m \u001b[1;34m'supports_timeout'\u001b[0m\u001b[1;33m,\u001b[0m \u001b[1;32mFalse\u001b[0m\u001b[1;33m)\u001b[0m\u001b[1;33m:\u001b[0m\u001b[1;33m\u001b[0m\u001b[0m\n\u001b[1;32m--> 699\u001b[1;33m                     \u001b[0mself\u001b[0m\u001b[1;33m.\u001b[0m\u001b[0m_output\u001b[0m\u001b[1;33m.\u001b[0m\u001b[0mextend\u001b[0m\u001b[1;33m(\u001b[0m\u001b[0mjob\u001b[0m\u001b[1;33m.\u001b[0m\u001b[0mget\u001b[0m\u001b[1;33m(\u001b[0m\u001b[0mtimeout\u001b[0m\u001b[1;33m=\u001b[0m\u001b[0mself\u001b[0m\u001b[1;33m.\u001b[0m\u001b[0mtimeout\u001b[0m\u001b[1;33m)\u001b[0m\u001b[1;33m)\u001b[0m\u001b[1;33m\u001b[0m\u001b[0m\n\u001b[0m\u001b[0;32m    700\u001b[0m                 \u001b[1;32melse\u001b[0m\u001b[1;33m:\u001b[0m\u001b[1;33m\u001b[0m\u001b[0m\n\u001b[0;32m    701\u001b[0m                     \u001b[0mself\u001b[0m\u001b[1;33m.\u001b[0m\u001b[0m_output\u001b[0m\u001b[1;33m.\u001b[0m\u001b[0mextend\u001b[0m\u001b[1;33m(\u001b[0m\u001b[0mjob\u001b[0m\u001b[1;33m.\u001b[0m\u001b[0mget\u001b[0m\u001b[1;33m(\u001b[0m\u001b[1;33m)\u001b[0m\u001b[1;33m)\u001b[0m\u001b[1;33m\u001b[0m\u001b[0m\n",
      "\u001b[1;32m~\\Anaconda3\\lib\\multiprocessing\\pool.py\u001b[0m in \u001b[0;36mget\u001b[1;34m(self, timeout)\u001b[0m\n\u001b[0;32m    636\u001b[0m \u001b[1;33m\u001b[0m\u001b[0m\n\u001b[0;32m    637\u001b[0m     \u001b[1;32mdef\u001b[0m \u001b[0mget\u001b[0m\u001b[1;33m(\u001b[0m\u001b[0mself\u001b[0m\u001b[1;33m,\u001b[0m \u001b[0mtimeout\u001b[0m\u001b[1;33m=\u001b[0m\u001b[1;32mNone\u001b[0m\u001b[1;33m)\u001b[0m\u001b[1;33m:\u001b[0m\u001b[1;33m\u001b[0m\u001b[0m\n\u001b[1;32m--> 638\u001b[1;33m         \u001b[0mself\u001b[0m\u001b[1;33m.\u001b[0m\u001b[0mwait\u001b[0m\u001b[1;33m(\u001b[0m\u001b[0mtimeout\u001b[0m\u001b[1;33m)\u001b[0m\u001b[1;33m\u001b[0m\u001b[0m\n\u001b[0m\u001b[0;32m    639\u001b[0m         \u001b[1;32mif\u001b[0m \u001b[1;32mnot\u001b[0m \u001b[0mself\u001b[0m\u001b[1;33m.\u001b[0m\u001b[0mready\u001b[0m\u001b[1;33m(\u001b[0m\u001b[1;33m)\u001b[0m\u001b[1;33m:\u001b[0m\u001b[1;33m\u001b[0m\u001b[0m\n\u001b[0;32m    640\u001b[0m             \u001b[1;32mraise\u001b[0m \u001b[0mTimeoutError\u001b[0m\u001b[1;33m\u001b[0m\u001b[0m\n",
      "\u001b[1;32m~\\Anaconda3\\lib\\multiprocessing\\pool.py\u001b[0m in \u001b[0;36mwait\u001b[1;34m(self, timeout)\u001b[0m\n\u001b[0;32m    633\u001b[0m \u001b[1;33m\u001b[0m\u001b[0m\n\u001b[0;32m    634\u001b[0m     \u001b[1;32mdef\u001b[0m \u001b[0mwait\u001b[0m\u001b[1;33m(\u001b[0m\u001b[0mself\u001b[0m\u001b[1;33m,\u001b[0m \u001b[0mtimeout\u001b[0m\u001b[1;33m=\u001b[0m\u001b[1;32mNone\u001b[0m\u001b[1;33m)\u001b[0m\u001b[1;33m:\u001b[0m\u001b[1;33m\u001b[0m\u001b[0m\n\u001b[1;32m--> 635\u001b[1;33m         \u001b[0mself\u001b[0m\u001b[1;33m.\u001b[0m\u001b[0m_event\u001b[0m\u001b[1;33m.\u001b[0m\u001b[0mwait\u001b[0m\u001b[1;33m(\u001b[0m\u001b[0mtimeout\u001b[0m\u001b[1;33m)\u001b[0m\u001b[1;33m\u001b[0m\u001b[0m\n\u001b[0m\u001b[0;32m    636\u001b[0m \u001b[1;33m\u001b[0m\u001b[0m\n\u001b[0;32m    637\u001b[0m     \u001b[1;32mdef\u001b[0m \u001b[0mget\u001b[0m\u001b[1;33m(\u001b[0m\u001b[0mself\u001b[0m\u001b[1;33m,\u001b[0m \u001b[0mtimeout\u001b[0m\u001b[1;33m=\u001b[0m\u001b[1;32mNone\u001b[0m\u001b[1;33m)\u001b[0m\u001b[1;33m:\u001b[0m\u001b[1;33m\u001b[0m\u001b[0m\n",
      "\u001b[1;32m~\\Anaconda3\\lib\\threading.py\u001b[0m in \u001b[0;36mwait\u001b[1;34m(self, timeout)\u001b[0m\n\u001b[0;32m    549\u001b[0m             \u001b[0msignaled\u001b[0m \u001b[1;33m=\u001b[0m \u001b[0mself\u001b[0m\u001b[1;33m.\u001b[0m\u001b[0m_flag\u001b[0m\u001b[1;33m\u001b[0m\u001b[0m\n\u001b[0;32m    550\u001b[0m             \u001b[1;32mif\u001b[0m \u001b[1;32mnot\u001b[0m \u001b[0msignaled\u001b[0m\u001b[1;33m:\u001b[0m\u001b[1;33m\u001b[0m\u001b[0m\n\u001b[1;32m--> 551\u001b[1;33m                 \u001b[0msignaled\u001b[0m \u001b[1;33m=\u001b[0m \u001b[0mself\u001b[0m\u001b[1;33m.\u001b[0m\u001b[0m_cond\u001b[0m\u001b[1;33m.\u001b[0m\u001b[0mwait\u001b[0m\u001b[1;33m(\u001b[0m\u001b[0mtimeout\u001b[0m\u001b[1;33m)\u001b[0m\u001b[1;33m\u001b[0m\u001b[0m\n\u001b[0m\u001b[0;32m    552\u001b[0m             \u001b[1;32mreturn\u001b[0m \u001b[0msignaled\u001b[0m\u001b[1;33m\u001b[0m\u001b[0m\n\u001b[0;32m    553\u001b[0m \u001b[1;33m\u001b[0m\u001b[0m\n",
      "\u001b[1;32m~\\Anaconda3\\lib\\threading.py\u001b[0m in \u001b[0;36mwait\u001b[1;34m(self, timeout)\u001b[0m\n\u001b[0;32m    293\u001b[0m         \u001b[1;32mtry\u001b[0m\u001b[1;33m:\u001b[0m    \u001b[1;31m# restore state no matter what (e.g., KeyboardInterrupt)\u001b[0m\u001b[1;33m\u001b[0m\u001b[0m\n\u001b[0;32m    294\u001b[0m             \u001b[1;32mif\u001b[0m \u001b[0mtimeout\u001b[0m \u001b[1;32mis\u001b[0m \u001b[1;32mNone\u001b[0m\u001b[1;33m:\u001b[0m\u001b[1;33m\u001b[0m\u001b[0m\n\u001b[1;32m--> 295\u001b[1;33m                 \u001b[0mwaiter\u001b[0m\u001b[1;33m.\u001b[0m\u001b[0macquire\u001b[0m\u001b[1;33m(\u001b[0m\u001b[1;33m)\u001b[0m\u001b[1;33m\u001b[0m\u001b[0m\n\u001b[0m\u001b[0;32m    296\u001b[0m                 \u001b[0mgotit\u001b[0m \u001b[1;33m=\u001b[0m \u001b[1;32mTrue\u001b[0m\u001b[1;33m\u001b[0m\u001b[0m\n\u001b[0;32m    297\u001b[0m             \u001b[1;32melse\u001b[0m\u001b[1;33m:\u001b[0m\u001b[1;33m\u001b[0m\u001b[0m\n",
      "\u001b[1;31mKeyboardInterrupt\u001b[0m: "
     ]
    }
   ],
   "source": [
    "#svm.SVC  C-Support Vector Classification.\n",
    "parameters ={\n",
    "         'C': [0.005,0.01,0.05,0.1,0.25,0.5,0.75,1.0,2.0],\n",
    "         'kernel': ['linear','poly','rbf'],\n",
    "         'degree': [2,3,4,5,6],\n",
    "        'gamma': [1e-3,1e-2,1,2,'auto'],\n",
    "        'tol' : [1e-4],\n",
    "        'decision_function_shape' : ['ovo','ovr'],\n",
    "        }\n",
    "SVM = svm.SVC()\n",
    "\n",
    "grid_search_cv = GridSearchCV(SVM, parameters, cv=5,n_jobs=-1, return_train_score=True, refit=True,verbose=1)\n",
    "grid_search_cv.fit(features_train_04_pca, labels_train)\n",
    "resultsdf=pd.DataFrame(grid_search_cv.cv_results_)\n",
    "print(\"The train score:\", str(grid_search_cv.score(features_train_04_pca, labels_train)), \"with parameters:\", grid_search_cv.best_params_)\n",
    "pred = grid_search_cv.best_estimator_.predict(features_test_04_pca)\n",
    "\n",
    "checkmetrics(pred, labels_test, 'C-Support Vector Classification')"
   ]
  },
  {
   "cell_type": "code",
   "execution_count": null,
   "metadata": {},
   "outputs": [],
   "source": [
    "#LinearSVC Linear Support Vector Classification\n",
    "\n",
    "parameters ={\n",
    "#       'penalty' : ['l2'], #Specifies the norm used in the penalization. The ‘l2’ penalty is the standard used in SVC. The ‘l1’ leads to coef_ vectors that are sparse.\n",
    "#       'loss' : ['squared_hinge'], #Specifies the loss function. ‘hinge’ is the standard SVM loss (used e.g. by the SVC class) while ‘squared_hinge’ is the square of the hinge loss.\n",
    "#        dual' : ['False'], #Select the algorithm to either solve the dual or primal optimization problem. Prefer dual=False when n_samples > n_features.\n",
    "        'tol' : [1e-5,1e-4,1e-3],\n",
    "        'C': [0.05,0.1,0.5,0.8,1.0,2.0,5.0,10.0,15.0],\n",
    "        'multi_class'  : ['ovr','crammer_singer'],\n",
    "        'random_state' : [42],\n",
    "        'tol' : [1e-4],\n",
    "        'max_iter' : [1000],\n",
    "        }\n",
    "SVM = LinearSVC()\n",
    "grid_search_cv = GridSearchCV(SVM, parameters, cv=5,n_jobs=-1, return_train_score=True, refit=True,verbose=1)\n",
    "grid_search_cv.fit(features_train_04_pca, labels_train)\n",
    "resultsdf=pd.DataFrame(grid_search_cv.cv_results_)\n",
    "print(\"The train score:\", str(grid_search_cv.score(features_train_04_pca, labels_train)), \"with parameters:\", grid_search_cv.best_params_)\n",
    "pred = grid_search_cv.best_estimator_.predict(features_test_04_pca)\n",
    "\n",
    "checkmetrics(pred, labels_test, 'Linear Support Vector Classification')"
   ]
  },
  {
   "cell_type": "code",
   "execution_count": null,
   "metadata": {},
   "outputs": [],
   "source": [
    "# sklearn.svm.NuSVC Nu-Support Vector Classification\n",
    "# defaults: nu=0.5, kernel=’rbf’, degree=3, gamma=’auto’, coef0=0.0, shrinking=True, probability=False, tol=0.001, cache_size=200, class_weight=None, verbose=False, max_iter=-1, decision_function_shape=’ovr’, random_state=None)\n",
    "parameters = {\n",
    "    'nu': [0.001,0.0025,0.005,0.0075,0.1], #other larger nu values is \"not fleasible\"\n",
    "    'kernel': ['linear','poly','rbf'],\n",
    "    'degree': [2,3,4,5,6],\n",
    "    'gamma': [1e-5,1e-4,1e-3,1e-2,'auto'],\n",
    "    'tol' : [1e-4],\n",
    "    'decision_function_shape' : ['ovo','ovr'],\n",
    "\n",
    "}\n",
    "\n",
    "\n",
    "SVM = NuSVC()\n",
    "grid_search_cv = GridSearchCV(SVM, parameters, cv=5,n_jobs=-1, return_train_score=True, refit=True,verbose=1)\n",
    "grid_search_cv.fit(features_train_04_pca, labels_train)\n",
    "resultsdf=pd.DataFrame(grid_search_cv.cv_results_)\n",
    "print(\"The train score:\", str(grid_search_cv.score(features_train_04_pca, labels_train)), \"with parameters:\", grid_search_cv.best_params_)\n",
    "pred = grid_search_cv.best_estimator_.predict(features_test_04_pca)\n",
    "\n",
    "checkmetrics(pred, labels_test, 'Nu-Support Vector Classification')\n"
   ]
  },
  {
   "cell_type": "markdown",
   "metadata": {},
   "source": [
    "# Using Important Features with threshold >= 0.09 (XGB)"
   ]
  },
  {
   "cell_type": "code",
   "execution_count": null,
   "metadata": {},
   "outputs": [],
   "source": [
    "#svm.SVC  C-Support Vector Classification.\n",
    "parameters ={\n",
    "         'C': [0.005,0.01,0.05,0.1,0.25,0.5,0.75,1.0,2.0],\n",
    "         'kernel': ['linear','poly','rbf'],\n",
    "         'degree': [2,3,4,5,6],\n",
    "        'gamma': [1e-3,1e-2,1,2,'auto'],\n",
    "        'tol' : [1e-4],\n",
    "        'decision_function_shape' : ['ovo','ovr'],\n",
    "        }\n",
    "SVM = svm.SVC()\n",
    "\n",
    "grid_search_cv = GridSearchCV(SVM, parameters, cv=5,n_jobs=-1, return_train_score=True, refit=True,verbose=1)\n",
    "grid_search_cv.fit(features_train_009, labels_train)\n",
    "resultsdf=pd.DataFrame(grid_search_cv.cv_results_)\n",
    "print(\"The train score:\", str(grid_search_cv.score(features_train_009, labels_train)), \"with parameters:\", grid_search_cv.best_params_)\n",
    "pred = grid_search_cv.best_estimator_.predict(features_test_009)\n",
    "\n",
    "checkmetrics(pred, labels_test, 'C-Support Vector Classification')"
   ]
  },
  {
   "cell_type": "code",
   "execution_count": null,
   "metadata": {},
   "outputs": [],
   "source": [
    "#LinearSVC Linear Support Vector Classification\n",
    "\n",
    "parameters ={\n",
    "#       'penalty' : ['l2'], #Specifies the norm used in the penalization. The ‘l2’ penalty is the standard used in SVC. The ‘l1’ leads to coef_ vectors that are sparse.\n",
    "#       'loss' : ['squared_hinge'], #Specifies the loss function. ‘hinge’ is the standard SVM loss (used e.g. by the SVC class) while ‘squared_hinge’ is the square of the hinge loss.\n",
    "#        dual' : ['False'], #Select the algorithm to either solve the dual or primal optimization problem. Prefer dual=False when n_samples > n_features.\n",
    "        'tol' : [1e-5,1e-4,1e-3],\n",
    "        'C': [0.05,0.1,0.5,0.8,1.0,2.0,5.0,10.0,15.0],\n",
    "        'multi_class'  : ['ovr','crammer_singer'],\n",
    "        'random_state' : [42],\n",
    "        'tol' : [1e-4],\n",
    "        'max_iter' : [1000],\n",
    "        }\n",
    "SVM = LinearSVC()\n",
    "grid_search_cv = GridSearchCV(SVM, parameters, cv=5,n_jobs=-1, return_train_score=True, refit=True,verbose=1)\n",
    "grid_search_cv.fit(features_train_009, labels_train)\n",
    "resultsdf=pd.DataFrame(grid_search_cv.cv_results_)\n",
    "print(\"The train score:\", str(grid_search_cv.score(features_train_009, labels_train)), \"with parameters:\", grid_search_cv.best_params_)\n",
    "pred = grid_search_cv.best_estimator_.predict(features_test_009)\n",
    "\n",
    "checkmetrics(pred, labels_test, 'Linear Support Vector Classification')"
   ]
  },
  {
   "cell_type": "code",
   "execution_count": null,
   "metadata": {},
   "outputs": [],
   "source": [
    "# sklearn.svm.NuSVC Nu-Support Vector Classification\n",
    "# defaults: nu=0.5, kernel=’rbf’, degree=3, gamma=’auto’, coef0=0.0, shrinking=True, probability=False, tol=0.001, cache_size=200, class_weight=None, verbose=False, max_iter=-1, decision_function_shape=’ovr’, random_state=None)\n",
    "parameters = {\n",
    "    'nu': [0.001,0.0025,0.005,0.0075,0.1], #other larger nu values is \"not fleasible\"\n",
    "    'kernel': ['linear','poly','rbf'],\n",
    "    'degree': [2,3,4,5,6],\n",
    "    'gamma': [1e-5,1e-4,1e-3,1e-2,'auto'],\n",
    "    'tol' : [1e-4],\n",
    "    'decision_function_shape' : ['ovo','ovr'],\n",
    "\n",
    "}\n",
    "\n",
    "\n",
    "SVM = NuSVC()\n",
    "grid_search_cv = GridSearchCV(SVM, parameters, cv=5,n_jobs=-1, return_train_score=True, refit=True,verbose=1)\n",
    "grid_search_cv.fit(features_train_009, labels_train)\n",
    "resultsdf=pd.DataFrame(grid_search_cv.cv_results_)\n",
    "print(\"The train score:\", str(grid_search_cv.score(features_train_009, labels_train)), \"with parameters:\", grid_search_cv.best_params_)\n",
    "pred = grid_search_cv.best_estimator_.predict(features_test_009)\n",
    "\n",
    "checkmetrics(pred, labels_test, 'Nu-Support Vector Classification')\n"
   ]
  },
  {
   "cell_type": "markdown",
   "metadata": {},
   "source": [
    "# Using PCA with Important Features (threshold >= 0.09) (XGB)"
   ]
  },
  {
   "cell_type": "code",
   "execution_count": null,
   "metadata": {},
   "outputs": [],
   "source": [
    "#svm.SVC  C-Support Vector Classification.\n",
    "parameters ={\n",
    "         'C': [0.005,0.01,0.05,0.1,0.25,0.5,0.75,1.0,2.0],\n",
    "         'kernel': ['linear','poly','rbf'],\n",
    "         'degree': [2,3,4,5,6],\n",
    "        'gamma': [1e-3,1e-2,1,2,'auto'],\n",
    "        'tol' : [1e-4],\n",
    "        'decision_function_shape' : ['ovo','ovr'],\n",
    "        }\n",
    "SVM = svm.SVC()\n",
    "\n",
    "grid_search_cv = GridSearchCV(SVM, parameters, cv=5,n_jobs=-1, return_train_score=True, refit=True,verbose=1)\n",
    "grid_search_cv.fit(features_train_009_pca, labels_train)\n",
    "resultsdf=pd.DataFrame(grid_search_cv.cv_results_)\n",
    "print(\"The train score:\", str(grid_search_cv.score(features_train_009_pca, labels_train)), \"with parameters:\", grid_search_cv.best_params_)\n",
    "pred = grid_search_cv.best_estimator_.predict(features_test_009_pca)\n",
    "\n",
    "checkmetrics(pred, labels_test, 'C-Support Vector Classification')"
   ]
  },
  {
   "cell_type": "code",
   "execution_count": null,
   "metadata": {},
   "outputs": [],
   "source": [
    "#LinearSVC Linear Support Vector Classification\n",
    "\n",
    "parameters ={\n",
    "#       'penalty' : ['l2'], #Specifies the norm used in the penalization. The ‘l2’ penalty is the standard used in SVC. The ‘l1’ leads to coef_ vectors that are sparse.\n",
    "#       'loss' : ['squared_hinge'], #Specifies the loss function. ‘hinge’ is the standard SVM loss (used e.g. by the SVC class) while ‘squared_hinge’ is the square of the hinge loss.\n",
    "#        dual' : ['False'], #Select the algorithm to either solve the dual or primal optimization problem. Prefer dual=False when n_samples > n_features.\n",
    "        'tol' : [1e-5,1e-4,1e-3],\n",
    "        'C': [0.05,0.1,0.5,0.8,1.0,2.0,5.0,10.0,15.0],\n",
    "        'multi_class'  : ['ovr','crammer_singer'],\n",
    "        'random_state' : [42],\n",
    "        'tol' : [1e-4],\n",
    "        'max_iter' : [1000],\n",
    "        }\n",
    "SVM = LinearSVC()\n",
    "grid_search_cv = GridSearchCV(SVM, parameters, cv=5,n_jobs=-1, return_train_score=True, refit=True,verbose=1)\n",
    "grid_search_cv.fit(features_train_009_pca, labels_train)\n",
    "resultsdf=pd.DataFrame(grid_search_cv.cv_results_)\n",
    "print(\"The train score:\", str(grid_search_cv.score(features_train_009_pca, labels_train)), \"with parameters:\", grid_search_cv.best_params_)\n",
    "pred = grid_search_cv.best_estimator_.predict(features_test_009_pca)\n",
    "\n",
    "checkmetrics(pred, labels_test, 'Linear Support Vector Classification')"
   ]
  },
  {
   "cell_type": "code",
   "execution_count": null,
   "metadata": {},
   "outputs": [],
   "source": [
    "# sklearn.svm.NuSVC Nu-Support Vector Classification\n",
    "# defaults: nu=0.5, kernel=’rbf’, degree=3, gamma=’auto’, coef0=0.0, shrinking=True, probability=False, tol=0.001, cache_size=200, class_weight=None, verbose=False, max_iter=-1, decision_function_shape=’ovr’, random_state=None)\n",
    "parameters = {\n",
    "    'nu': [0.001,0.0025,0.005,0.0075,0.1], #other larger nu values is \"not fleasible\"\n",
    "    'kernel': ['linear','poly','rbf'],\n",
    "    'degree': [2,3,4,5,6],\n",
    "    'gamma': [1e-5,1e-4,1e-3,1e-2,'auto'],\n",
    "    'tol' : [1e-4],\n",
    "    'decision_function_shape' : ['ovo','ovr'],\n",
    "\n",
    "}\n",
    "\n",
    "\n",
    "SVM = NuSVC()\n",
    "grid_search_cv = GridSearchCV(SVM, parameters, cv=5,n_jobs=-1, return_train_score=True, refit=True,verbose=1)\n",
    "grid_search_cv.fit(features_train_009_pca, labels_train)\n",
    "resultsdf=pd.DataFrame(grid_search_cv.cv_results_)\n",
    "print(\"The train score:\", str(grid_search_cv.score(features_train_009_pca, labels_train)), \"with parameters:\", grid_search_cv.best_params_)\n",
    "pred = grid_search_cv.best_estimator_.predict(features_test_009_pca)\n",
    "\n",
    "checkmetrics(pred, labels_test, 'Nu-Support Vector Classification')\n"
   ]
  },
  {
   "cell_type": "code",
   "execution_count": null,
   "metadata": {},
   "outputs": [],
   "source": []
  }
 ],
 "metadata": {
  "kernelspec": {
   "display_name": "Python 3",
   "language": "python",
   "name": "python3"
  },
  "language_info": {
   "codemirror_mode": {
    "name": "ipython",
    "version": 3
   },
   "file_extension": ".py",
   "mimetype": "text/x-python",
   "name": "python",
   "nbconvert_exporter": "python",
   "pygments_lexer": "ipython3",
   "version": "3.6.4"
  }
 },
 "nbformat": 4,
 "nbformat_minor": 2
}
