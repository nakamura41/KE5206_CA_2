{
 "cells": [
  {
   "cell_type": "code",
   "execution_count": 1,
   "metadata": {},
   "outputs": [
    {
     "name": "stderr",
     "output_type": "stream",
     "text": [
      "C:\\Users\\RyanT\\Anaconda3\\lib\\site-packages\\ggplot\\utils.py:81: FutureWarning: pandas.tslib is deprecated and will be removed in a future version.\n",
      "You can access Timestamp as pandas.Timestamp\n",
      "  pd.tslib.Timestamp,\n",
      "C:\\Users\\RyanT\\Anaconda3\\lib\\site-packages\\ggplot\\stats\\smoothers.py:4: FutureWarning: The pandas.lib module is deprecated and will be removed in a future version. These are private functions and can be accessed from pandas._libs.lib instead\n",
      "  from pandas.lib import Timestamp\n",
      "C:\\Users\\RyanT\\Anaconda3\\lib\\site-packages\\statsmodels\\compat\\pandas.py:56: FutureWarning: The pandas.core.datetools module is deprecated and will be removed in a future version. Please use the pandas.tseries module instead.\n",
      "  from pandas.core import datetools\n",
      "C:\\Users\\RyanT\\Anaconda3\\lib\\site-packages\\sklearn\\cross_validation.py:41: DeprecationWarning: This module was deprecated in version 0.18 in favor of the model_selection module into which all the refactored classes and functions are moved. Also note that the interface of the new CV iterators are different from that of this module. This module will be removed in 0.20.\n",
      "  \"This module will be removed in 0.20.\", DeprecationWarning)\n"
     ]
    }
   ],
   "source": [
    "%matplotlib inline\n",
    "\n",
    "import pandas as pd\n",
    "import numpy as np\n",
    "import seaborn as sns\n",
    "\n",
    "from imblearn.over_sampling import SMOTE #for SMOTE -> install package using: conda install -c conda-forge imbalanced-learn\n",
    "from imblearn.over_sampling import RandomOverSampler \n",
    "from scipy import stats, integrate\n",
    "import matplotlib.pyplot as plt\n",
    "import ggplot\n",
    "import scipy\n",
    "from sklearn.linear_model import LogisticRegression \n",
    "from sklearn.model_selection import train_test_split \n",
    "from sklearn import metrics\n",
    "from sklearn.svm import LinearSVC\n",
    "from sklearn.svm import NuSVC\n",
    "#from sklearn.svm import SVR #just Testing for regression on other continous data of dataset\n",
    "from sklearn.decomposition import PCA, NMF\n",
    "from sklearn.preprocessing import OneHotEncoder\n",
    "from sklearn.datasets import load_digits\n",
    "from sklearn.feature_selection import SelectKBest, chi2\n",
    "\n",
    "\n",
    "import pylab as pl\n",
    "from itertools import cycle\n",
    "from sklearn import cross_validation\n",
    "from sklearn.svm import SVC\n",
    "\n",
    "features_list = ['age','sex','cp','trestbps','chol','fbs','restecg','thalach','exang','oldpeak','slope','ca','thal','class']\n",
    "dataset1=pd.read_csv(\"data\\Heart_Disease_Data.csv\")\n"
   ]
  },
  {
   "cell_type": "code",
   "execution_count": 2,
   "metadata": {},
   "outputs": [
    {
     "name": "stderr",
     "output_type": "stream",
     "text": [
      "C:\\Users\\RyanT\\Anaconda3\\lib\\site-packages\\ipykernel_launcher.py:4: FutureWarning: convert_objects is deprecated.  To re-infer data dtypes for object columns, use DataFrame.infer_objects()\n",
      "For all other conversions use the data-type specific converters pd.to_datetime, pd.to_timedelta and pd.to_numeric.\n",
      "  after removing the cwd from sys.path.\n"
     ]
    }
   ],
   "source": [
    "# SVM requires that each data instance is represented as a vector of real numbers\n",
    "# If you already have numeric dtypes (int8|16|32|64,float64,boolean) you can convert it to another \"numeric\" dtype using Pandas .astype() method. Demo: In [90]: df = pd.DataFrame(np.random.randint(10**5,10**7,(5,3)),columns=list('abc'), dtype=np.int64) In [91]: df Out[91]: a b c 0 9059440 9590567 2076918 1 5861102 4566089 1947323 2 6636568 162770 2487991 3 6794572 5236903 5628779 4 470121 4044395 4546794 In [92]: df.dtypes Out[92]: a int64 b int64 c int64 dtype: object In [93]: df['a'] = df['a'].astype(float) In [94]: df.dtypes Out[94]: a float64 b int64 c int64 dtype: object It won't work for object (string) dtypes, that can't be converted to numbers: In [95]: df.loc[1, 'b'] = 'XXXXXX' In [96]: df Out[96]:...\n",
    "# Just make everything numeric for ease, later we will convert to ordinal/one-hot encoding.\n",
    "dataset1 = dataset1.convert_objects(convert_numeric=True)\n",
    "dataset1 = dataset1.astype('float')"
   ]
  },
  {
   "cell_type": "markdown",
   "metadata": {},
   "source": [
    "#### count missing value in terms of colunms #######"
   ]
  },
  {
   "cell_type": "code",
   "execution_count": 3,
   "metadata": {},
   "outputs": [
    {
     "name": "stdout",
     "output_type": "stream",
     "text": [
      "age               False\n",
      "sex               False\n",
      "cp                False\n",
      "trestbps          False\n",
      "chol              False\n",
      "fbs               False\n",
      "restecg           False\n",
      "thalach           False\n",
      "exang             False\n",
      "oldpeak           False\n",
      "slop              False\n",
      "ca                 True\n",
      "thal               True\n",
      "pred_attribute    False\n",
      "dtype: bool\n"
     ]
    }
   ],
   "source": [
    "#dataset.shape[0] - dataset.count()\n",
    "print(dataset1.isnull().any())\n",
    "dataset1 = dataset1.replace('?', np.nan)"
   ]
  },
  {
   "cell_type": "markdown",
   "metadata": {},
   "source": [
    "#### check for duplications"
   ]
  },
  {
   "cell_type": "code",
   "execution_count": 4,
   "metadata": {},
   "outputs": [
    {
     "data": {
      "text/plain": [
       "False"
      ]
     },
     "execution_count": 4,
     "metadata": {},
     "output_type": "execute_result"
    }
   ],
   "source": [
    "dataset1.duplicated().any()"
   ]
  },
  {
   "cell_type": "code",
   "execution_count": 5,
   "metadata": {},
   "outputs": [],
   "source": [
    "# based on https://pdfs.semanticscholar.org/daa0/f01f96a89fcfc5f41a2da67fb2a8966900ab.pdf \n",
    "# we should pick these features:\n",
    "Genetic_Based_Decision = dataset1[['cp','trestbps', 'restecg', 'thalach', 'ca', 'thal']]"
   ]
  },
  {
   "cell_type": "code",
   "execution_count": 6,
   "metadata": {},
   "outputs": [
    {
     "name": "stdout",
     "output_type": "stream",
     "text": [
      "outlier:  34.0 age\n",
      "outlier:  29.0 age\n",
      "outlier:  77.0 age\n",
      "outlier:  34.0 age\n",
      "outlier:  76.0 age\n",
      "outlier:  354.0 chol\n",
      "outlier:  340.0 chol\n",
      "outlier:  353.0 chol\n",
      "outlier:  417.0 chol\n",
      "outlier:  360.0 chol\n",
      "outlier:  141.0 chol\n",
      "outlier:  341.0 chol\n",
      "outlier:  407.0 chol\n",
      "outlier:  564.0 chol\n",
      "outlier:  394.0 chol\n",
      "outlier:  409.0 chol\n",
      "outlier:  126.0 chol\n",
      "outlier:  342.0 chol\n",
      "outlier:  131.0 chol\n",
      "outlier:  99.0 thalach\n",
      "outlier:  97.0 thalach\n",
      "outlier:  202.0 thalach\n",
      "outlier:  96.0 thalach\n",
      "outlier:  88.0 thalach\n",
      "outlier:  95.0 thalach\n",
      "outlier:  96.0 thalach\n",
      "outlier:  71.0 thalach\n",
      "outlier:  90.0 thalach\n",
      "outlier:  3.5 oldpeak\n",
      "outlier:  3.6 oldpeak\n",
      "outlier:  3.4 oldpeak\n",
      "outlier:  3.6 oldpeak\n",
      "outlier:  6.2 oldpeak\n",
      "outlier:  3.6 oldpeak\n",
      "outlier:  4.0 oldpeak\n",
      "outlier:  5.6 oldpeak\n",
      "outlier:  4.0 oldpeak\n",
      "outlier:  4.2 oldpeak\n",
      "outlier:  4.2 oldpeak\n",
      "outlier:  3.8 oldpeak\n",
      "outlier:  3.4 oldpeak\n",
      "outlier:  3.6 oldpeak\n",
      "outlier:  4.4 oldpeak\n",
      "outlier:  4.0 oldpeak\n",
      "outlier:  3.4 oldpeak\n",
      "(45, 'outliers. That is', 15.0, 'percent of the total list')\n"
     ]
    }
   ],
   "source": [
    "continuous_vars = dataset1[['age', 'restecg', 'chol', 'thalach', 'oldpeak']] \n",
    "\n",
    "def checkforoutlier(df):\n",
    "    outliersnumbers = 0\n",
    "    for column in df:\n",
    "        for number in df[column]:\n",
    "            if number < np.percentile(\n",
    "                df[column], 25)-(np.percentile(\n",
    "                df[column], 75)-np.percentile(\n",
    "                df[column], 25)) or number > np.percentile(\n",
    "                df[column], 75)+(np.percentile(\n",
    "                df[column], 75)-np.percentile(\n",
    "                df[column], 25)):\n",
    "                    print(\"outlier: \", number, column)\n",
    "                    outliersnumbers += 1\n",
    "    return outliersnumbers, 'outliers. That is', round(float(outliersnumbers)/float(len(df[column]))*100, 0), 'percent of the total list'\n",
    "\n",
    "print(checkforoutlier(continuous_vars))\n",
    "\n",
    "# Thalach seems very high, but after research a heartbeat of 202 is possible: "
   ]
  },
  {
   "cell_type": "code",
   "execution_count": 7,
   "metadata": {},
   "outputs": [],
   "source": [
    "# Two variables are discrete/ordinal: ca (number of major vessels colored by fluoroscopy) and num (diagnosis of heart disease)\n",
    "# Three can be directly viewed as 1 hot (because binary): 'sex':'male', 'fbs':'fasting blood sugar', 'exang':'exercise induced angina'\n",
    "\n",
    "# which leaves 4 for one-hot encoding. problem is that the values aren't unique, so have to manually\n",
    "# make extra columns:\n",
    "\n",
    "dataset1[\"cp\"] = dataset1[\"cp\"].replace([1,2,3,4], [\"typical angina\", \"atypical angina\", \"non-angina\", \"asymptomatic angina\"])\n",
    "dataset1[\"restecg\"] = dataset1[\"restecg\"].replace([0,1,2], [\"normalresecg\", \"ST-T wave abnormality\", \"left ventricular hypertrophy\"])\n",
    "dataset1[\"slop\"] = dataset1[\"slop\"].replace([1,2,3], [\"upsloping\", \"flat\", \"downsloping\"])\n",
    "dataset1[\"thal\"] = dataset1[\"thal\"].replace([3,6,7], [\"normalthal\", \"fixed defect\", \"reversible defect\"])\n",
    "\n",
    "x = dataset1[['cp', 'restecg', 'slop', 'thal']]\n",
    "for column in ['cp', 'restecg', 'slop', 'thal']:\n",
    "    one_hot = pd.get_dummies(dataset1[column])\n",
    "    dataset1 = dataset1.drop(column, axis=1)\n",
    "    dataset1 = dataset1.join(one_hot)"
   ]
  },
  {
   "cell_type": "code",
   "execution_count": 8,
   "metadata": {
    "_cell_guid": "b689622a-a475-40a8-bd33-e2b5e018d528",
    "_uuid": "2e13a97aaee5c269ff8f21fd7b66135927b66156"
   },
   "outputs": [],
   "source": [
    "### Extract features and labels from dataset for local testing:\n",
    "dataset1.dropna(inplace=True, axis=0, how=\"any\")\n",
    "Y=dataset1[\"pred_attribute\"]\n",
    "dataset1 = dataset1.drop(\"pred_attribute\", axis=1)\n",
    "X=dataset1"
   ]
  },
  {
   "cell_type": "code",
   "execution_count": 9,
   "metadata": {
    "_cell_guid": "2dacb7c2-6d4e-4a17-b5cb-d6ecd821c923",
    "_uuid": "c3355ae680b60b0daa713153f05b3709193af7f6"
   },
   "outputs": [],
   "source": [
    "# evaluate the model by splitting into train and test sets  #Edit by ryan, we aim to do 3 traditional sets in the end, this first split is 80/20\n",
    "features_train, features_test, labels_train, labels_test = train_test_split(X, Y, test_size=0.2, random_state=0)\n",
    "\n"
   ]
  },
  {
   "cell_type": "code",
   "execution_count": 10,
   "metadata": {
    "_cell_guid": "5065d9ba-be53-4431-bb86-152ee1673550",
    "_uuid": "00229a787842594dee105c79de5871548613a045"
   },
   "outputs": [
    {
     "name": "stdout",
     "output_type": "stream",
     "text": [
      "Counter({0.0: 131, 1.0: 42, 3.0: 32, 2.0: 26, 4.0: 8})\n",
      "Counter({0.0: 30, 1.0: 12, 2.0: 10, 4.0: 5, 3.0: 3})\n"
     ]
    }
   ],
   "source": [
    "import collections\n",
    "\n",
    "list1 = []\n",
    "for i in labels_train:\n",
    "    list1.append(i)\n",
    "counter=collections.Counter(list1)\n",
    "print(counter)\n",
    "\n",
    "list2 = []\n",
    "for i in labels_test:\n",
    "    list2.append(i)\n",
    "counter=collections.Counter(list2)\n",
    "print(counter)"
   ]
  },
  {
   "cell_type": "code",
   "execution_count": 11,
   "metadata": {},
   "outputs": [
    {
     "name": "stdout",
     "output_type": "stream",
     "text": [
      "0.7993311036789298\n"
     ]
    }
   ],
   "source": [
    "# Check\n",
    "print(len(features_train)/(len(features_train)+ len(features_test)))"
   ]
  },
  {
   "cell_type": "code",
   "execution_count": 12,
   "metadata": {},
   "outputs": [],
   "source": [
    "features_train_df = pd.DataFrame(features_train)\n",
    "features_train_df.to_csv('features_train.csv', index=False)\n",
    "\n",
    "features_test_df = pd.DataFrame(features_test)\n",
    "features_test_df.to_csv('features_test.csv', index=False)\n",
    "\n",
    "labels_train_df = pd.DataFrame(labels_train)\n",
    "labels_train_df.to_csv('labels_train.csv', index=False)\n",
    "\n",
    "labels_test_df = pd.DataFrame(labels_test)\n",
    "labels_test_df.to_csv('labels_test.csv', index=False)"
   ]
  },
  {
   "cell_type": "markdown",
   "metadata": {},
   "source": []
  },
  {
   "cell_type": "markdown",
   "metadata": {},
   "source": [
    "## Feature Importance Scores based on XGBoost (by David)"
   ]
  },
  {
   "cell_type": "code",
   "execution_count": 13,
   "metadata": {},
   "outputs": [
    {
     "name": "stdout",
     "output_type": "stream",
     "text": [
      "[0]\ttrain-mlogloss:1.56559\ttest-mlogloss:1.58009\n",
      "[1]\ttrain-mlogloss:1.52178\ttest-mlogloss:1.55242\n",
      "[2]\ttrain-mlogloss:1.48283\ttest-mlogloss:1.53258\n",
      "[3]\ttrain-mlogloss:1.4436\ttest-mlogloss:1.50955\n",
      "[4]\ttrain-mlogloss:1.40645\ttest-mlogloss:1.48689\n",
      "[5]\ttrain-mlogloss:1.3696\ttest-mlogloss:1.46478\n",
      "[6]\ttrain-mlogloss:1.33668\ttest-mlogloss:1.4465\n",
      "[7]\ttrain-mlogloss:1.30398\ttest-mlogloss:1.42958\n",
      "[8]\ttrain-mlogloss:1.27417\ttest-mlogloss:1.41113\n",
      "[9]\ttrain-mlogloss:1.24508\ttest-mlogloss:1.39635\n",
      "[10]\ttrain-mlogloss:1.21776\ttest-mlogloss:1.38117\n",
      "[11]\ttrain-mlogloss:1.19122\ttest-mlogloss:1.36531\n",
      "[12]\ttrain-mlogloss:1.1649\ttest-mlogloss:1.35248\n",
      "[13]\ttrain-mlogloss:1.14094\ttest-mlogloss:1.3428\n",
      "[14]\ttrain-mlogloss:1.11766\ttest-mlogloss:1.33034\n",
      "[15]\ttrain-mlogloss:1.09389\ttest-mlogloss:1.32069\n",
      "[16]\ttrain-mlogloss:1.07048\ttest-mlogloss:1.30956\n",
      "[17]\ttrain-mlogloss:1.05001\ttest-mlogloss:1.30091\n",
      "[18]\ttrain-mlogloss:1.0295\ttest-mlogloss:1.29026\n",
      "[19]\ttrain-mlogloss:1.00962\ttest-mlogloss:1.28262\n",
      "[20]\ttrain-mlogloss:0.990484\ttest-mlogloss:1.27358\n",
      "[21]\ttrain-mlogloss:0.971149\ttest-mlogloss:1.26544\n",
      "[22]\ttrain-mlogloss:0.953481\ttest-mlogloss:1.25678\n",
      "[23]\ttrain-mlogloss:0.935497\ttest-mlogloss:1.24986\n",
      "[24]\ttrain-mlogloss:0.918648\ttest-mlogloss:1.24317\n",
      "[25]\ttrain-mlogloss:0.90213\ttest-mlogloss:1.23805\n",
      "[26]\ttrain-mlogloss:0.885533\ttest-mlogloss:1.2316\n",
      "[27]\ttrain-mlogloss:0.870491\ttest-mlogloss:1.22592\n",
      "[28]\ttrain-mlogloss:0.855923\ttest-mlogloss:1.21801\n",
      "[29]\ttrain-mlogloss:0.842444\ttest-mlogloss:1.21463\n",
      "[30]\ttrain-mlogloss:0.829412\ttest-mlogloss:1.21203\n",
      "[31]\ttrain-mlogloss:0.81613\ttest-mlogloss:1.20927\n",
      "[32]\ttrain-mlogloss:0.803078\ttest-mlogloss:1.20722\n",
      "[33]\ttrain-mlogloss:0.789958\ttest-mlogloss:1.20277\n",
      "[34]\ttrain-mlogloss:0.778328\ttest-mlogloss:1.20102\n",
      "[35]\ttrain-mlogloss:0.76604\ttest-mlogloss:1.19735\n",
      "[36]\ttrain-mlogloss:0.754662\ttest-mlogloss:1.19144\n",
      "[37]\ttrain-mlogloss:0.742833\ttest-mlogloss:1.1881\n",
      "[38]\ttrain-mlogloss:0.731974\ttest-mlogloss:1.18594\n",
      "[39]\ttrain-mlogloss:0.720413\ttest-mlogloss:1.18219\n",
      "[40]\ttrain-mlogloss:0.710244\ttest-mlogloss:1.17914\n",
      "[41]\ttrain-mlogloss:0.699368\ttest-mlogloss:1.17555\n",
      "[42]\ttrain-mlogloss:0.689502\ttest-mlogloss:1.17317\n",
      "[43]\ttrain-mlogloss:0.679082\ttest-mlogloss:1.17147\n",
      "[44]\ttrain-mlogloss:0.669106\ttest-mlogloss:1.16952\n",
      "[45]\ttrain-mlogloss:0.66005\ttest-mlogloss:1.16628\n",
      "[46]\ttrain-mlogloss:0.650964\ttest-mlogloss:1.16376\n",
      "[47]\ttrain-mlogloss:0.642051\ttest-mlogloss:1.16227\n",
      "[48]\ttrain-mlogloss:0.632879\ttest-mlogloss:1.16145\n",
      "[49]\ttrain-mlogloss:0.624328\ttest-mlogloss:1.16242\n",
      "[50]\ttrain-mlogloss:0.616987\ttest-mlogloss:1.1611\n",
      "[51]\ttrain-mlogloss:0.608507\ttest-mlogloss:1.16131\n",
      "[52]\ttrain-mlogloss:0.60098\ttest-mlogloss:1.16217\n",
      "[53]\ttrain-mlogloss:0.592635\ttest-mlogloss:1.15957\n",
      "[54]\ttrain-mlogloss:0.58489\ttest-mlogloss:1.15967\n",
      "[55]\ttrain-mlogloss:0.577324\ttest-mlogloss:1.15978\n",
      "[56]\ttrain-mlogloss:0.569788\ttest-mlogloss:1.16035\n",
      "[57]\ttrain-mlogloss:0.562883\ttest-mlogloss:1.16186\n",
      "[58]\ttrain-mlogloss:0.555598\ttest-mlogloss:1.16111\n",
      "[59]\ttrain-mlogloss:0.548747\ttest-mlogloss:1.16195\n",
      "[60]\ttrain-mlogloss:0.54192\ttest-mlogloss:1.16094\n",
      "[61]\ttrain-mlogloss:0.535529\ttest-mlogloss:1.16124\n",
      "[62]\ttrain-mlogloss:0.529332\ttest-mlogloss:1.162\n",
      "[63]\ttrain-mlogloss:0.523076\ttest-mlogloss:1.16281\n",
      "[64]\ttrain-mlogloss:0.517169\ttest-mlogloss:1.16098\n",
      "[65]\ttrain-mlogloss:0.511494\ttest-mlogloss:1.16303\n",
      "[66]\ttrain-mlogloss:0.506028\ttest-mlogloss:1.16184\n",
      "[67]\ttrain-mlogloss:0.500552\ttest-mlogloss:1.163\n",
      "[68]\ttrain-mlogloss:0.494452\ttest-mlogloss:1.16196\n",
      "[69]\ttrain-mlogloss:0.48899\ttest-mlogloss:1.16186\n",
      "[70]\ttrain-mlogloss:0.483822\ttest-mlogloss:1.16323\n",
      "[71]\ttrain-mlogloss:0.478879\ttest-mlogloss:1.16377\n",
      "[72]\ttrain-mlogloss:0.473463\ttest-mlogloss:1.16342\n",
      "[73]\ttrain-mlogloss:0.468376\ttest-mlogloss:1.1627\n",
      "[74]\ttrain-mlogloss:0.463501\ttest-mlogloss:1.16236\n",
      "[75]\ttrain-mlogloss:0.458471\ttest-mlogloss:1.16397\n",
      "[76]\ttrain-mlogloss:0.45445\ttest-mlogloss:1.16423\n",
      "[77]\ttrain-mlogloss:0.449867\ttest-mlogloss:1.16682\n",
      "[78]\ttrain-mlogloss:0.444997\ttest-mlogloss:1.16748\n",
      "[79]\ttrain-mlogloss:0.440205\ttest-mlogloss:1.16586\n",
      "[80]\ttrain-mlogloss:0.435179\ttest-mlogloss:1.16606\n",
      "[81]\ttrain-mlogloss:0.430464\ttest-mlogloss:1.16606\n",
      "[82]\ttrain-mlogloss:0.425948\ttest-mlogloss:1.16602\n",
      "[83]\ttrain-mlogloss:0.421622\ttest-mlogloss:1.16526\n",
      "[84]\ttrain-mlogloss:0.417277\ttest-mlogloss:1.16827\n",
      "[85]\ttrain-mlogloss:0.412604\ttest-mlogloss:1.16777\n",
      "[86]\ttrain-mlogloss:0.409156\ttest-mlogloss:1.16958\n",
      "[87]\ttrain-mlogloss:0.404813\ttest-mlogloss:1.16816\n",
      "[88]\ttrain-mlogloss:0.400693\ttest-mlogloss:1.16803\n",
      "[89]\ttrain-mlogloss:0.396527\ttest-mlogloss:1.16904\n",
      "[90]\ttrain-mlogloss:0.392367\ttest-mlogloss:1.16981\n",
      "[91]\ttrain-mlogloss:0.388496\ttest-mlogloss:1.17178\n",
      "[92]\ttrain-mlogloss:0.384521\ttest-mlogloss:1.17118\n",
      "[93]\ttrain-mlogloss:0.380693\ttest-mlogloss:1.17294\n",
      "[94]\ttrain-mlogloss:0.376928\ttest-mlogloss:1.17317\n",
      "[95]\ttrain-mlogloss:0.3732\ttest-mlogloss:1.17535\n",
      "[96]\ttrain-mlogloss:0.369751\ttest-mlogloss:1.17668\n",
      "[97]\ttrain-mlogloss:0.366569\ttest-mlogloss:1.17847\n",
      "[98]\ttrain-mlogloss:0.363234\ttest-mlogloss:1.18012\n",
      "[99]\ttrain-mlogloss:0.359357\ttest-mlogloss:1.18164\n",
      "[100]\ttrain-mlogloss:0.355939\ttest-mlogloss:1.18359\n",
      "[101]\ttrain-mlogloss:0.352648\ttest-mlogloss:1.18633\n",
      "[102]\ttrain-mlogloss:0.349356\ttest-mlogloss:1.18599\n",
      "[103]\ttrain-mlogloss:0.346345\ttest-mlogloss:1.18689\n",
      "[104]\ttrain-mlogloss:0.343477\ttest-mlogloss:1.18897\n",
      "[105]\ttrain-mlogloss:0.340648\ttest-mlogloss:1.19096\n",
      "[106]\ttrain-mlogloss:0.337635\ttest-mlogloss:1.19144\n",
      "[107]\ttrain-mlogloss:0.334423\ttest-mlogloss:1.19324\n",
      "[108]\ttrain-mlogloss:0.331934\ttest-mlogloss:1.1935\n",
      "[109]\ttrain-mlogloss:0.328865\ttest-mlogloss:1.19293\n",
      "[110]\ttrain-mlogloss:0.326344\ttest-mlogloss:1.19378\n",
      "[111]\ttrain-mlogloss:0.323877\ttest-mlogloss:1.19538\n",
      "[112]\ttrain-mlogloss:0.3211\ttest-mlogloss:1.19729\n",
      "[113]\ttrain-mlogloss:0.318798\ttest-mlogloss:1.19818\n",
      "[114]\ttrain-mlogloss:0.316021\ttest-mlogloss:1.19935\n",
      "[115]\ttrain-mlogloss:0.313596\ttest-mlogloss:1.2018\n",
      "[116]\ttrain-mlogloss:0.3109\ttest-mlogloss:1.20344\n",
      "[117]\ttrain-mlogloss:0.308702\ttest-mlogloss:1.20401\n",
      "[118]\ttrain-mlogloss:0.306419\ttest-mlogloss:1.20547\n",
      "[119]\ttrain-mlogloss:0.303858\ttest-mlogloss:1.20541\n",
      "[120]\ttrain-mlogloss:0.301594\ttest-mlogloss:1.20662\n",
      "[121]\ttrain-mlogloss:0.299297\ttest-mlogloss:1.20736\n",
      "[122]\ttrain-mlogloss:0.296761\ttest-mlogloss:1.20847\n",
      "[123]\ttrain-mlogloss:0.294706\ttest-mlogloss:1.2119\n",
      "[124]\ttrain-mlogloss:0.292332\ttest-mlogloss:1.21448\n",
      "[125]\ttrain-mlogloss:0.290034\ttest-mlogloss:1.21519\n",
      "[126]\ttrain-mlogloss:0.287735\ttest-mlogloss:1.21687\n",
      "[127]\ttrain-mlogloss:0.285757\ttest-mlogloss:1.22008\n",
      "[128]\ttrain-mlogloss:0.283844\ttest-mlogloss:1.22024\n",
      "[129]\ttrain-mlogloss:0.281792\ttest-mlogloss:1.22061\n",
      "[130]\ttrain-mlogloss:0.279516\ttest-mlogloss:1.22335\n",
      "[131]\ttrain-mlogloss:0.277622\ttest-mlogloss:1.22497\n",
      "[132]\ttrain-mlogloss:0.275272\ttest-mlogloss:1.22602\n",
      "[133]\ttrain-mlogloss:0.27325\ttest-mlogloss:1.22716\n",
      "[134]\ttrain-mlogloss:0.271316\ttest-mlogloss:1.2278\n",
      "[135]\ttrain-mlogloss:0.269398\ttest-mlogloss:1.23052\n",
      "[136]\ttrain-mlogloss:0.267438\ttest-mlogloss:1.22975\n",
      "[137]\ttrain-mlogloss:0.2657\ttest-mlogloss:1.23166\n",
      "[138]\ttrain-mlogloss:0.263557\ttest-mlogloss:1.23385\n",
      "[139]\ttrain-mlogloss:0.261597\ttest-mlogloss:1.23363\n",
      "[140]\ttrain-mlogloss:0.259687\ttest-mlogloss:1.23454\n",
      "[141]\ttrain-mlogloss:0.258039\ttest-mlogloss:1.2349\n",
      "[142]\ttrain-mlogloss:0.256255\ttest-mlogloss:1.23431\n",
      "[143]\ttrain-mlogloss:0.254434\ttest-mlogloss:1.23655\n",
      "[144]\ttrain-mlogloss:0.252498\ttest-mlogloss:1.23809\n",
      "[145]\ttrain-mlogloss:0.250768\ttest-mlogloss:1.24001\n",
      "[146]\ttrain-mlogloss:0.248959\ttest-mlogloss:1.24049\n",
      "[147]\ttrain-mlogloss:0.247611\ttest-mlogloss:1.24209\n",
      "[148]\ttrain-mlogloss:0.245863\ttest-mlogloss:1.24453\n",
      "[149]\ttrain-mlogloss:0.244292\ttest-mlogloss:1.24609\n",
      "[150]\ttrain-mlogloss:0.242582\ttest-mlogloss:1.2475\n",
      "[151]\ttrain-mlogloss:0.240995\ttest-mlogloss:1.25002\n",
      "[152]\ttrain-mlogloss:0.239356\ttest-mlogloss:1.24944\n",
      "[153]\ttrain-mlogloss:0.237831\ttest-mlogloss:1.24948\n",
      "[154]\ttrain-mlogloss:0.236441\ttest-mlogloss:1.25113\n",
      "[155]\ttrain-mlogloss:0.234914\ttest-mlogloss:1.25111\n",
      "[156]\ttrain-mlogloss:0.233597\ttest-mlogloss:1.25243\n",
      "[157]\ttrain-mlogloss:0.232211\ttest-mlogloss:1.2533\n",
      "[158]\ttrain-mlogloss:0.230921\ttest-mlogloss:1.25454\n",
      "[159]\ttrain-mlogloss:0.229654\ttest-mlogloss:1.25669\n",
      "[160]\ttrain-mlogloss:0.228238\ttest-mlogloss:1.25844\n"
     ]
    },
    {
     "name": "stdout",
     "output_type": "stream",
     "text": [
      "[161]\ttrain-mlogloss:0.226814\ttest-mlogloss:1.26151\n",
      "[162]\ttrain-mlogloss:0.225299\ttest-mlogloss:1.26134\n",
      "[163]\ttrain-mlogloss:0.223828\ttest-mlogloss:1.26284\n",
      "[164]\ttrain-mlogloss:0.222529\ttest-mlogloss:1.26463\n",
      "[165]\ttrain-mlogloss:0.221054\ttest-mlogloss:1.26605\n",
      "[166]\ttrain-mlogloss:0.219676\ttest-mlogloss:1.26796\n",
      "[167]\ttrain-mlogloss:0.218413\ttest-mlogloss:1.27052\n",
      "[168]\ttrain-mlogloss:0.217222\ttest-mlogloss:1.27146\n",
      "[169]\ttrain-mlogloss:0.215872\ttest-mlogloss:1.27317\n",
      "[170]\ttrain-mlogloss:0.214516\ttest-mlogloss:1.27493\n",
      "[171]\ttrain-mlogloss:0.213127\ttest-mlogloss:1.27627\n",
      "[172]\ttrain-mlogloss:0.211735\ttest-mlogloss:1.27957\n",
      "[173]\ttrain-mlogloss:0.210434\ttest-mlogloss:1.28074\n",
      "[174]\ttrain-mlogloss:0.209319\ttest-mlogloss:1.28247\n",
      "[175]\ttrain-mlogloss:0.208058\ttest-mlogloss:1.28359\n",
      "[176]\ttrain-mlogloss:0.206931\ttest-mlogloss:1.28516\n",
      "[177]\ttrain-mlogloss:0.205931\ttest-mlogloss:1.28757\n",
      "[178]\ttrain-mlogloss:0.204955\ttest-mlogloss:1.28908\n",
      "[179]\ttrain-mlogloss:0.203777\ttest-mlogloss:1.2888\n",
      "[180]\ttrain-mlogloss:0.202627\ttest-mlogloss:1.28939\n",
      "[181]\ttrain-mlogloss:0.201599\ttest-mlogloss:1.29026\n",
      "[182]\ttrain-mlogloss:0.2004\ttest-mlogloss:1.29222\n",
      "[183]\ttrain-mlogloss:0.199317\ttest-mlogloss:1.29362\n",
      "[184]\ttrain-mlogloss:0.198219\ttest-mlogloss:1.29512\n",
      "[185]\ttrain-mlogloss:0.196981\ttest-mlogloss:1.2959\n",
      "[186]\ttrain-mlogloss:0.195842\ttest-mlogloss:1.29713\n",
      "[187]\ttrain-mlogloss:0.194859\ttest-mlogloss:1.29734\n",
      "[188]\ttrain-mlogloss:0.19366\ttest-mlogloss:1.29892\n",
      "[189]\ttrain-mlogloss:0.192776\ttest-mlogloss:1.29972\n",
      "[190]\ttrain-mlogloss:0.191875\ttest-mlogloss:1.30134\n",
      "[191]\ttrain-mlogloss:0.190943\ttest-mlogloss:1.3024\n",
      "[192]\ttrain-mlogloss:0.19007\ttest-mlogloss:1.30445\n",
      "[193]\ttrain-mlogloss:0.189188\ttest-mlogloss:1.30676\n",
      "[194]\ttrain-mlogloss:0.188235\ttest-mlogloss:1.30864\n",
      "[195]\ttrain-mlogloss:0.187139\ttest-mlogloss:1.31004\n",
      "[196]\ttrain-mlogloss:0.186265\ttest-mlogloss:1.3116\n",
      "[197]\ttrain-mlogloss:0.185462\ttest-mlogloss:1.31353\n",
      "[198]\ttrain-mlogloss:0.184588\ttest-mlogloss:1.31336\n",
      "[199]\ttrain-mlogloss:0.183672\ttest-mlogloss:1.31476\n",
      "[200]\ttrain-mlogloss:0.182778\ttest-mlogloss:1.31593\n",
      "[201]\ttrain-mlogloss:0.181717\ttest-mlogloss:1.31573\n",
      "[202]\ttrain-mlogloss:0.180819\ttest-mlogloss:1.31625\n",
      "[203]\ttrain-mlogloss:0.1799\ttest-mlogloss:1.31753\n",
      "[204]\ttrain-mlogloss:0.179097\ttest-mlogloss:1.3189\n",
      "[205]\ttrain-mlogloss:0.178312\ttest-mlogloss:1.32084\n",
      "[206]\ttrain-mlogloss:0.177485\ttest-mlogloss:1.3219\n",
      "[207]\ttrain-mlogloss:0.176764\ttest-mlogloss:1.32306\n",
      "[208]\ttrain-mlogloss:0.175977\ttest-mlogloss:1.32327\n",
      "[209]\ttrain-mlogloss:0.17522\ttest-mlogloss:1.32434\n",
      "[210]\ttrain-mlogloss:0.174543\ttest-mlogloss:1.32538\n",
      "[211]\ttrain-mlogloss:0.173851\ttest-mlogloss:1.3258\n",
      "[212]\ttrain-mlogloss:0.173113\ttest-mlogloss:1.32621\n",
      "[213]\ttrain-mlogloss:0.172253\ttest-mlogloss:1.32767\n",
      "[214]\ttrain-mlogloss:0.171509\ttest-mlogloss:1.32886\n",
      "[215]\ttrain-mlogloss:0.170726\ttest-mlogloss:1.32983\n",
      "[216]\ttrain-mlogloss:0.169955\ttest-mlogloss:1.33144\n",
      "[217]\ttrain-mlogloss:0.169101\ttest-mlogloss:1.33218\n",
      "[218]\ttrain-mlogloss:0.168319\ttest-mlogloss:1.3341\n",
      "[219]\ttrain-mlogloss:0.167644\ttest-mlogloss:1.3342\n",
      "[220]\ttrain-mlogloss:0.166885\ttest-mlogloss:1.33467\n",
      "[221]\ttrain-mlogloss:0.166139\ttest-mlogloss:1.33586\n",
      "[222]\ttrain-mlogloss:0.165286\ttest-mlogloss:1.33763\n",
      "[223]\ttrain-mlogloss:0.164658\ttest-mlogloss:1.33817\n",
      "[224]\ttrain-mlogloss:0.164\ttest-mlogloss:1.34043\n",
      "[225]\ttrain-mlogloss:0.163192\ttest-mlogloss:1.34151\n",
      "[226]\ttrain-mlogloss:0.162471\ttest-mlogloss:1.34307\n",
      "[227]\ttrain-mlogloss:0.161782\ttest-mlogloss:1.34322\n",
      "[228]\ttrain-mlogloss:0.161018\ttest-mlogloss:1.34336\n",
      "[229]\ttrain-mlogloss:0.160346\ttest-mlogloss:1.34411\n",
      "[230]\ttrain-mlogloss:0.159624\ttest-mlogloss:1.34582\n",
      "[231]\ttrain-mlogloss:0.159049\ttest-mlogloss:1.3468\n",
      "[232]\ttrain-mlogloss:0.158337\ttest-mlogloss:1.34826\n",
      "[233]\ttrain-mlogloss:0.157629\ttest-mlogloss:1.35025\n",
      "[234]\ttrain-mlogloss:0.157054\ttest-mlogloss:1.35283\n",
      "[235]\ttrain-mlogloss:0.156409\ttest-mlogloss:1.3535\n",
      "[236]\ttrain-mlogloss:0.155767\ttest-mlogloss:1.3538\n",
      "[237]\ttrain-mlogloss:0.155128\ttest-mlogloss:1.35459\n",
      "[238]\ttrain-mlogloss:0.154512\ttest-mlogloss:1.35509\n",
      "[239]\ttrain-mlogloss:0.153881\ttest-mlogloss:1.35614\n",
      "[240]\ttrain-mlogloss:0.153245\ttest-mlogloss:1.35782\n",
      "[241]\ttrain-mlogloss:0.152688\ttest-mlogloss:1.3585\n",
      "[242]\ttrain-mlogloss:0.152169\ttest-mlogloss:1.36041\n",
      "[243]\ttrain-mlogloss:0.151522\ttest-mlogloss:1.36256\n",
      "[244]\ttrain-mlogloss:0.151022\ttest-mlogloss:1.36278\n",
      "[245]\ttrain-mlogloss:0.150483\ttest-mlogloss:1.36346\n",
      "[246]\ttrain-mlogloss:0.149924\ttest-mlogloss:1.36412\n",
      "[247]\ttrain-mlogloss:0.149274\ttest-mlogloss:1.3647\n",
      "[248]\ttrain-mlogloss:0.148711\ttest-mlogloss:1.36484\n",
      "[249]\ttrain-mlogloss:0.148237\ttest-mlogloss:1.36685\n"
     ]
    }
   ],
   "source": [
    "import xgboost as xgb\n",
    "import operator\n",
    "\n",
    "xgb_params = {\n",
    "    'eta': 0.037,\n",
    "    'max_depth': 5,\n",
    "    'subsample': 0.80,\n",
    "    'objective': 'multi:softprob',\n",
    "    'eval_metric': 'mlogloss',\n",
    "    'lambda': 0.8,   \n",
    "    'alpha': 0.4,\n",
    "    'silent': 1,\n",
    "    'num_class': 5\n",
    "}\n",
    "\n",
    "dtrain = xgb.DMatrix(features_train, labels_train)\n",
    "dtest = xgb.DMatrix(features_test, labels_test)\n",
    "\n",
    "num_boost_rounds = 250\n",
    "\n",
    "watchlist = [(dtrain, 'train'), (dtest, 'test')]\n",
    "\n",
    "# train model\n",
    "xgb_model = xgb.train(xgb_params, dtrain, num_boost_rounds, watchlist)"
   ]
  },
  {
   "cell_type": "code",
   "execution_count": 14,
   "metadata": {
    "scrolled": false
   },
   "outputs": [
    {
     "data": {
      "text/plain": [
       "<matplotlib.axes._subplots.AxesSubplot at 0x1a890d97c18>"
      ]
     },
     "execution_count": 14,
     "metadata": {},
     "output_type": "execute_result"
    },
    {
     "data": {
      "text/plain": [
       "<matplotlib.figure.Figure at 0x1a890d2f8d0>"
      ]
     },
     "metadata": {},
     "output_type": "display_data"
    },
    {
     "data": {
      "image/png": "[encoded data removed]",
      "text/plain": [
       "<matplotlib.figure.Figure at 0x1a890d97390>"
      ]
     },
     "metadata": {},
     "output_type": "display_data"
    }
   ],
   "source": [
    "importance = xgb_model.get_fscore()\n",
    "importance = sorted(importance.items(), key=operator.itemgetter(1))\n",
    "\n",
    "importance_df = pd.DataFrame(importance, columns=['feature', 'fscore'])\n",
    "\n",
    "# Plot Feature Importance\n",
    "plt.figure()\n",
    "importance_df.plot(kind='barh', x='feature', y='fscore', legend=False, figsize=(10, 10))"
   ]
  },
  {
   "cell_type": "code",
   "execution_count": 15,
   "metadata": {},
   "outputs": [],
   "source": [
    "def feature_selection(dataframe, importance_scores_df, threshold=0.4):\n",
    "    normalized_df = importance_scores_df.copy()\n",
    "    normalized_df['fscore'] = (importance_scores_df['fscore'] - importance_scores_df['fscore'].min())/(importance_scores_df['fscore'].max()-importance_scores_df['fscore'].min())\n",
    "    normalized_df = normalized_df[normalized_df['fscore'] >= threshold]\n",
    "    new_dataframe = dataframe.filter(items=normalized_df['feature'].tolist())\n",
    "    return new_dataframe\n",
    "\n",
    "features_train_009_df = feature_selection(features_train_df, importance_df, threshold=0.09)\n",
    "features_train_009 = features_train_009_df.as_matrix()\n",
    "features_train_04_df = feature_selection(features_train_df, importance_df, threshold=0.4)\n",
    "features_train_04 = features_train_04_df.as_matrix()\n",
    "\n",
    "features_test_009_df = feature_selection(features_test_df, importance_df, threshold=0.09)\n",
    "features_test_009 = features_test_009_df.as_matrix()\n",
    "features_test_04_df = feature_selection(features_test_df, importance_df, threshold=0.4)\n",
    "features_test_04 = features_test_04_df.as_matrix()"
   ]
  },
  {
   "cell_type": "markdown",
   "metadata": {},
   "source": [
    "## Principal Component Analysis (by David)"
   ]
  },
  {
   "cell_type": "code",
   "execution_count": 16,
   "metadata": {},
   "outputs": [
    {
     "name": "stdout",
     "output_type": "stream",
     "text": [
      "Number of components for Dataset with threshold=0.4 is 2\n",
      "Number of components for Dataset with threshold=0.09 is 5\n"
     ]
    }
   ],
   "source": [
    "from numpy import linalg as LA\n",
    "\n",
    "def eigen_scores(dataframe):\n",
    "    dataframe-=np.mean(dataframe, axis=0)\n",
    "    dataframe/=np.std(dataframe, axis=0)\n",
    "    cov_mat=np.cov(dataframe, rowvar=False)\n",
    "    evals, evecs = np.linalg.eigh(cov_mat)\n",
    "    idx = np.argsort(evals)[::-1]\n",
    "    evecs = evecs[:,idx]\n",
    "    evals = evals[idx]\n",
    "    return evals, evecs\n",
    "\n",
    "def my_pca(dataframe, n_components):\n",
    "    pca=PCA(n_components=n_components)\n",
    "    return pca.fit_transform(dataframe)\n",
    "    \n",
    "eigenvalues, eigenvectors = eigen_scores(features_test_04.copy())\n",
    "n_components_04 = len(np.where(eigenvalues >= 1)[0])\n",
    "print(\"Number of components for Dataset with threshold=0.4 is {}\".format(n_components_04))\n",
    "\n",
    "features_train_04_pca = my_pca(features_train_04, n_components_04)\n",
    "features_test_04_pca = my_pca(features_test_04, n_components_04)\n",
    "\n",
    "eigenvalues, eigenvectors = eigen_scores(features_test_009.copy())\n",
    "n_components_009 = len(np.where(eigenvalues >= 1)[0])\n",
    "print(\"Number of components for Dataset with threshold=0.09 is {}\".format(n_components_009))\n",
    "\n",
    "features_train_009_pca = my_pca(features_train_009, n_components_009)\n",
    "features_test_009_pca = my_pca(features_test_009, n_components_009)"
   ]
  },
  {
   "cell_type": "markdown",
   "metadata": {},
   "source": [
    "# Modelling And Training"
   ]
  },
  {
   "cell_type": "markdown",
   "metadata": {},
   "source": [
    "We have an relatively small dataset. Therefore, we should do our feature selection based on a cross-\n",
    "validated set. "
   ]
  },
  {
   "cell_type": "markdown",
   "metadata": {},
   "source": [
    "### SMOTE for SVM - Balancing only on the training set, not the validation set  [This is for the traditional training -not the cross validated one]"
   ]
  },
  {
   "cell_type": "code",
   "execution_count": 17,
   "metadata": {
    "scrolled": true
   },
   "outputs": [
    {
     "name": "stderr",
     "output_type": "stream",
     "text": [
      "C:\\Users\\RyanT\\Anaconda3\\lib\\site-packages\\sklearn\\utils\\deprecation.py:77: DeprecationWarning: Function _ratio_float is deprecated; Use a float for 'ratio' is deprecated from version 0.2. The support will be removed in 0.4. Use a dict, str, or a callable instead.\n",
      "  warnings.warn(msg, category=DeprecationWarning)\n"
     ]
    }
   ],
   "source": [
    "#further divide the 'traditional' non-cross set into training 80/20  for pure training and cross validation  \n",
    "features_train_notoversampled, features_validate, labels_train_notoversampled, labels_validate = train_test_split(features_train, labels_train, test_size = .2, random_state=0)\n",
    "\n",
    "sm = SMOTE(random_state=0, ratio = 1.0, kind= 'svm' )\n",
    "#x_train_res, y_train_res = sm.fit_sample(x_train, y_train)\n",
    "features_train_oversampled, labels_train_oversampled = sm.fit_sample(features_train_notoversampled, labels_train_notoversampled)\n",
    "\n",
    "#re-enter into original variables\n",
    "##features_train = features_train_oversampled\n",
    "##labels_train = labels_train_oversampled\n",
    "\n",
    "#Below 2 lines if we want to want to force the array back into dataframe    \n",
    "##features_train = pd.DataFrame(features_train_oversampled,columns=[\"age\",\"sex\",\"cp\",\"trestbps\",\"chol\",\"fbs\",\"restecg\",\"thalach\",\"exang\",\"oldpeak\",\"slop\",\"ca\",\"thal\"])\n",
    "##labels_train = pd.DataFrame(labels_train_oversampled,columns=[\"pred_attribute\"])"
   ]
  },
  {
   "cell_type": "markdown",
   "metadata": {},
   "source": [
    "## Standard Scaler (by David)\n",
    "SVC Models are only any good when the data is scaled. Lets scale the data and build the model"
   ]
  },
  {
   "cell_type": "code",
   "execution_count": 18,
   "metadata": {},
   "outputs": [
    {
     "data": {
      "text/plain": [
       "array([[-1.19127179, -1.39664501, -0.55805859, ..., -0.21964884,\n",
       "         0.91567545, -0.81934649],\n",
       "       [-0.75808205,  0.71600156, -1.32901815, ..., -0.21964884,\n",
       "         0.91567545, -0.81934649],\n",
       "       [ 0.        , -1.39664501,  0.15783243, ..., -0.21964884,\n",
       "         0.91567545, -0.81934649],\n",
       "       ..., \n",
       "       [-2.05765127, -1.39664501,  0.32303804, ..., -0.21964884,\n",
       "         0.91567545, -0.81934649],\n",
       "       [-0.43318974,  0.71600156,  0.98386052, ..., -0.21964884,\n",
       "        -1.09208999,  1.22048488],\n",
       "       [ 0.86637948, -1.39664501,  0.43317512, ..., -0.21964884,\n",
       "         0.91567545, -0.81934649]])"
      ]
     },
     "execution_count": 18,
     "metadata": {},
     "output_type": "execute_result"
    }
   ],
   "source": [
    "from sklearn.preprocessing import MinMaxScaler\n",
    "from sklearn import preprocessing\n",
    "from sklearn.preprocessing import StandardScaler\n",
    "from sklearn.preprocessing import RobustScaler\n",
    "from sklearn.preprocessing import Normalizer\n",
    "from sklearn.preprocessing.data import QuantileTransformer\n",
    "\n",
    "scaler = MinMaxScaler()\n",
    "Standard_scaler = StandardScaler()\n",
    "Robust_scaler = preprocessing.RobustScaler(quantile_range=(25, 75))\n",
    "Quantile_scalar = preprocessing.QuantileTransformer(output_distribution='normal')\n",
    "\n",
    "features_train = Standard_scaler.fit_transform(features_train)\n",
    "features_test = Standard_scaler.transform(features_test)\n",
    "\n",
    "features_train_009 = Standard_scaler.fit_transform(features_train_009)\n",
    "features_test_009 = Standard_scaler.transform(features_test_009)\n",
    "\n",
    "features_train_04 = Standard_scaler.fit_transform(features_train_04)\n",
    "features_test_04 = Standard_scaler.transform(features_test_04)\n",
    "\n",
    "features_train_009_pca = Standard_scaler.fit_transform(features_train_009_pca)\n",
    "features_test_009_pca = Standard_scaler.transform(features_test_009_pca)\n",
    "\n",
    "features_train_04_pca = Standard_scaler.fit_transform(features_train_04_pca)\n",
    "features_test_04_pca = Standard_scaler.transform(features_test_04_pca)\n",
    "\n"
   ]
  },
  {
   "cell_type": "markdown",
   "metadata": {},
   "source": [
    "# Balancing only on the training set, not the validation set\n",
    "Unfortunately SMOTE categorial implementation is not really implemented\n",
    "We will do undersampling of majority AND oversampling of minority -> Done using external program SPSS "
   ]
  },
  {
   "cell_type": "code",
   "execution_count": 23,
   "metadata": {},
   "outputs": [
    {
     "name": "stderr",
     "output_type": "stream",
     "text": [
      "C:\\Users\\RyanT\\Anaconda3\\lib\\site-packages\\ipykernel_launcher.py:4: FutureWarning: reshape is deprecated and will raise in a subsequent release. Please use .values.reshape(...) instead\n",
      "  after removing the cwd from sys.path.\n"
     ]
    }
   ],
   "source": [
    "# Export data to files for external program to balance the data\n",
    "\n",
    "#without features selection\n",
    "merged = np.concatenate((features_train, labels_train.reshape((-1, 1))), axis=1)\n",
    "merged_df = pd.DataFrame(merged) \n",
    "merged_df.to_csv(\"data/train_NoEng_NB.csv\", index=False)\n",
    "\n",
    "#features_train_009\n",
    " \n",
    "#features_train_04 \n",
    "\n",
    "#features_train_009_pca \n",
    "\n",
    "#features_train_04_pca"
   ]
  },
  {
   "cell_type": "code",
   "execution_count": 55,
   "metadata": {},
   "outputs": [],
   "source": [
    "df = pd.read_csv(\"data/train_noEng_Balanced.csv\")\n",
    "\n",
    "labels_train = df[\"22\"]\n",
    "df = df.drop(\"22\", axis=1)\n",
    "\n",
    "features_train= df.as_matrix()\n",
    "#print(features_train)"
   ]
  },
  {
   "cell_type": "code",
   "execution_count": 56,
   "metadata": {},
   "outputs": [],
   "source": [
    "\n",
    "from sklearn.cross_validation import StratifiedShuffleSplit\n",
    "from sklearn.cross_validation import train_test_split\n",
    "from sklearn.cross_validation import KFold\n",
    "from sklearn.metrics import precision_score\n",
    "from sklearn.metrics import recall_score\n",
    "from sklearn.metrics import confusion_matrix\n",
    "from sklearn.metrics import f1_score\n",
    "#from sklearn import grid_search\n",
    "#from sklearn.grid_search import GridSearchCV\n",
    "from sklearn.metrics import make_scorer\n",
    "from sklearn.metrics import accuracy_score\n",
    "from sklearn.model_selection import GridSearchCV\n",
    "from sklearn.model_selection import RandomizedSearchCV\n",
    "from sklearn.metrics import classification_report\n",
    "from sklearn.pipeline import Pipeline\n",
    "from sklearn.preprocessing import MinMaxScaler\n",
    "from sklearn.preprocessing import StandardScaler\n",
    "from sklearn import svm\n",
    "from sklearn.metrics import mean_squared_error\n",
    "import seaborn as sns\n",
    "from scipy.stats import reciprocal, uniform\n",
    "\n",
    "def checkmetrics(pred, labels_test, name):\n",
    "    sns.set()\n",
    "    print('The accuracy of ', name, 'is: ', accuracy_score(pred, labels_test))\n",
    "    matrix = confusion_matrix(labels_test, pred)\n",
    "    ax = sns.heatmap(matrix, annot=True, fmt=\"d\", cmap=\"Blues\")\n",
    "    print(ax)\n",
    "    print(classification_report(pred, labels_test))"
   ]
  },
  {
   "cell_type": "markdown",
   "metadata": {},
   "source": [
    "## Feature selection?"
   ]
  },
  {
   "cell_type": "code",
   "execution_count": 57,
   "metadata": {},
   "outputs": [
    {
     "name": "stdout",
     "output_type": "stream",
     "text": [
      "Features sorted by their score using lasso:\n",
      "[(0.54000000000000004, 'exang'), (0.48499999999999999, 'thalach'), (0.48499999999999999, 'oldpeak'), (0.40000000000000002, 'age'), (0.33500000000000002, 'fbs'), (0.044999999999999998, 'ca'), (0.02, 'restecg'), (0.0050000000000000001, 'slope'), (0.0, 'trestbps'), (0.0, 'thal'), (0.0, 'sex'), (0.0, 'cp'), (0.0, 'class'), (0.0, 'chol')]\n",
      "Features sorted by their score using Linear Regression:\n",
      "[(1, 'class'), (3, 'oldpeak'), (5, 'exang'), (7, 'restecg'), (8, 'sex'), (9, 'thal'), (10, 'thalach'), (12, 'ca'), (17, 'slope'), (18, 'chol'), (19, 'cp'), (20, 'age'), (21, 'fbs'), (22, 'trestbps')]\n"
     ]
    },
    {
     "name": "stderr",
     "output_type": "stream",
     "text": [
      "C:\\Users\\RyanT\\Anaconda3\\lib\\site-packages\\sklearn\\utils\\deprecation.py:58: DeprecationWarning: Class RandomizedLasso is deprecated; The class RandomizedLasso is deprecated in 0.19 and will be removed in 0.21.\n",
      "  warnings.warn(msg, category=DeprecationWarning)\n"
     ]
    }
   ],
   "source": [
    "# Feature selection using RFECV to pick best features,\n",
    "from sklearn.svm import SVR\n",
    "from sklearn.feature_selection import RFE\n",
    "from sklearn.linear_model import LinearRegression\n",
    "from sklearn.linear_model import RandomizedLasso\n",
    "from sklearn.feature_selection import RFECV\n",
    "rlasso = RandomizedLasso(alpha=0.025)\n",
    "names = features_list\n",
    "rlasso.fit(features_train, labels_train)\n",
    " \n",
    "print(\"Features sorted by their score using lasso:\")\n",
    "print(sorted(zip(map(lambda x: round(x, 4), rlasso.scores_), \n",
    "                 names), reverse=True))\n",
    "\n",
    "#use linear regression as the model\n",
    "lr = LinearRegression()\n",
    "#rank all features, i.e continue the elimination until the last one\n",
    "rfe = RFE(lr, n_features_to_select=1)\n",
    "rfe.fit(X,Y)\n",
    " \n",
    "print(\"Features sorted by their score using Linear Regression:\")\n",
    "print(sorted(zip(map(lambda x: round(x, 4), rfe.ranking_), names)))"
   ]
  },
  {
   "cell_type": "markdown",
   "metadata": {},
   "source": [
    "## Modelling with HyperParameters -Tuning - Default Dataset"
   ]
  },
  {
   "cell_type": "code",
   "execution_count": 58,
   "metadata": {},
   "outputs": [
    {
     "name": "stdout",
     "output_type": "stream",
     "text": [
      "Fitting 5 folds for each of 1350 candidates, totalling 6750 fits\n"
     ]
    },
    {
     "name": "stderr",
     "output_type": "stream",
     "text": [
      "[Parallel(n_jobs=-1)]: Done  34 tasks      | elapsed:    3.6s\n",
      "[Parallel(n_jobs=-1)]: Done 3651 tasks      | elapsed:    8.1s\n",
      "[Parallel(n_jobs=-1)]: Done 6750 out of 6750 | elapsed:   12.6s finished\n"
     ]
    },
    {
     "name": "stdout",
     "output_type": "stream",
     "text": [
      "The train score: 1.0 with parameters: {'C': 0.005, 'decision_function_shape': 'ovo', 'degree': 5, 'gamma': 1, 'kernel': 'poly', 'tol': 0.0001}\n",
      "The accuracy of  C-Support Vector Classification is:  0.816666666667\n",
      "Axes(0.125,0.125;0.62x0.755)\n",
      "             precision    recall  f1-score   support\n",
      "\n",
      "        0.0       0.80      0.96      0.87        25\n",
      "        1.0       0.92      0.58      0.71        19\n",
      "        2.0       0.90      0.90      0.90        10\n",
      "        3.0       1.00      0.75      0.86         4\n",
      "        4.0       0.40      1.00      0.57         2\n",
      "\n",
      "avg / total       0.85      0.82      0.81        60\n",
      "\n"
     ]
    },
    {
     "data": {
      "image/png": "[encoded data removed]",
      "text/plain": [
       "<matplotlib.figure.Figure at 0x1a8988dd400>"
      ]
     },
     "metadata": {},
     "output_type": "display_data"
    }
   ],
   "source": [
    "#svm.SVC  C-Support Vector Classification.\n",
    "parameters ={\n",
    "         'C': [0.005,0.01,0.05,0.1,0.25,0.5,0.75,1.0,2.0],\n",
    "         'kernel': ['linear','poly','rbf'],\n",
    "         'degree': [2,3,4,5,6],\n",
    "        'gamma': [1e-3,1e-2,1,2,'auto'],\n",
    "        'tol' : [1e-4],\n",
    "        'decision_function_shape' : ['ovo','ovr'],\n",
    "        }\n",
    "SVM = svm.SVC()\n",
    "\n",
    "grid_search_cv = GridSearchCV(SVM, parameters, cv=5,n_jobs=-1, return_train_score=True, refit=True,verbose=1)\n",
    "grid_search_cv.fit(features_train, labels_train)\n",
    "resultsdf=pd.DataFrame(grid_search_cv.cv_results_)\n",
    "print(\"The train score:\", str(grid_search_cv.score(features_train, labels_train)), \"with parameters:\", grid_search_cv.best_params_)\n",
    "pred = grid_search_cv.best_estimator_.predict(features_test)\n",
    "\n",
    "checkmetrics(pred, labels_test, 'C-Support Vector Classification')"
   ]
  },
  {
   "cell_type": "code",
   "execution_count": 48,
   "metadata": {},
   "outputs": [
    {
     "name": "stdout",
     "output_type": "stream",
     "text": [
      "Fitting 5 folds for each of 18 candidates, totalling 90 fits\n"
     ]
    },
    {
     "name": "stderr",
     "output_type": "stream",
     "text": [
      "[Parallel(n_jobs=-1)]: Done  34 tasks      | elapsed:    4.1s\n",
      "[Parallel(n_jobs=-1)]: Done  90 out of  90 | elapsed:   11.1s finished\n"
     ]
    },
    {
     "name": "stdout",
     "output_type": "stream",
     "text": [
      "The train score: 0.660583941606 with parameters: {'C': 10.0, 'max_iter': 1000, 'multi_class': 'ovr', 'random_state': 42, 'tol': 0.0001}\n",
      "The accuracy of  Linear Support Vector Classification is:  0.5\n",
      "Axes(0.125,0.125;0.62x0.755)\n",
      "             precision    recall  f1-score   support\n",
      "\n",
      "        0.0       0.73      0.79      0.76        28\n",
      "        1.0       0.17      0.25      0.20         8\n",
      "        2.0       0.30      0.30      0.30        10\n",
      "        3.0       0.33      0.12      0.18         8\n",
      "        4.0       0.40      0.33      0.36         6\n",
      "\n",
      "avg / total       0.50      0.50      0.49        60\n",
      "\n"
     ]
    },
    {
     "data": {
      "image/png": "[encoded data removed]",
      "text/plain": [
       "<matplotlib.figure.Figure at 0x1a8935379b0>"
      ]
     },
     "metadata": {},
     "output_type": "display_data"
    }
   ],
   "source": [
    "#LinearSVC Linear Support Vector Classification\n",
    "\n",
    "parameters ={\n",
    "#       'penalty' : ['l2'], #Specifies the norm used in the penalization. The ‘l2’ penalty is the standard used in SVC. The ‘l1’ leads to coef_ vectors that are sparse.\n",
    "#       'loss' : ['squared_hinge'], #Specifies the loss function. ‘hinge’ is the standard SVM loss (used e.g. by the SVC class) while ‘squared_hinge’ is the square of the hinge loss.\n",
    "#        dual' : ['False'], #Select the algorithm to either solve the dual or primal optimization problem. Prefer dual=False when n_samples > n_features.\n",
    "        'tol' : [1e-5,1e-4,1e-3],\n",
    "        'C': [0.05,0.1,0.5,0.8,1.0,2.0,5.0,10.0,15.0],\n",
    "        'multi_class'  : ['ovr','crammer_singer'],\n",
    "        'random_state' : [42],\n",
    "        'tol' : [1e-4],\n",
    "        'max_iter' : [1000],\n",
    "        }\n",
    "SVM = LinearSVC()\n",
    "grid_search_cv = GridSearchCV(SVM, parameters, cv=5,n_jobs=-1, return_train_score=True, refit=True,verbose=1)\n",
    "grid_search_cv.fit(features_train, labels_train)\n",
    "resultsdf=pd.DataFrame(grid_search_cv.cv_results_)\n",
    "print(\"The train score:\", str(grid_search_cv.score(features_train, labels_train)), \"with parameters:\", grid_search_cv.best_params_)\n",
    "pred = grid_search_cv.best_estimator_.predict(features_test)\n",
    "\n",
    "checkmetrics(pred, labels_test, 'Linear Support Vector Classification')"
   ]
  },
  {
   "cell_type": "code",
   "execution_count": 34,
   "metadata": {},
   "outputs": [
    {
     "name": "stdout",
     "output_type": "stream",
     "text": [
      "Fitting 5 folds for each of 2250 candidates, totalling 11250 fits\n"
     ]
    },
    {
     "name": "stderr",
     "output_type": "stream",
     "text": [
      "[Parallel(n_jobs=-1)]: Done  34 tasks      | elapsed:    3.4s\n",
      "[Parallel(n_jobs=-1)]: Done 6073 tasks      | elapsed:    8.7s\n",
      "[Parallel(n_jobs=-1)]: Done 11250 out of 11250 | elapsed:   12.9s finished\n"
     ]
    },
    {
     "name": "stdout",
     "output_type": "stream",
     "text": [
      "The train score: 0.748175182482 with parameters: {'decision_function_shape': 'ovo', 'degree': 2, 'gamma': 0.0001, 'kernel': 'rbf', 'nu': 0.1, 'tol': 1e-05}\n",
      "The accuracy of  Nu-Support Vector Classification is:  0.65\n",
      "Axes(0.125,0.125;0.62x0.755)\n",
      "             precision    recall  f1-score   support\n",
      "\n",
      "        0.0       0.80      0.80      0.80        30\n",
      "        1.0       0.33      0.44      0.38         9\n",
      "        2.0       0.60      0.75      0.67         8\n",
      "        3.0       1.00      0.30      0.46        10\n",
      "        4.0       0.40      0.67      0.50         3\n",
      "\n",
      "avg / total       0.72      0.65      0.65        60\n",
      "\n",
      "GridSearchCV(cv=5, error_score='raise',\n",
      "       estimator=NuSVC(cache_size=200, class_weight=None, coef0=0.0,\n",
      "   decision_function_shape='ovr', degree=3, gamma='auto', kernel='rbf',\n",
      "   max_iter=-1, nu=0.5, probability=False, random_state=None,\n",
      "   shrinking=True, tol=0.001, verbose=False),\n",
      "       fit_params=None, iid=True, n_jobs=-1,\n",
      "       param_grid={'nu': [0.001, 0.0025, 0.005, 0.0075, 0.1], 'kernel': ['linear', 'poly', 'rbf'], 'degree': [2, 3, 4, 5, 6], 'gamma': [1e-05, 0.0001, 0.001, 0.01, 'auto'], 'tol': [1e-05, 0.0001, 0.001], 'decision_function_shape': ['ovo', 'ovr']},\n",
      "       pre_dispatch='2*n_jobs', refit=True, return_train_score=True,\n",
      "       scoring=None, verbose=1)\n"
     ]
    },
    {
     "data": {
      "image/png": "[encoded data removed]",
      "text/plain": [
       "<matplotlib.figure.Figure at 0x1a8938fe6d8>"
      ]
     },
     "metadata": {},
     "output_type": "display_data"
    }
   ],
   "source": [
    "# sklearn.svm.NuSVC Nu-Support Vector Classification\n",
    "# defaults: nu=0.5, kernel=’rbf’, degree=3, gamma=’auto’, coef0=0.0, shrinking=True, probability=False, tol=0.001, cache_size=200, class_weight=None, verbose=False, max_iter=-1, decision_function_shape=’ovr’, random_state=None)\n",
    "parameters = {\n",
    "    'nu': [0.001,0.0025,0.005,0.0075,0.1], #other larger nu values is \"not fleasible\"\n",
    "    'kernel': ['linear','poly','rbf'],\n",
    "    'degree': [2,3,4,5,6],\n",
    "    'gamma': [1e-5,1e-4,1e-3,1e-2,'auto'],\n",
    "    'tol' : [1e-4],\n",
    "    'decision_function_shape' : ['ovo','ovr'],\n",
    "\n",
    "}\n",
    "\n",
    "\n",
    "SVM = NuSVC()\n",
    "grid_search_cv = GridSearchCV(SVM, parameters, cv=5,n_jobs=-1, return_train_score=True, refit=True,verbose=1)\n",
    "grid_search_cv.fit(features_train, labels_train)\n",
    "resultsdf=pd.DataFrame(grid_search_cv.cv_results_)\n",
    "print(\"The train score:\", str(grid_search_cv.score(features_train, labels_train)), \"with parameters:\", grid_search_cv.best_params_)\n",
    "pred = grid_search_cv.best_estimator_.predict(features_test)\n",
    "\n",
    "checkmetrics(pred, labels_test, 'Nu-Support Vector Classification')\n",
    "print(grid_search_cv)"
   ]
  },
  {
   "cell_type": "markdown",
   "metadata": {},
   "source": [
    "# Using Important Features with threshold >= 0.4 (XGB)"
   ]
  },
  {
   "cell_type": "markdown",
   "metadata": {},
   "source": [
    "### XGB1 "
   ]
  },
  {
   "cell_type": "code",
   "execution_count": null,
   "metadata": {},
   "outputs": [],
   "source": [
    "# Just like the polynomial features method, the similarity features method can be useful with any Machine\n",
    "# Learning algorithm, but it may be computationally expensive to compute all the additional features,\n",
    "# especially on large training sets. However, once again the kernel trick does its SVM magic: it makes it\n",
    "# possible to obtain a similar result as if you had added many similarity features, without actually having to\n",
    "# add them\n",
    "\n",
    "parameters ={\n",
    "    'C': [0.1,0.2,0.5,1,2,3,4,5], \n",
    "    'gamma': [0.00001,0.01,0.05,0.1,0.2,0.5,1,2,3,4,5],         \n",
    "#    \"class_weight\": ['balanced', None]\n",
    "}\n",
    "SVM = svm.SVC(kernel=\"rbf\")\n",
    "grid_search = GridSearchCV(SVM, parameters, cv=10)\n",
    "grid_search.fit(features_train_04, labels_train)\n",
    "\n",
    "print(\"The train score:\", str(grid_search.score(features_train_04, labels_train)), \"with parameters:\", grid_search.best_params_)\n",
    "\n",
    "pred = grid_search.predict(features_test_04)\n",
    "checkmetrics(pred, labels_test, 'No SMOTE - sq hinge - Validate - support vector machine linear')\n",
    "\n",
    "# no need to compare with one vs all"
   ]
  },
  {
   "cell_type": "markdown",
   "metadata": {},
   "source": [
    "# Using PCA with Important Features (threshold >= 0.09) (XGB)"
   ]
  },
  {
   "cell_type": "markdown",
   "metadata": {},
   "source": [
    "### RBF Kernel"
   ]
  },
  {
   "cell_type": "code",
   "execution_count": null,
   "metadata": {},
   "outputs": [],
   "source": [
    "# Just like the polynomial features method, the similarity features method can be useful with any Machine\n",
    "# Learning algorithm, but it may be computationally expensive to compute all the additional features,\n",
    "# especially on large training sets. However, once again the kernel trick does its SVM magic: it makes it\n",
    "# possible to obtain a similar result as if you had added many similarity features, without actually having to\n",
    "# add them\n",
    "\n",
    "parameters ={\n",
    "    'C': [0.1,0.2,0.5,1,2,3,4,5], \n",
    "    'gamma': [0.00001,0.01,0.05,0.1,0.2,0.5,1,2,3,4,5],         \n",
    "#    \"class_weight\": ['balanced', None]\n",
    "}\n",
    "SVM = svm.SVC(kernel=\"rbf\")\n",
    "grid_search = GridSearchCV(SVM, parameters, cv=10)\n",
    "grid_search.fit(features_train_009_pca, labels_train)\n",
    "\n",
    "print(\"The train score:\", str(grid_search.score(features_train_009_pca, labels_train)), \"with parameters:\", grid_search.best_params_)\n",
    "\n",
    "pred = grid_search.predict(features_test_009_pca)\n",
    "checkmetrics(pred, labels_test, 'No SMOTE - sq hinge - Validate - support vector machine linear')\n",
    "\n",
    "# no need to compare with one vs all"
   ]
  },
  {
   "cell_type": "markdown",
   "metadata": {},
   "source": [
    "# Using PCA with Important Features (threshold >= 0.4) by David (XGB)"
   ]
  },
  {
   "cell_type": "markdown",
   "metadata": {},
   "source": [
    "### RBF Kernel"
   ]
  },
  {
   "cell_type": "code",
   "execution_count": null,
   "metadata": {},
   "outputs": [],
   "source": [
    "# Just like the polynomial features method, the similarity features method can be useful with any Machine\n",
    "# Learning algorithm, but it may be computationally expensive to compute all the additional features,\n",
    "# especially on large training sets. However, once again the kernel trick does its SVM magic: it makes it\n",
    "# possible to obtain a similar result as if you had added many similarity features, without actually having to\n",
    "# add them\n",
    "\n",
    "parameters ={\n",
    "    'C': [0.1,0.2,0.5,1,2,3,4,5], \n",
    "    'gamma': [0.00001,0.01,0.05,0.1,0.2,0.5,1,2,3,4,5],         \n",
    "#    \"class_weight\": ['balanced', None]\n",
    "}\n",
    "SVM = svm.SVC(kernel=\"rbf\")\n",
    "grid_search = GridSearchCV(SVM, parameters, cv=10)\n",
    "grid_search.fit(features_train_04_pca, labels_train)\n",
    "\n",
    "print(\"The train score:\", str(grid_search.score(features_train_04_pca, labels_train)), \"with parameters:\", grid_search.best_params_)\n",
    "\n",
    "pred = grid_search.predict(features_test_04_pca)\n",
    "checkmetrics(pred, labels_test, 'No SMOTE - sq hinge - Validate - support vector machine linear')\n",
    "\n",
    "# no need to compare with one vs all"
   ]
  },
  {
   "cell_type": "code",
   "execution_count": null,
   "metadata": {},
   "outputs": [],
   "source": []
  },
  {
   "cell_type": "code",
   "execution_count": null,
   "metadata": {},
   "outputs": [],
   "source": []
  },
  {
   "cell_type": "code",
   "execution_count": null,
   "metadata": {},
   "outputs": [],
   "source": []
  },
  {
   "cell_type": "code",
   "execution_count": null,
   "metadata": {},
   "outputs": [],
   "source": []
  }
 ],
 "metadata": {
  "kernelspec": {
   "display_name": "Python 3",
   "language": "python",
   "name": "python3"
  },
  "language_info": {
   "codemirror_mode": {
    "name": "ipython",
    "version": 3
   },
   "file_extension": ".py",
   "mimetype": "text/x-python",
   "name": "python",
   "nbconvert_exporter": "python",
   "pygments_lexer": "ipython3",
   "version": "3.6.4"
  }
 },
 "nbformat": 4,
 "nbformat_minor": 2
}
